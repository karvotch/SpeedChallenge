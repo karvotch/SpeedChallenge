{
 "cells": [
  {
   "cell_type": "code",
   "execution_count": null,
   "metadata": {},
   "outputs": [],
   "source": [
    "import numpy as np\n",
    "import cv2\n",
    "import sys\n",
    "np.set_printoptions(threshold=sys.maxsize)"
   ]
  },
  {
   "cell_type": "code",
   "execution_count": null,
   "metadata": {},
   "outputs": [],
   "source": [
    "cap = cv2.VideoCapture('./train/trainGray.mp4')\n",
    "frameCount = int(cap.get(cv2.CAP_PROP_FRAME_COUNT))\n",
    "frameWidth = int(cap.get(cv2.CAP_PROP_FRAME_WIDTH))\n",
    "frameHeight = int(cap.get(cv2.CAP_PROP_FRAME_HEIGHT))\n",
    "\n",
    "bufTemp = np.empty((frameCount, frameHeight * frameWidth), np.dtype('uint8'))\n",
    "\n",
    "fc = 0\n",
    "ret = True\n",
    "\n",
    "while (fc < frameCount  and ret):\n",
    "    ret, x = np.array(cap.read())\n",
    "    x = x[:,:,0]\n",
    "    x.shape = frameHeight*frameWidth\n",
    "    bufTemp[fc] = x\n",
    "    fc += 1\n",
    "\n",
    "cap.release()\n",
    "\n",
    "x = bufTemp[0, 0:frameHeight*frameWidth]\n",
    "x.shape = (frameHeight, frameWidth)"
   ]
  },
  {
   "cell_type": "code",
   "execution_count": null,
   "metadata": {},
   "outputs": [],
   "source": [
    "y = np.loadtxt('./train/train.txt', np.dtype('float'))\n",
    "theta = np.zeros(((frameHeight*frameWidth)+1), np.dtype('float64'))\n",
    "m = frameCount-1\n",
    "# alpha = [0,0.01,0.02,0.04,0.08,0.16,0.32,0.64,1.28,2.56,5.12,10.24]\n",
    "# lmbda = [0,0.01,0.02,0.04,0.08,0.16,0.32,0.64,1.28,2.56,5.12,10.24]\n",
    "# Alpha greater than 0.16 will overflow and not work.\n",
    "# Alpha around 0.01 or lower seems to do the best.\n",
    "# alpha = [0.01,0.02,0.08,0.16]\n",
    "# alpha = [0.001,0.01]\n",
    "# alpha = [0.00001, 0.00005,0.0001]\n",
    "# alpha = [0.00001,0.00005]\n",
    "alpha = [0.0001]\n",
    "# lmbda = [0,0.01,0.16,0.64,5.12]\n",
    "# lmbda = [0,0.64,5.12]\n",
    "lmbda = [0.64]\n",
    "# alpha2 = .1\n",
    "# lmbda2 = .1\n",
    "alpLmbTheta = np.zeros((len(alpha), len(lmbda), ((frameHeight*frameWidth)+1)), np.dtype('float64'))\n",
    "alpLmbCost = np.zeros((len(alpha), len(lmbda)), np.dtype('float'))\n",
    "loopCount = 2 # Was 5\n",
    "costArr = np.zeros((loopCount), np.dtype('float'))"
   ]
  },
  {
   "cell_type": "code",
   "execution_count": null,
   "metadata": {},
   "outputs": [],
   "source": [
    "# Uses bufTemp, y, m, alpha, lmbda, alpLmbTheta, loopCount, costArr\n",
    "def learn():\n",
    "    for idx, alp in enumerate(alpha):\n",
    "        for idx2, lmbd in enumerate(lmbda):\n",
    "            for i in range(loopCount):\n",
    "                cost = 0\n",
    "                for j in range(1,frameCount):\n",
    "                    firstFrame = np.array(bufTemp[j-1], dtype='int16')\n",
    "                    secondFrame = np.array(bufTemp[j], dtype='int16')\n",
    "                    x = np.empty(((frameHeight*frameWidth)+1), np.dtype('float64'))\n",
    "                    x[0] = 1\n",
    "                    x[1:(frameHeight*frameWidth)+1] = secondFrame - firstFrame\n",
    "                    x = np.absolute(x)\n",
    "                    mean = np.mean(x)\n",
    "                    x = x - mean\n",
    "                    x = x/np.std(x)\n",
    "                    grad = ((np.dot(x, alpLmbTheta[idx, idx2]) - y[j])*x)/m\n",
    "                    grad[1:len(grad)] = grad[1:len(grad)] + ((lmbd/m)*alpLmbTheta[idx,idx2,1:len(alpLmbTheta[idx,idx2])])\n",
    "                    cost = cost + ((np.dot(x, alpLmbTheta[idx, idx2]) - y[j])**2)/2\n",
    "                    alpLmbTheta[idx,idx2] = (alpLmbTheta[idx,idx2] - (alp*grad))\n",
    "                costArr[i] = cost/(2*m)\n",
    "            print(costArr)\n",
    "        print()"
   ]
  },
  {
   "cell_type": "code",
   "execution_count": null,
   "metadata": {},
   "outputs": [],
   "source": [
    "learn()"
   ]
  },
  {
   "cell_type": "code",
   "execution_count": null,
   "metadata": {},
   "outputs": [],
   "source": [
    "def getResult():\n",
    "    result = np.empty((len(alpha), len(lmbda), frameCount), np.dtype('float'))\n",
    "                  \n",
    "    for idx in range(len(alpha)):\n",
    "        for idx2 in range(len(lmbda)):\n",
    "            for j in range(1,frameCount):\n",
    "                firstFrame = np.array(bufTemp[j-1], dtype='int16')\n",
    "                secondFrame = np.array(bufTemp[j], dtype='int16')\n",
    "                x = np.empty(((frameHeight*frameWidth)+1), np.dtype('int16'))\n",
    "                x[0] = 1\n",
    "                x[1:(frameHeight*frameWidth)+1] = secondFrame - firstFrame\n",
    "                x = np.absolute(x)\n",
    "                mean = np.mean(x)\n",
    "                x = x - mean\n",
    "                x = x/np.std(x)\n",
    "                result[idx][idx2][j-1] = np.dot(x,alpLmbTheta[idx,idx2])\n",
    "\n",
    "    # result.tofile('./train/train2.txt',sep=\"\\n\",format=\"%s\")"
   ]
  },
  {
   "cell_type": "code",
   "execution_count": null,
   "metadata": {},
   "outputs": [],
   "source": [
    "def getCost():\n",
    "    # cost2 = 0\n",
    "\n",
    "    for idx in range(len(alpha)):\n",
    "        for idx2 in range(len(lmbda)):\n",
    "            for j in range(1,frameCount):\n",
    "                alpLmbCost[idx,idx2] = alpLmbCost[idx,idx2] + (((result[idx][idx2][j-1] - y[j])**2)/2)\n",
    "            alpLmbCost[idx,idx2] = alpLmbCost[idx,idx2]/(2*m)\n",
    "            print(alpLmbCost[idx,idx2])\n",
    "        print()"
   ]
  },
  {
   "cell_type": "code",
   "execution_count": null,
   "metadata": {},
   "outputs": [],
   "source": [
    "# Using alpha = [0.01,0.02,0.08,0.16] and lmbda = [0,0.01,0.16,0.64,5.12].\n",
    "# COST:\n",
    "18.0072366112331\n",
    "18.00792197056106\n",
    "18.018201799515296\n",
    "18.05108992603151\n",
    "18.35736322982058\n",
    "\n",
    "20.667768211671344\n",
    "20.668988654825743\n",
    "20.6872918872337\n",
    "20.745817607300108\n",
    "21.287932598021055\n",
    "\n",
    "24.358303287691385\n",
    "24.362213322383123\n",
    "24.42084215981376\n",
    "24.608059184577392\n",
    "26.279205569988093\n",
    "\n",
    "45.89320509026542\n",
    "45.7379863691767\n",
    "43.549046868555735\n",
    "38.06298453813079\n",
    "29.215779316005758"
   ]
  },
  {
   "cell_type": "code",
   "execution_count": null,
   "metadata": {},
   "outputs": [],
   "source": [
    "# Using alpha = [0.001,0.01] and lmbda = [0,0.64,5.12].\n",
    "14.060539455234583\n",
    "14.067444181535224\n",
    "14.115775112531272\n",
    "\n",
    "18.0072366112331\n",
    "18.05108992603151\n",
    "18.35736322982058"
   ]
  },
  {
   "cell_type": "code",
   "execution_count": null,
   "metadata": {},
   "outputs": [],
   "source": [
    "# Using alpha = [0.00001,0.00005,0.0001] and lmbda = [0.64].\n",
    "35.95572340755013\n",
    "\n",
    "15.237483916910657\n",
    "\n",
    "11.397383082873452"
   ]
  },
  {
   "cell_type": "code",
   "execution_count": null,
   "metadata": {},
   "outputs": [],
   "source": []
  }
 ],
 "metadata": {
  "kernelspec": {
   "display_name": "Python 3",
   "language": "python",
   "name": "python3"
  },
  "language_info": {
   "codemirror_mode": {
    "name": "ipython",
    "version": 3
   },
   "file_extension": ".py",
   "mimetype": "text/x-python",
   "name": "python",
   "nbconvert_exporter": "python",
   "pygments_lexer": "ipython3",
   "version": "3.8.1"
  }
 },
 "nbformat": 4,
 "nbformat_minor": 2
}
