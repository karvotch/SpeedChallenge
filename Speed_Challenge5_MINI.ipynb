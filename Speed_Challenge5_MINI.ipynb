{
 "cells": [
  {
   "cell_type": "code",
   "execution_count": null,
   "metadata": {},
   "outputs": [],
   "source": [
    "import numpy as np\n",
    "import cv2\n",
    "import sys\n",
    "np.set_printoptions(threshold=sys.maxsize)"
   ]
  },
  {
   "cell_type": "code",
   "execution_count": null,
   "metadata": {},
   "outputs": [],
   "source": [
    "cap = cv2.VideoCapture('./train/trainGray.m4v')\n",
    "frameCount = int(cap.get(cv2.CAP_PROP_FRAME_COUNT))\n",
    "frameWidth = int(cap.get(cv2.CAP_PROP_FRAME_WIDTH))\n",
    "frameHeight = int(cap.get(cv2.CAP_PROP_FRAME_HEIGHT))\n",
    "\n",
    "bufTemp = np.empty((frameCount, frameHeight * frameWidth), np.dtype('uint8'))\n",
    "\n",
    "fc = 0\n",
    "ret = True\n",
    "\n",
    "while (fc < frameCount  and ret):\n",
    "    ret, x = np.array(cap.read())\n",
    "    x = x[:,:,0]\n",
    "    x.shape = frameHeight*frameWidth\n",
    "    bufTemp[fc] = x\n",
    "    fc += 1\n",
    "\n",
    "cap.release()\n",
    "\n",
    "# x = bufTemp[0, 0:frameHeight*frameWidth]\n",
    "# x.shape = (frameHeight, frameWidth)"
   ]
  },
  {
   "cell_type": "code",
   "execution_count": null,
   "metadata": {},
   "outputs": [],
   "source": [
    "x = np.empty((frameCount-1, (frameHeight*frameWidth)+1), np.dtype('float32'))\n",
    "print(x.shape)\n",
    "print(x[0].shape)\n",
    "x[0,0] = 1\n",
    "print(type(x[0,0]))\n",
    "print(x[0,0])\n",
    "for j in range(1,frameCount):\n",
    "    i = j-1\n",
    "    firstFrame = np.array(bufTemp[i], dtype='int16')\n",
    "    secondFrame = np.array(bufTemp[j], dtype='int16')\n",
    "    x[i,0] = 1\n",
    "    x[i,1:(frameHeight*frameWidth)+1] = secondFrame - firstFrame\n",
    "    x[i,:] = np.absolute(x[i,:])\n",
    "    mean = np.mean(x[i,:])\n",
    "    x[i,:] = x[i,:] - mean\n",
    "    x[i,:] = x[i,:]/np.std(x[i,:])"
   ]
  },
  {
   "cell_type": "code",
   "execution_count": null,
   "metadata": {},
   "outputs": [],
   "source": [
    "bufTemp = 0\n",
    "y = np.loadtxt('./train/train.txt', np.dtype('float64'))\n",
    "\n",
    "m = frameCount-1\n",
    "trainM = int(m*.6)\n",
    "valM = int((m - trainM)*.5)\n",
    "testM = m-(trainM + valM)\n",
    "\n",
    "rng_state = np.random.get_state()\n",
    "np.random.shuffle(x)\n",
    "np.random.set_state(rng_state)\n",
    "np.random.shuffle(y)\n",
    "# np.random.shuffle(x)\n",
    "\n",
    "trainX = x[0:trainM]\n",
    "valX = x[trainM:trainM+valM]\n",
    "testX = x[trainM+valM:trainM+valM+testM]\n",
    "\n",
    "trainY = y[1:trainM+1]\n",
    "valY = y[trainM+1:trainM+valM+1]\n",
    "testY = y[trainM+valM+1:trainM+valM+testM+1]\n",
    "# y = 0\n",
    "print(m, trainM, valM, testM)\n",
    "print(len(trainX),len(trainY),len(valX),len(valY),len(testX),len(testY))\n",
    "\n",
    "# Alpha greater than 0.16 will overflow and not work.\n",
    "# Alpha around 0.01 or lower seems to do the best.\n",
    "# alpha = np.array([0.1],np.dtype('float64'))\n",
    "alpha2 = np.array([0.00000610351563,0.0000122070313,0.0000244140625,0.000048828125,0.00009765625,0.0001953125,0.000390625,0.00078125,0.0015625,0.003125,0.00625,0.0125,0.025,0.05,0.1],np.dtype('float64'))\n",
    "alpha = np.array([0.0001953125],np.dtype('float64'))\n",
    "lmbda = np.array([0.64],np.dtype('float64'))\n",
    "\n",
    "outerLoopCount = len(alpha2)\n",
    "loopCount = 20 # Was 5\n",
    "costOnLoop = 20\n",
    "\n",
    "difDivider = 2\n",
    "\n",
    "\n",
    "alpLmbTheta = np.zeros((len(alpha), len(lmbda), ((frameHeight*frameWidth)+1)), np.dtype('float64'))\n",
    "\n",
    "alpLmbCost = np.zeros((len(alpha), len(lmbda)), np.dtype('float64'))\n",
    "costArr = np.zeros((1),np.dtype('float64'))\n",
    "beginArr = 1\n",
    "\n",
    "result = np.empty((len(alpha), len(lmbda), frameCount), np.dtype('float64'))\n",
    "\n",
    "stop = False\n",
    "threshold = 5.0\n",
    "\n",
    "count = 0"
   ]
  },
  {
   "cell_type": "code",
   "execution_count": null,
   "metadata": {},
   "outputs": [],
   "source": [
    "# Uses bufTemp, y, m, alpha, lmbda, alpLmbTheta, loopCount, costArr\n",
    "def learn():\n",
    "    for idx, alp in enumerate(alpha):\n",
    "        for idx2, lmbd in enumerate(lmbda):\n",
    "            print(idx+1, idx2+1, alp, lmbd)\n",
    "            for i in range(loopCount):\n",
    "                cost = 0\n",
    "                for j in range(trainM):\n",
    "                    z = np.array(trainX[j], np.dtype('float64'))\n",
    "#                     print(type(z), type(z[0]))\n",
    "                    grad = ((np.dot(z, alpLmbTheta[idx, idx2]) - trainY[j])*z)\n",
    "#                     print(type(np.dot(z, alpLmbTheta[idx, idx2])))\n",
    "#                     print(type(np.dot(z, alpLmbTheta[idx, idx2]) - trainY[j]))\n",
    "#                     print(type(((np.dot(z, alpLmbTheta[idx, idx2]) - trainY[j])*z)[0]))\n",
    "#                     print(type(grad), type(grad[0]))\n",
    "                    grad[1:len(grad)] = grad[1:len(grad)] + ((lmbd/m)*alpLmbTheta[idx,idx2,1:len(alpLmbTheta[idx,idx2])])\n",
    "                    alpLmbTheta[idx,idx2] = (alpLmbTheta[idx,idx2] - (alp*grad))\n",
    "                if i % costOnLoop == 0:\n",
    "                    cost = np.zeros((1), np.dtype('float64'))\n",
    "                    for j in range(1,frameCount):\n",
    "                        k = j-1\n",
    "#                         firstFrame = np.array(bufTemp[j-1], dtype='int16')\n",
    "#                         secondFrame = np.array(bufTemp[j], dtype='int16')\n",
    "#                         x = np.empty(((frameHeight*frameWidth)+1), np.dtype('float64'))\n",
    "#                         x[0] = 1\n",
    "#                         x[1:(frameHeight*frameWidth)+1] = secondFrame - firstFrame\n",
    "#                         x = np.absolute(x)\n",
    "#                         mean = np.mean(x)\n",
    "#                         x = x - mean\n",
    "#                         x = x/np.std(x)\n",
    "                        result[idx][idx2][k] = np.dot(x[k],alpLmbTheta[idx,idx2])\n",
    "#                         cost = cost + (((result[idx][idx2][j-1] - y[j])**2)/2)\n",
    "                        cost = cost + (((result[idx][idx2][k] - y[j])**2))\n",
    "#                     cost = cost/(2*m)\n",
    "                    cost = cost/(m)\n",
    "#                             global costArr, beginArr\n",
    "#                             costArr = np.append(costArr, cost)\n",
    "                    print(\"%d:\"%(i), cost)\n",
    "\n",
    "#                     if i >= 3:\n",
    "#                         if (costArr[-2] - costArr[-1]) <  ((costArr[beginArr] - costArr[beginArr+1])/difDivider):\n",
    "#                             alpha[idx] = alp/2\n",
    "# #                             costArr = np.append(costArr, 0)\n",
    "#                             beginArr = len(costArr)\n",
    "#                             return 1\n",
    "\n",
    "        print()"
   ]
  },
  {
   "cell_type": "code",
   "execution_count": null,
   "metadata": {},
   "outputs": [],
   "source": [
    "def startLearn():\n",
    "    learn()\n",
    "    while costArr[-1] > threshold:\n",
    "        learn()"
   ]
  },
  {
   "cell_type": "code",
   "execution_count": null,
   "metadata": {},
   "outputs": [],
   "source": [
    "def startLearnRange():\n",
    "    for i in range(outerLoopCount):\n",
    "        alpha[0] = alpha2[(outerLoopCount-1)-i]\n",
    "        learn()\n",
    "#         print()"
   ]
  },
  {
   "cell_type": "code",
   "execution_count": null,
   "metadata": {},
   "outputs": [],
   "source": [
    "def getResult(X, setM):\n",
    "    \n",
    "    for idx in range(len(alpha)):\n",
    "        for idx2 in range(len(lmbda)):\n",
    "            for j in range(setM):\n",
    "                z = np.array(X[j], np.dtype('float64'))\n",
    "                result[idx][idx2][j] = np.dot(z,alpLmbTheta[idx,idx2])\n",
    "\n",
    "#     result.tofile('./train/trainMini.txt',sep=\"\\n\",format=\"%s\")"
   ]
  },
  {
   "cell_type": "code",
   "execution_count": null,
   "metadata": {},
   "outputs": [],
   "source": [
    "def getCost(Y, setM):\n",
    "    cost = np.zeros((1), np.dtype('float64'))\n",
    "    \n",
    "    for idx in range(len(alpha)):\n",
    "        for idx2 in range(len(lmbda)):\n",
    "            for j in range(setM):\n",
    "#                 cost = cost + (((result[idx][idx2][j] - y[j])**2)/2)\n",
    "                cost = cost + ((result[idx][idx2][j] - Y[j])**2)\n",
    "#             cost = cost/(2*m)\n",
    "            cost = cost/(m)\n",
    "            print(lmbda[idx2], \":\", cost)\n",
    "#             alpLmbCost[idx,idx2] = cost\n",
    "#             print(alpha[idx], \":\", cost)\n",
    "        print()"
   ]
  },
  {
   "cell_type": "code",
   "execution_count": null,
   "metadata": {},
   "outputs": [],
   "source": [
    "learn()"
   ]
  },
  {
   "cell_type": "code",
   "execution_count": null,
   "metadata": {
    "scrolled": true
   },
   "outputs": [],
   "source": [
    "lmbda[0] = 0.64\n",
    "startLearnRange()\n",
    "getResult(trainX, trainM)\n",
    "print(\"Train:\")\n",
    "getCost(trainY, trainM)\n",
    "getResult(valX, valM)\n",
    "print(\"Val:\")\n",
    "getCost(valY, valM)\n",
    "getResult(testX, testM)\n",
    "print(\"Test:\")\n",
    "getCost(testY, testM)"
   ]
  },
  {
   "cell_type": "code",
   "execution_count": null,
   "metadata": {},
   "outputs": [],
   "source": [
    "alpLmbTheta = np.zeros((len(alpha), len(lmbda), ((frameHeight*frameWidth)+1)), np.dtype('float64'))\n",
    "lmbda[0] = 1.28\n",
    "startLearnRange()\n",
    "getResult(trainX, trainM)\n",
    "print(\"Train:\")\n",
    "getCost(trainY, trainM)\n",
    "getResult(valX, valM)\n",
    "print(\"Val:\")\n",
    "getCost(valY, valM)\n",
    "getResult(testX, testM)\n",
    "print(\"Test:\")\n",
    "getCost(testY, testM)"
   ]
  },
  {
   "cell_type": "code",
   "execution_count": null,
   "metadata": {},
   "outputs": [],
   "source": [
    "alpLmbTheta = np.zeros((len(alpha), len(lmbda), ((frameHeight*frameWidth)+1)), np.dtype('float64'))\n",
    "lmbda[0] = 2.56\n",
    "startLearnRange()\n",
    "getResult(trainX, trainM)\n",
    "print(\"Train:\")\n",
    "getCost(trainY, trainM)\n",
    "getResult(valX, valM)\n",
    "print(\"Val:\")\n",
    "getCost(valY, valM)\n",
    "getResult(testX, testM)\n",
    "print(\"Test:\")\n",
    "getCost(testY, testM)"
   ]
  },
  {
   "cell_type": "code",
   "execution_count": null,
   "metadata": {},
   "outputs": [],
   "source": [
    "alpLmbTheta = np.zeros((len(alpha), len(lmbda), ((frameHeight*frameWidth)+1)), np.dtype('float64'))\n",
    "lmbda[0] = 5.12\n",
    "startLearnRange()\n",
    "getResult(trainX, trainM)\n",
    "print(\"Train:\")\n",
    "getCost(trainY, trainM)\n",
    "getResult(valX, valM)\n",
    "print(\"Val:\")\n",
    "getCost(valY, valM)\n",
    "getResult(testX, testM)\n",
    "print(\"Test:\")\n",
    "getCost(testY, testM)"
   ]
  },
  {
   "cell_type": "code",
   "execution_count": null,
   "metadata": {},
   "outputs": [],
   "source": [
    "alpLmbTheta[0][0] = np.loadtxt('./train/trainThetaMini2.txt', np.dtype('float64'), delimiter='\\n')\n",
    "getResult()\n",
    "getCost()"
   ]
  },
  {
   "cell_type": "code",
   "execution_count": null,
   "metadata": {},
   "outputs": [],
   "source": [
    "alpLmbTheta.tofile('./train/trainThetaMini3.txt',sep=\"\\n\",format=\"%s\")"
   ]
  },
  {
   "cell_type": "code",
   "execution_count": null,
   "metadata": {},
   "outputs": [],
   "source": [
    "result.tofile('./train/trainMini.txt',sep=\"\\n\",format=\"%s\")"
   ]
  },
  {
   "cell_type": "code",
   "execution_count": null,
   "metadata": {},
   "outputs": [],
   "source": [
    "result = np.empty((len(alpha), len(lmbda), frameCount+2), np.dtype('float64'))\n",
    "result[0][0] = np.loadtxt('./train/trainMini.txt', np.dtype('float64'), delimiter='\\n')\n",
    "getCost()"
   ]
  },
  {
   "cell_type": "code",
   "execution_count": null,
   "metadata": {},
   "outputs": [],
   "source": []
  }
 ],
 "metadata": {
  "kernelspec": {
   "display_name": "Python 3",
   "language": "python",
   "name": "python3"
  },
  "language_info": {
   "codemirror_mode": {
    "name": "ipython",
    "version": 3
   },
   "file_extension": ".py",
   "mimetype": "text/x-python",
   "name": "python",
   "nbconvert_exporter": "python",
   "pygments_lexer": "ipython3",
   "version": "3.8.1"
  }
 },
 "nbformat": 4,
 "nbformat_minor": 2
}
