{
 "cells": [
  {
   "cell_type": "code",
   "execution_count": 1,
   "metadata": {},
   "outputs": [],
   "source": [
    "%matplotlib inline\n",
    "import matplotlib.pyplot as plt\n",
    "%load_ext autoreload\n",
    "%autoreload 2\n",
    "import numpy as np\n",
    "import cv2\n",
    "import sys\n",
    "np.set_printoptions(threshold=sys.maxsize)"
   ]
  },
  {
   "cell_type": "code",
   "execution_count": 2,
   "metadata": {},
   "outputs": [
    {
     "name": "stdout",
     "output_type": "stream",
     "text": [
      "20400 170 320 54400\n"
     ]
    }
   ],
   "source": [
    "cap = cv2.VideoCapture('./train/trainGray_Shortened.m4v')\n",
    "frameCount = int(cap.get(cv2.CAP_PROP_FRAME_COUNT))\n",
    "frameWidth = int(cap.get(cv2.CAP_PROP_FRAME_WIDTH))\n",
    "frameHeight = int(cap.get(cv2.CAP_PROP_FRAME_HEIGHT))\n",
    "pixelCount = frameHeight*frameWidth\n",
    "print(frameCount, frameHeight, frameWidth, pixelCount)\n",
    "\n",
    "bufTemp = np.empty((frameCount, frameHeight * frameWidth), np.dtype('uint8'))\n",
    "\n",
    "fc = 0\n",
    "ret = True\n",
    "\n",
    "while (fc < frameCount  and ret):\n",
    "    ret, x = np.array(cap.read())\n",
    "    x = x[:,:,0]\n",
    "    x.shape = frameHeight*frameWidth\n",
    "    bufTemp[fc] = x\n",
    "    fc += 1\n",
    "\n",
    "cap.release()\n",
    "\n",
    "# x = bufTemp[0, 0:frameHeight*frameWidth]\n",
    "# x.shape = (frameHeight, frameWidth)"
   ]
  },
  {
   "cell_type": "code",
   "execution_count": null,
   "metadata": {},
   "outputs": [],
   "source": [
    "x = np.empty((11, 10), np.dtype('float32'))\n",
    "for i in range(11):\n",
    "    x[i] = np.arange(i+5,i+15)\n",
    "    print(x[i])\n",
    "    mean = np.mean(x[i,:])\n",
    "    x[i,:] = x[i,:]-mean\n",
    "    print(x[i,:])\n",
    "    print(mean,'\\n')"
   ]
  },
  {
   "cell_type": "code",
   "execution_count": null,
   "metadata": {},
   "outputs": [],
   "source": [
    "print(x)\n",
    "x[:,0] = np.array([1,2,3,4,5,6,7,8,9,10,11],np.dtype('float32'))\n",
    "print(x)\n",
    "print(x.shape[0],x.shape[1])"
   ]
  },
  {
   "cell_type": "code",
   "execution_count": 3,
   "metadata": {
    "scrolled": true
   },
   "outputs": [],
   "source": [
    "x = np.empty((frameCount-1, (frameHeight*frameWidth)+1), np.dtype('float32'))\n",
    "# print(x.shape)\n",
    "# print(x[0].shape)\n",
    "x[0,0] = 1\n",
    "# print(type(x[0,0]))\n",
    "# print(x[0,0])\n",
    "for j in range(1,frameCount):\n",
    "    i = j-1\n",
    "    firstFrame = np.array(bufTemp[i], dtype='int16')\n",
    "    secondFrame = np.array(bufTemp[j], dtype='int16')\n",
    "    x[i,0] = 1\n",
    "    x[i,1:(frameHeight*frameWidth)+1] = secondFrame - firstFrame\n",
    "    x[i,:] = np.absolute(x[i,:])\n",
    "#     mean = np.mean(x[i,:])\n",
    "#     x[i,:] = x[i,:] - mean\n",
    "#     x[i,:] = x[i,:]/np.std(x[i,:])\n",
    "\n",
    "for j in range(1):\n",
    "    mean = np.mean(x[:,j])\n",
    "    x[:,j] = x[:,j] - mean\n",
    "    if np.sum(x[:,j]) != 0:\n",
    "        x[:,j] = x[:,j]/np.std(x[:,j])\n",
    "\n",
    "# h = np.std(x[:,0])\n",
    "# print(h)\n",
    "# print(x[:,0])\n",
    "# print()\n",
    "# x[:,0] = x[:,0]/h\n",
    "# print(x[:,0])"
   ]
  },
  {
   "cell_type": "code",
   "execution_count": 4,
   "metadata": {},
   "outputs": [
    {
     "name": "stdout",
     "output_type": "stream",
     "text": [
      "20399 12239 4080 4080\n",
      "12239 12239 4080 4080 4080 4080\n"
     ]
    }
   ],
   "source": [
    "bufTemp = 0\n",
    "y = np.loadtxt('./train/train.txt', np.dtype('float64'))\n",
    "# index = np.empty((frameCount-1), np.dtype('int'))\n",
    "\n",
    "m = frameCount-1\n",
    "trainM = int(m*.6)\n",
    "valM = int((m - trainM)*.5)\n",
    "testM = m-(trainM + valM)\n",
    "\n",
    "rng_state = np.random.get_state()\n",
    "np.random.shuffle(x)\n",
    "np.random.set_state(rng_state)\n",
    "np.random.shuffle(y)\n",
    "# np.random.set_state(rng_state)\n",
    "# np.random(index)\n",
    "\n",
    "trainX = x[0:trainM]\n",
    "valX = x[trainM:trainM+valM]\n",
    "testX = x[trainM+valM:trainM+valM+testM]\n",
    "\n",
    "trainY = y[1:trainM+1]\n",
    "valY = y[trainM+1:trainM+valM+1]\n",
    "testY = y[trainM+valM+1:trainM+valM+testM+1]\n",
    "# y = 0\n",
    "print(m, trainM, valM, testM)\n",
    "print(len(trainX),len(trainY),len(valX),len(valY),len(testX),len(testY))\n",
    "\n",
    "# Alpha greater than 0.16 will overflow and not work.\n",
    "# Alpha around 0.01 or lower seems to do the best.\n",
    "# alpha2 = np.array([0.00000610351563,0.0000122070313,0.0000244140625,0.000048828125,0.00009765625,0.0001953125,0.000390625,0.00078125,0.0015625,0.003125,0.00625,0.0125,0.025,0.05,0.1],np.dtype('float64'))\n",
    "# alpha = np.array([0.000005],np.dtype('float64'))\n",
    "# alpha = np.array([0.00006],np.dtype('float64'))\n",
    "alpha = np.array([0.0001],np.dtype('float64'))\n",
    "# lmbda = np.array([0.64],np.dtype('float64'))\n",
    "lmbda = np.array([1.5],np.dtype('float64'))\n",
    "\n",
    "# outerLoopCount = len(alpha2)\n",
    "outerLoopCount = 15\n",
    "loopCount = 120 # Was 5\n",
    "costOnLoop = 2\n",
    "\n",
    "difMul = 0\n",
    "difDiv = 1\n",
    "\n",
    "\n",
    "alpLmbTheta = np.zeros((len(alpha), len(lmbda), ((frameHeight*frameWidth)+1)), np.dtype('float64'))\n",
    "\n",
    "alpLmbCost = np.zeros((len(alpha), len(lmbda)), np.dtype('float64'))\n",
    "costArr = np.zeros((1),np.dtype('float64'))\n",
    "beginArr = 1\n",
    "\n",
    "result = np.empty((len(alpha), len(lmbda), frameCount), np.dtype('float64'))\n",
    "\n",
    "stop = False\n",
    "threshold = 5.0\n",
    "\n",
    "count = 0"
   ]
  },
  {
   "cell_type": "code",
   "execution_count": 5,
   "metadata": {},
   "outputs": [],
   "source": [
    "# Uses bufTemp, y, m, alpha, lmbda, alpLmbTheta, loopCount, costArr\n",
    "def learn():\n",
    "    global costArr, beginArr, difDivider\n",
    "    for idx, alp in enumerate(alpha):\n",
    "        for idx2, lmbd in enumerate(lmbda):\n",
    "            for i in range(loopCount):\n",
    "                for j in range(trainM):\n",
    "                    z = np.array(trainX[j], np.dtype('float64'))\n",
    "                    grad = ((np.dot(z, alpLmbTheta[idx, idx2]) - trainY[j])*z)/m\n",
    "                    grad[1:len(grad)] = grad[1:len(grad)] + ((lmbd/m)*alpLmbTheta[idx,idx2,1:len(alpLmbTheta[idx,idx2])])\n",
    "                    alpLmbTheta[idx,idx2] = (alpLmbTheta[idx,idx2] - (alp*grad))\n",
    "                if i % costOnLoop == 0:\n",
    "                    cost = np.zeros((1), np.dtype('float64'))\n",
    "                    for j in range(trainM):\n",
    "                        z = np.array(trainX[j], np.dtype('float64'))\n",
    "                        result[idx][idx2][j] = np.dot(z,alpLmbTheta[idx,idx2])\n",
    "                        cost = cost + ((result[idx][idx2][j] - y[j])**2)\n",
    "                    cost = cost/(trainM)\n",
    "                    if len(costArr) < 500:\n",
    "                        costArr = np.append(costArr, cost)\n",
    "                    print(\"%d:\"%(i), cost)\n",
    "                    if i >= costOnLoop*2:\n",
    "                        if (costArr[-2]-costArr[-1])<(((costArr[beginArr]-costArr[beginArr+1])*difMul)/difDiv) or costArr[-2]-costArr[-1] < 0:\n",
    "                            alpha[idx] = alp/2\n",
    "                            beginArr = len(costArr)\n",
    "                            return 1\n",
    "            print()"
   ]
  },
  {
   "cell_type": "code",
   "execution_count": 6,
   "metadata": {},
   "outputs": [],
   "source": [
    "def startLearn():\n",
    "    learn()\n",
    "    while costArr[-1] > threshold:\n",
    "        learn()"
   ]
  },
  {
   "cell_type": "code",
   "execution_count": 7,
   "metadata": {},
   "outputs": [],
   "source": [
    "def startLearnRange():\n",
    "    for i in range(outerLoopCount):\n",
    "        print(i, alpha[0], lmbda[0])\n",
    "        learn()\n",
    "#         print()"
   ]
  },
  {
   "cell_type": "code",
   "execution_count": 8,
   "metadata": {},
   "outputs": [],
   "source": [
    "def getResult(X, setM):\n",
    "    \n",
    "    for idx in range(len(alpha)):\n",
    "        for idx2 in range(len(lmbda)):\n",
    "            for j in range(setM):\n",
    "                z = np.array(X[j], np.dtype('float64'))\n",
    "                result[idx][idx2][j] = np.dot(z,alpLmbTheta[idx,idx2])\n",
    "\n",
    "#     result.tofile('./train/trainMini.txt',sep=\"\\n\",format=\"%s\")"
   ]
  },
  {
   "cell_type": "code",
   "execution_count": 9,
   "metadata": {},
   "outputs": [],
   "source": [
    "def getCost(Y, setM):\n",
    "    cost = np.zeros((1), np.dtype('float64'))\n",
    "    \n",
    "    for idx in range(len(alpha)):\n",
    "        for idx2 in range(len(lmbda)):\n",
    "            for j in range(setM):\n",
    "#                 cost = cost + (((result[idx][idx2][j] - y[j])**2)/2)\n",
    "                cost = cost + ((result[idx][idx2][j] - Y[j])**2)\n",
    "#             cost = cost/(2*m)\n",
    "            cost = cost/(setM)\n",
    "            print(lmbda[idx2], \":\", cost)\n",
    "#             alpLmbCost[idx,idx2] = cost\n",
    "#             print(alpha[idx], \":\", cost)\n",
    "        print()"
   ]
  },
  {
   "cell_type": "code",
   "execution_count": null,
   "metadata": {
    "scrolled": true
   },
   "outputs": [],
   "source": [
    "startLearnRange()"
   ]
  },
  {
   "cell_type": "code",
   "execution_count": null,
   "metadata": {},
   "outputs": [],
   "source": [
    "print(alpLmbTheta)"
   ]
  },
  {
   "cell_type": "code",
   "execution_count": null,
   "metadata": {},
   "outputs": [],
   "source": [
    "index = np.zeros((1),np.dtype('int'))\n",
    "for i in range(len(costArr)):\n",
    "    index = np.append(index,i)"
   ]
  },
  {
   "cell_type": "code",
   "execution_count": null,
   "metadata": {},
   "outputs": [],
   "source": [
    "plt.plot(index,costArr)"
   ]
  },
  {
   "cell_type": "code",
   "execution_count": null,
   "metadata": {},
   "outputs": [],
   "source": [
    "getResult(trainX, trainM)\n",
    "print(\"Train:\")\n",
    "getCost(trainY, trainM)\n",
    "getResult(valX, valM)\n",
    "print(\"Val:\")\n",
    "getCost(valY, valM)\n",
    "getResult(testX, testM)\n",
    "print(\"Test:\")\n",
    "getCost(testY, testM)"
   ]
  },
  {
   "cell_type": "code",
   "execution_count": 10,
   "metadata": {
    "scrolled": false
   },
   "outputs": [
    {
     "name": "stdout",
     "output_type": "stream",
     "text": [
      "0 0.0001 0.64\n",
      "0: [90.12942539]\n",
      "2: [87.60030558]\n",
      "4: [87.0798028]\n",
      "6: [87.0980407]\n",
      "1 5e-05 0.64\n",
      "0: [87.02650528]\n",
      "2: [87.07821826]\n",
      "4: [87.18855806]\n",
      "2 2.5e-05 0.64\n",
      "0: [87.13138072]\n",
      "2: [87.17866631]\n",
      "4: [87.24258172]\n",
      "3 1.25e-05 0.64\n",
      "0: [87.23203244]\n",
      "2: [87.25816581]\n",
      "4: [87.29225474]\n",
      "4 6.25e-06 0.64\n",
      "0: [87.30649072]\n",
      "2: [87.31988988]\n",
      "4: [87.33660163]\n",
      "5 3.125e-06 0.64\n",
      "0: [87.34683463]\n",
      "2: [87.35426746]\n",
      "4: [87.36224913]\n",
      "6 1.5625e-06 0.64\n"
     ]
    },
    {
     "ename": "KeyboardInterrupt",
     "evalue": "",
     "output_type": "error",
     "traceback": [
      "\u001b[0;31m---------------------------------------------------------------------------\u001b[0m",
      "\u001b[0;31mKeyboardInterrupt\u001b[0m                         Traceback (most recent call last)",
      "\u001b[0;32m<ipython-input-10-1fb80a52cc70>\u001b[0m in \u001b[0;36m<module>\u001b[0;34m\u001b[0m\n\u001b[1;32m      1\u001b[0m \u001b[0mlmbda\u001b[0m\u001b[0;34m[\u001b[0m\u001b[0;36m0\u001b[0m\u001b[0;34m]\u001b[0m \u001b[0;34m=\u001b[0m \u001b[0;36m0.64\u001b[0m\u001b[0;34m\u001b[0m\u001b[0;34m\u001b[0m\u001b[0m\n\u001b[0;32m----> 2\u001b[0;31m \u001b[0mstartLearnRange\u001b[0m\u001b[0;34m(\u001b[0m\u001b[0;34m)\u001b[0m\u001b[0;34m\u001b[0m\u001b[0;34m\u001b[0m\u001b[0m\n\u001b[0m\u001b[1;32m      3\u001b[0m \u001b[0mgetResult\u001b[0m\u001b[0;34m(\u001b[0m\u001b[0mtrainX\u001b[0m\u001b[0;34m,\u001b[0m \u001b[0mtrainM\u001b[0m\u001b[0;34m)\u001b[0m\u001b[0;34m\u001b[0m\u001b[0;34m\u001b[0m\u001b[0m\n\u001b[1;32m      4\u001b[0m \u001b[0mprint\u001b[0m\u001b[0;34m(\u001b[0m\u001b[0;34m\"Train:\"\u001b[0m\u001b[0;34m)\u001b[0m\u001b[0;34m\u001b[0m\u001b[0;34m\u001b[0m\u001b[0m\n\u001b[1;32m      5\u001b[0m \u001b[0mgetCost\u001b[0m\u001b[0;34m(\u001b[0m\u001b[0mtrainY\u001b[0m\u001b[0;34m,\u001b[0m \u001b[0mtrainM\u001b[0m\u001b[0;34m)\u001b[0m\u001b[0;34m\u001b[0m\u001b[0;34m\u001b[0m\u001b[0m\n",
      "\u001b[0;32m<ipython-input-7-c80097703e5c>\u001b[0m in \u001b[0;36mstartLearnRange\u001b[0;34m()\u001b[0m\n\u001b[1;32m      2\u001b[0m     \u001b[0;32mfor\u001b[0m \u001b[0mi\u001b[0m \u001b[0;32min\u001b[0m \u001b[0mrange\u001b[0m\u001b[0;34m(\u001b[0m\u001b[0mouterLoopCount\u001b[0m\u001b[0;34m)\u001b[0m\u001b[0;34m:\u001b[0m\u001b[0;34m\u001b[0m\u001b[0;34m\u001b[0m\u001b[0m\n\u001b[1;32m      3\u001b[0m         \u001b[0mprint\u001b[0m\u001b[0;34m(\u001b[0m\u001b[0mi\u001b[0m\u001b[0;34m,\u001b[0m \u001b[0malpha\u001b[0m\u001b[0;34m[\u001b[0m\u001b[0;36m0\u001b[0m\u001b[0;34m]\u001b[0m\u001b[0;34m,\u001b[0m \u001b[0mlmbda\u001b[0m\u001b[0;34m[\u001b[0m\u001b[0;36m0\u001b[0m\u001b[0;34m]\u001b[0m\u001b[0;34m)\u001b[0m\u001b[0;34m\u001b[0m\u001b[0;34m\u001b[0m\u001b[0m\n\u001b[0;32m----> 4\u001b[0;31m         \u001b[0mlearn\u001b[0m\u001b[0;34m(\u001b[0m\u001b[0;34m)\u001b[0m\u001b[0;34m\u001b[0m\u001b[0;34m\u001b[0m\u001b[0m\n\u001b[0m\u001b[1;32m      5\u001b[0m \u001b[0;31m#         print()\u001b[0m\u001b[0;34m\u001b[0m\u001b[0;34m\u001b[0m\u001b[0;34m\u001b[0m\u001b[0m\n",
      "\u001b[0;32m<ipython-input-5-7cbccf3b1b0a>\u001b[0m in \u001b[0;36mlearn\u001b[0;34m()\u001b[0m\n\u001b[1;32m      7\u001b[0m                 \u001b[0;32mfor\u001b[0m \u001b[0mj\u001b[0m \u001b[0;32min\u001b[0m \u001b[0mrange\u001b[0m\u001b[0;34m(\u001b[0m\u001b[0mtrainM\u001b[0m\u001b[0;34m)\u001b[0m\u001b[0;34m:\u001b[0m\u001b[0;34m\u001b[0m\u001b[0;34m\u001b[0m\u001b[0m\n\u001b[1;32m      8\u001b[0m                     \u001b[0mz\u001b[0m \u001b[0;34m=\u001b[0m \u001b[0mnp\u001b[0m\u001b[0;34m.\u001b[0m\u001b[0marray\u001b[0m\u001b[0;34m(\u001b[0m\u001b[0mtrainX\u001b[0m\u001b[0;34m[\u001b[0m\u001b[0mj\u001b[0m\u001b[0;34m]\u001b[0m\u001b[0;34m,\u001b[0m \u001b[0mnp\u001b[0m\u001b[0;34m.\u001b[0m\u001b[0mdtype\u001b[0m\u001b[0;34m(\u001b[0m\u001b[0;34m'float64'\u001b[0m\u001b[0;34m)\u001b[0m\u001b[0;34m)\u001b[0m\u001b[0;34m\u001b[0m\u001b[0;34m\u001b[0m\u001b[0m\n\u001b[0;32m----> 9\u001b[0;31m                     \u001b[0mgrad\u001b[0m \u001b[0;34m=\u001b[0m \u001b[0;34m(\u001b[0m\u001b[0;34m(\u001b[0m\u001b[0mnp\u001b[0m\u001b[0;34m.\u001b[0m\u001b[0mdot\u001b[0m\u001b[0;34m(\u001b[0m\u001b[0mz\u001b[0m\u001b[0;34m,\u001b[0m \u001b[0malpLmbTheta\u001b[0m\u001b[0;34m[\u001b[0m\u001b[0midx\u001b[0m\u001b[0;34m,\u001b[0m \u001b[0midx2\u001b[0m\u001b[0;34m]\u001b[0m\u001b[0;34m)\u001b[0m \u001b[0;34m-\u001b[0m \u001b[0mtrainY\u001b[0m\u001b[0;34m[\u001b[0m\u001b[0mj\u001b[0m\u001b[0;34m]\u001b[0m\u001b[0;34m)\u001b[0m\u001b[0;34m*\u001b[0m\u001b[0mz\u001b[0m\u001b[0;34m)\u001b[0m\u001b[0;34m/\u001b[0m\u001b[0mm\u001b[0m\u001b[0;34m\u001b[0m\u001b[0;34m\u001b[0m\u001b[0m\n\u001b[0m\u001b[1;32m     10\u001b[0m                     \u001b[0mgrad\u001b[0m\u001b[0;34m[\u001b[0m\u001b[0;36m1\u001b[0m\u001b[0;34m:\u001b[0m\u001b[0mlen\u001b[0m\u001b[0;34m(\u001b[0m\u001b[0mgrad\u001b[0m\u001b[0;34m)\u001b[0m\u001b[0;34m]\u001b[0m \u001b[0;34m=\u001b[0m \u001b[0mgrad\u001b[0m\u001b[0;34m[\u001b[0m\u001b[0;36m1\u001b[0m\u001b[0;34m:\u001b[0m\u001b[0mlen\u001b[0m\u001b[0;34m(\u001b[0m\u001b[0mgrad\u001b[0m\u001b[0;34m)\u001b[0m\u001b[0;34m]\u001b[0m \u001b[0;34m+\u001b[0m \u001b[0;34m(\u001b[0m\u001b[0;34m(\u001b[0m\u001b[0mlmbd\u001b[0m\u001b[0;34m/\u001b[0m\u001b[0mm\u001b[0m\u001b[0;34m)\u001b[0m\u001b[0;34m*\u001b[0m\u001b[0malpLmbTheta\u001b[0m\u001b[0;34m[\u001b[0m\u001b[0midx\u001b[0m\u001b[0;34m,\u001b[0m\u001b[0midx2\u001b[0m\u001b[0;34m,\u001b[0m\u001b[0;36m1\u001b[0m\u001b[0;34m:\u001b[0m\u001b[0mlen\u001b[0m\u001b[0;34m(\u001b[0m\u001b[0malpLmbTheta\u001b[0m\u001b[0;34m[\u001b[0m\u001b[0midx\u001b[0m\u001b[0;34m,\u001b[0m\u001b[0midx2\u001b[0m\u001b[0;34m]\u001b[0m\u001b[0;34m)\u001b[0m\u001b[0;34m]\u001b[0m\u001b[0;34m)\u001b[0m\u001b[0;34m\u001b[0m\u001b[0;34m\u001b[0m\u001b[0m\n\u001b[1;32m     11\u001b[0m                     \u001b[0malpLmbTheta\u001b[0m\u001b[0;34m[\u001b[0m\u001b[0midx\u001b[0m\u001b[0;34m,\u001b[0m\u001b[0midx2\u001b[0m\u001b[0;34m]\u001b[0m \u001b[0;34m=\u001b[0m \u001b[0;34m(\u001b[0m\u001b[0malpLmbTheta\u001b[0m\u001b[0;34m[\u001b[0m\u001b[0midx\u001b[0m\u001b[0;34m,\u001b[0m\u001b[0midx2\u001b[0m\u001b[0;34m]\u001b[0m \u001b[0;34m-\u001b[0m \u001b[0;34m(\u001b[0m\u001b[0malp\u001b[0m\u001b[0;34m*\u001b[0m\u001b[0mgrad\u001b[0m\u001b[0;34m)\u001b[0m\u001b[0;34m)\u001b[0m\u001b[0;34m\u001b[0m\u001b[0;34m\u001b[0m\u001b[0m\n",
      "\u001b[0;32m<__array_function__ internals>\u001b[0m in \u001b[0;36mdot\u001b[0;34m(*args, **kwargs)\u001b[0m\n",
      "\u001b[0;31mKeyboardInterrupt\u001b[0m: "
     ]
    }
   ],
   "source": [
    "lmbda[0] = 0.64\n",
    "startLearnRange()\n",
    "getResult(trainX, trainM)\n",
    "print(\"Train:\")\n",
    "getCost(trainY, trainM)\n",
    "getResult(valX, valM)\n",
    "print(\"Val:\")\n",
    "getCost(valY, valM)\n",
    "getResult(testX, testM)\n",
    "print(\"Test:\")\n",
    "getCost(testY, testM)"
   ]
  },
  {
   "cell_type": "code",
   "execution_count": null,
   "metadata": {},
   "outputs": [],
   "source": [
    "alpLmbTheta = np.zeros((len(alpha), len(lmbda), ((frameHeight*frameWidth)+1)), np.dtype('float64'))\n",
    "lmbda[0] = 1.28\n",
    "startLearnRange()\n",
    "getResult(trainX, trainM)\n",
    "print(\"Train:\")\n",
    "getCost(trainY, trainM)\n",
    "getResult(valX, valM)\n",
    "print(\"Val:\")\n",
    "getCost(valY, valM)\n",
    "getResult(testX, testM)\n",
    "print(\"Test:\")\n",
    "getCost(testY, testM)"
   ]
  },
  {
   "cell_type": "code",
   "execution_count": null,
   "metadata": {},
   "outputs": [],
   "source": [
    "alpLmbTheta = np.zeros((len(alpha), len(lmbda), ((frameHeight*frameWidth)+1)), np.dtype('float64'))\n",
    "lmbda[0] = 2.56\n",
    "startLearnRange()\n",
    "getResult(trainX, trainM)\n",
    "print(\"Train:\")\n",
    "getCost(trainY, trainM)\n",
    "getResult(valX, valM)\n",
    "print(\"Val:\")\n",
    "getCost(valY, valM)\n",
    "getResult(testX, testM)\n",
    "print(\"Test:\")\n",
    "getCost(testY, testM)"
   ]
  },
  {
   "cell_type": "code",
   "execution_count": null,
   "metadata": {},
   "outputs": [],
   "source": [
    "alpLmbTheta = np.zeros((len(alpha), len(lmbda), ((frameHeight*frameWidth)+1)), np.dtype('float64'))\n",
    "lmbda[0] = 5.12\n",
    "startLearnRange()\n",
    "getResult(trainX, trainM)\n",
    "print(\"Train:\")\n",
    "getCost(trainY, trainM)\n",
    "getResult(valX, valM)\n",
    "print(\"Val:\")\n",
    "getCost(valY, valM)\n",
    "getResult(testX, testM)\n",
    "print(\"Test:\")\n",
    "getCost(testY, testM)"
   ]
  },
  {
   "cell_type": "code",
   "execution_count": null,
   "metadata": {},
   "outputs": [],
   "source": [
    "alpLmbTheta[0][0] = np.loadtxt('./train/trainThetaMini2.txt', np.dtype('float64'), delimiter='\\n')\n",
    "getResult()\n",
    "getCost()"
   ]
  },
  {
   "cell_type": "code",
   "execution_count": null,
   "metadata": {},
   "outputs": [],
   "source": [
    "alpLmbTheta.tofile('./train/trainThetaMini3.txt',sep=\"\\n\",format=\"%s\")"
   ]
  },
  {
   "cell_type": "code",
   "execution_count": null,
   "metadata": {},
   "outputs": [],
   "source": [
    "result.tofile('./train/trainMini.txt',sep=\"\\n\",format=\"%s\")"
   ]
  },
  {
   "cell_type": "code",
   "execution_count": null,
   "metadata": {},
   "outputs": [],
   "source": [
    "result = np.empty((len(alpha), len(lmbda), frameCount+2), np.dtype('float64'))\n",
    "result[0][0] = np.loadtxt('./train/trainMini.txt', np.dtype('float64'), delimiter='\\n')\n",
    "getCost()"
   ]
  },
  {
   "cell_type": "code",
   "execution_count": null,
   "metadata": {},
   "outputs": [],
   "source": [
    "# lmbda = 5.12 seems to be the best"
   ]
  },
  {
   "cell_type": "code",
   "execution_count": null,
   "metadata": {},
   "outputs": [],
   "source": [
    "0 5e-06 1.5\n",
    "0: [215.21518242]\n",
    "2: [212.2981285]\n",
    "4: [209.44135141]\n",
    "6: [206.64360017]\n",
    "8: [203.90364984]\n",
    "10: [201.22030091]\n",
    "12: [198.59237885]\n"
   ]
  },
  {
   "cell_type": "code",
   "execution_count": null,
   "metadata": {},
   "outputs": [],
   "source": [
    "0 5e-06 1.5\n",
    "0: [107.20166524]\n",
    "2: [98.03785255]\n",
    "4: [96.28437233]\n",
    "6: [95.39492375]\n",
    "1 2.5e-06 1.5\n",
    "0: [95.1562898]\n",
    "2: [94.73535018]\n",
    "4: [94.38960088]\n",
    "6: [94.09404927]\n",
    "8: [93.83702913]"
   ]
  },
  {
   "cell_type": "code",
   "execution_count": null,
   "metadata": {},
   "outputs": [],
   "source": []
  }
 ],
 "metadata": {
  "kernelspec": {
   "display_name": "Python 3",
   "language": "python",
   "name": "python3"
  },
  "language_info": {
   "codemirror_mode": {
    "name": "ipython",
    "version": 3
   },
   "file_extension": ".py",
   "mimetype": "text/x-python",
   "name": "python",
   "nbconvert_exporter": "python",
   "pygments_lexer": "ipython3",
   "version": "3.8.1"
  }
 },
 "nbformat": 4,
 "nbformat_minor": 2
}
