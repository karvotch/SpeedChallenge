{
 "cells": [
  {
   "cell_type": "code",
   "execution_count": 1,
   "metadata": {},
   "outputs": [],
   "source": [
    "import numpy as np\n",
    "import cv2\n",
    "import sys\n",
    "np.set_printoptions(threshold=sys.maxsize)"
   ]
  },
  {
   "cell_type": "code",
   "execution_count": 2,
   "metadata": {},
   "outputs": [],
   "source": [
    "cap = cv2.VideoCapture('./train/trainGrayMini.mp4')\n",
    "frameCount = int(cap.get(cv2.CAP_PROP_FRAME_COUNT))\n",
    "frameWidth = int(cap.get(cv2.CAP_PROP_FRAME_WIDTH))\n",
    "frameHeight = int(cap.get(cv2.CAP_PROP_FRAME_HEIGHT))\n",
    "\n",
    "bufTemp = np.empty((frameCount, frameHeight * frameWidth), np.dtype('uint8'))\n",
    "\n",
    "fc = 0\n",
    "ret = True\n",
    "\n",
    "while (fc < frameCount  and ret):\n",
    "    ret, x = np.array(cap.read())\n",
    "    x = x[:,:,0]\n",
    "    x.shape = frameHeight*frameWidth\n",
    "    bufTemp[fc] = x\n",
    "    fc += 1\n",
    "\n",
    "cap.release()\n",
    "\n",
    "x = bufTemp[0, 0:frameHeight*frameWidth]\n",
    "x.shape = (frameHeight, frameWidth)"
   ]
  },
  {
   "cell_type": "code",
   "execution_count": 3,
   "metadata": {},
   "outputs": [],
   "source": [
    "y = np.loadtxt('./train/train.txt', np.dtype('float64'))\n",
    "theta = np.zeros(((frameHeight*frameWidth)+1), np.dtype('float64'))\n",
    "m = frameCount-1\n",
    "\n",
    "# Alpha greater than 0.16 will overflow and not work.\n",
    "# Alpha around 0.01 or lower seems to do the best.\n",
    "# alpha = np.array([0.1],np.dtype('float64'))\n",
    "alpha = np.array([0.00078125],np.dtype('float64'))\n",
    "lmbda = np.array([0.64],np.dtype('float64'))\n",
    "outerLoopCount = 10\n",
    "loopCount = 20 # Was 5\n",
    "\n",
    "difDivider = 2\n",
    "\n",
    "alpLmbTheta = np.zeros((len(alpha), len(lmbda), ((frameHeight*frameWidth)+1)), np.dtype('float64'))\n",
    "result = np.empty((len(alpha), len(lmbda), frameCount), np.dtype('float64'))\n",
    "costArr = np.zeros((1),np.dtype('float64'))\n",
    "beginArr = 1\n",
    "\n",
    "stop = False\n",
    "threshold = 5.0"
   ]
  },
  {
   "cell_type": "code",
   "execution_count": 4,
   "metadata": {},
   "outputs": [],
   "source": [
    "# Uses bufTemp, y, m, alpha, lmbda, alpLmbTheta, loopCount, costArr\n",
    "def learn():\n",
    "    for idx, alp in enumerate(alpha):\n",
    "        for idx2, lmbd in enumerate(lmbda):\n",
    "            for i in range(loopCount):\n",
    "                cost = 0\n",
    "                for j in range(1,frameCount):\n",
    "                    firstFrame = np.array(bufTemp[j-1], dtype='int16')\n",
    "                    secondFrame = np.array(bufTemp[j], dtype='int16')\n",
    "                    x = np.empty(((frameHeight*frameWidth)+1), np.dtype('float64'))\n",
    "                    x[0] = 1\n",
    "                    x[1:(frameHeight*frameWidth)+1] = secondFrame - firstFrame\n",
    "                    x = np.absolute(x)\n",
    "                    mean = np.mean(x)\n",
    "                    x = x - mean\n",
    "                    x = x/np.std(x)\n",
    "                    grad = ((np.dot(x, alpLmbTheta[idx, idx2]) - y[j])*x)/m\n",
    "                    grad[1:len(grad)] = grad[1:len(grad)] + ((lmbd/m)*alpLmbTheta[idx,idx2,1:len(alpLmbTheta[idx,idx2])])\n",
    "                    alpLmbTheta[idx,idx2] = (alpLmbTheta[idx,idx2] - (alp*grad))\n",
    "                if i % 3 == 0:\n",
    "                    cost = np.zeros((1), np.dtype('float64'))\n",
    "                    for idx in range(len(alpha)):\n",
    "                        for idx2 in range(len(lmbda)):\n",
    "                            for j in range(1,frameCount):\n",
    "                                firstFrame = np.array(bufTemp[j-1], dtype='int16')\n",
    "                                secondFrame = np.array(bufTemp[j], dtype='int16')\n",
    "                                x = np.empty(((frameHeight*frameWidth)+1), np.dtype('float64'))\n",
    "                                x[0] = 1\n",
    "                                x[1:(frameHeight*frameWidth)+1] = secondFrame - firstFrame\n",
    "                                x = np.absolute(x)\n",
    "                                mean = np.mean(x)\n",
    "                                x = x - mean\n",
    "                                x = x/np.std(x)\n",
    "                                result[idx][idx2][j-1] = np.dot(x,alpLmbTheta[idx,idx2])\n",
    "                                cost = cost + (((result[idx][idx2][j-1] - y[j])**2)/2)\n",
    "                            cost = cost/(2*m)\n",
    "                            global costArr, beginArr\n",
    "                            costArr = np.append(costArr, cost)\n",
    "                            print(\"%d:\"%(i), cost)\n",
    "                            \n",
    "                            if i >= 3:\n",
    "                                if (costArr[-2] - costArr[-1]) <  ((costArr[beginArr] - costArr[beginArr+1])/difDivider):\n",
    "                                    alpha[idx] = alp/2\n",
    "#                                     costArr = np.append(costArr, 0)\n",
    "                                    beginArr = len(costArr)\n",
    "                                    return 1"
   ]
  },
  {
   "cell_type": "code",
   "execution_count": 5,
   "metadata": {},
   "outputs": [],
   "source": [
    "def startLearn():\n",
    "    learn()\n",
    "    print('HELLO')\n",
    "    while costArr[-1] > threshold:\n",
    "        print('Hello')\n",
    "        learn()\n",
    "    print('hello')"
   ]
  },
  {
   "cell_type": "code",
   "execution_count": 6,
   "metadata": {},
   "outputs": [],
   "source": [
    "def startLearnRange():\n",
    "    learn()\n",
    "    for i in range(outerLoopCount):\n",
    "        learn()\n",
    "        print()"
   ]
  },
  {
   "cell_type": "code",
   "execution_count": 7,
   "metadata": {},
   "outputs": [],
   "source": [
    "def getResult():\n",
    "    \n",
    "    for idx in range(len(alpha)):\n",
    "        for idx2 in range(len(lmbda)):\n",
    "            for j in range(1,frameCount):\n",
    "                firstFrame = np.array(bufTemp[j-1], dtype='int16')\n",
    "                secondFrame = np.array(bufTemp[j], dtype='int16')\n",
    "                x = np.empty(((frameHeight*frameWidth)+1), np.dtype('float64'))\n",
    "                x[0] = 1\n",
    "                x[1:(frameHeight*frameWidth)+1] = secondFrame - firstFrame\n",
    "                x = np.absolute(x)\n",
    "                mean = np.mean(x)\n",
    "                x = x - mean\n",
    "                x = x/np.std(x)\n",
    "                result[idx][idx2][j-1] = np.dot(x,alpLmbTheta[idx,idx2])\n",
    "\n",
    "#     result.tofile('./train/trainMini.txt',sep=\"\\n\",format=\"%s\")"
   ]
  },
  {
   "cell_type": "code",
   "execution_count": 8,
   "metadata": {},
   "outputs": [],
   "source": [
    "def getCost():\n",
    "    cost = np.zeros((1), np.dtype('float64'))\n",
    "    \n",
    "    for idx in range(len(alpha)):\n",
    "        for idx2 in range(len(lmbda)):\n",
    "            for j in range(1,frameCount):\n",
    "                cost = cost + (((result[idx][idx2][j-1] - y[j])**2)/2)\n",
    "            cost = cost/(2*m)\n",
    "            print(alpha, \":\", cost)\n",
    "        print()"
   ]
  },
  {
   "cell_type": "code",
   "execution_count": 9,
   "metadata": {},
   "outputs": [],
   "source": [
    "alpLmbTheta[0][0] = np.loadtxt('./train/trainThetaMini.txt', np.dtype('float64'), delimiter='\\n')"
   ]
  },
  {
   "cell_type": "code",
   "execution_count": 10,
   "metadata": {},
   "outputs": [
    {
     "name": "stdout",
     "output_type": "stream",
     "text": [
      "0: [3.58464685]\n",
      "3: [3.46704639]\n",
      "6: [3.40456796]\n",
      "9: [3.35501498]\n",
      "0: [3.19286363]\n",
      "3: [3.13032703]\n",
      "6: [3.1057607]\n",
      "\n",
      "0: [3.07433478]\n",
      "3: [3.04485576]\n",
      "6: [3.0315291]\n",
      "\n",
      "0: [3.02540908]\n",
      "3: [3.01457529]\n",
      "6: [3.00765558]\n",
      "9: [3.00198281]\n",
      "12: [2.99686335]\n",
      "\n",
      "0: [2.99544572]\n",
      "3: [2.99189556]\n",
      "6: [2.98893154]\n",
      "9: [2.98626456]\n",
      "12: [2.98376883]\n",
      "15: [2.98138301]\n",
      "18: [2.97907414]\n",
      "\n",
      "0: [2.97756784]\n",
      "3: [2.97534838]\n",
      "6: [2.97316932]\n",
      "9: [2.97102462]\n",
      "12: [2.96891005]\n",
      "15: [2.96682245]\n",
      "18: [2.96475943]\n",
      "\n",
      "0: [2.96339679]\n",
      "3: [2.9613707]\n",
      "6: [2.95936487]\n",
      "9: [2.95737815]\n",
      "12: [2.95540957]\n",
      "15: [2.95345827]\n",
      "18: [2.9515235]\n",
      "\n",
      "0: [2.95024251]\n",
      "3: [2.94833386]\n",
      "6: [2.94644013]\n",
      "9: [2.94456079]\n",
      "12: [2.94269541]\n",
      "15: [2.94084355]\n",
      "18: [2.93900481]\n",
      "\n",
      "0: [2.93778611]\n",
      "3: [2.93596847]\n",
      "6: [2.93416305]\n",
      "9: [2.93236954]\n",
      "12: [2.93058766]\n",
      "15: [2.92881715]\n",
      "\n",
      "0: [2.92844666]\n",
      "3: [2.92738662]\n",
      "6: [2.92638236]\n",
      "9: [2.92541552]\n",
      "12: [2.92447471]\n",
      "15: [2.9235527]\n",
      "18: [2.92264474]\n",
      "\n",
      "0: [2.92204563]\n",
      "3: [2.92115455]\n",
      "6: [2.92027107]\n",
      "9: [2.91939398]\n",
      "12: [2.91852236]\n",
      "15: [2.91765554]\n",
      "18: [2.91679302]\n",
      "\n",
      "[2.44140625e-05] : [2.9165064]\n",
      "\n"
     ]
    }
   ],
   "source": [
    "startLearnRange()\n",
    "getResult()\n",
    "getCost()"
   ]
  },
  {
   "cell_type": "code",
   "execution_count": null,
   "metadata": {},
   "outputs": [],
   "source": [
    "startLearn()\n",
    "getResult()\n",
    "getCost()"
   ]
  },
  {
   "cell_type": "code",
   "execution_count": null,
   "metadata": {},
   "outputs": [],
   "source": [
    "print(costArr[-1])"
   ]
  },
  {
   "cell_type": "code",
   "execution_count": 11,
   "metadata": {},
   "outputs": [],
   "source": [
    "alpLmbTheta.tofile('./train/trainThetaMini2.txt',sep=\"\\n\",format=\"%s\")"
   ]
  },
  {
   "cell_type": "code",
   "execution_count": 13,
   "metadata": {},
   "outputs": [
    {
     "data": {
      "text/plain": [
       "(1, 1, 20398)"
      ]
     },
     "execution_count": 13,
     "metadata": {},
     "output_type": "execute_result"
    }
   ],
   "source": [
    "result.shape"
   ]
  },
  {
   "cell_type": "code",
   "execution_count": 14,
   "metadata": {},
   "outputs": [
    {
     "data": {
      "text/plain": [
       "20398"
      ]
     },
     "execution_count": 14,
     "metadata": {},
     "output_type": "execute_result"
    }
   ],
   "source": [
    "frameCount"
   ]
  },
  {
   "cell_type": "code",
   "execution_count": 15,
   "metadata": {},
   "outputs": [],
   "source": [
    "result.tofile('./train/trainMini.txt',sep=\"\\n\",format=\"%s\")"
   ]
  }
 ],
 "metadata": {
  "kernelspec": {
   "display_name": "Python 3",
   "language": "python",
   "name": "python3"
  },
  "language_info": {
   "codemirror_mode": {
    "name": "ipython",
    "version": 3
   },
   "file_extension": ".py",
   "mimetype": "text/x-python",
   "name": "python",
   "nbconvert_exporter": "python",
   "pygments_lexer": "ipython3",
   "version": "3.8.1"
  }
 },
 "nbformat": 4,
 "nbformat_minor": 2
}
