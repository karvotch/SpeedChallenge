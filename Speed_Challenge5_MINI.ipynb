{
 "cells": [
  {
   "cell_type": "code",
   "execution_count": 1,
   "metadata": {},
   "outputs": [],
   "source": [
    "import numpy as np\n",
    "import cv2\n",
    "import sys\n",
    "np.set_printoptions(threshold=sys.maxsize)"
   ]
  },
  {
   "cell_type": "code",
   "execution_count": 2,
   "metadata": {},
   "outputs": [],
   "source": [
    "cap = cv2.VideoCapture('./train/trainGray.m4v')\n",
    "frameCount = int(cap.get(cv2.CAP_PROP_FRAME_COUNT))\n",
    "frameWidth = int(cap.get(cv2.CAP_PROP_FRAME_WIDTH))\n",
    "frameHeight = int(cap.get(cv2.CAP_PROP_FRAME_HEIGHT))\n",
    "\n",
    "bufTemp = np.empty((frameCount, frameHeight * frameWidth), np.dtype('uint8'))\n",
    "\n",
    "fc = 0\n",
    "ret = True\n",
    "\n",
    "while (fc < frameCount  and ret):\n",
    "    ret, x = np.array(cap.read())\n",
    "    x = x[:,:,0]\n",
    "    x.shape = frameHeight*frameWidth\n",
    "    bufTemp[fc] = x\n",
    "    fc += 1\n",
    "\n",
    "cap.release()\n",
    "\n",
    "# x = bufTemp[0, 0:frameHeight*frameWidth]\n",
    "# x.shape = (frameHeight, frameWidth)"
   ]
  },
  {
   "cell_type": "code",
   "execution_count": 3,
   "metadata": {},
   "outputs": [
    {
     "name": "stdout",
     "output_type": "stream",
     "text": [
      "(20399, 73601)\n",
      "(73601,)\n",
      "<class 'numpy.float32'>\n",
      "1.0\n"
     ]
    }
   ],
   "source": [
    "x = np.empty((frameCount-1, (frameHeight*frameWidth)+1), np.dtype('float32'))\n",
    "print(x.shape)\n",
    "print(x[0].shape)\n",
    "x[0,0] = 1\n",
    "print(type(x[0,0]))\n",
    "print(x[0,0])\n",
    "for j in range(1,frameCount):\n",
    "    i = j-1\n",
    "    firstFrame = np.array(bufTemp[i], dtype='int16')\n",
    "    secondFrame = np.array(bufTemp[j], dtype='int16')\n",
    "    x[i,0] = 1\n",
    "    x[i,1:(frameHeight*frameWidth)+1] = secondFrame - firstFrame\n",
    "    x[i,:] = np.absolute(x[i,:])\n",
    "    mean = np.mean(x[i,:])\n",
    "    x[i,:] = x[i,:] - mean\n",
    "    x[i,:] = x[i,:]/np.std(x[i,:])"
   ]
  },
  {
   "cell_type": "code",
   "execution_count": 4,
   "metadata": {},
   "outputs": [],
   "source": [
    "y = np.loadtxt('./train/train.txt', np.dtype('float64'))\n",
    "theta = np.zeros(((frameHeight*frameWidth)+1), np.dtype('float64'))\n",
    "m = frameCount-1\n",
    "\n",
    "# Alpha greater than 0.16 will overflow and not work.\n",
    "# Alpha around 0.01 or lower seems to do the best.\n",
    "# alpha = np.array([0.1],np.dtype('float64'))\n",
    "alpha2 = np.array([0.00000610351563,0.0000122070313,0.0000244140625,0.000048828125,0.00009765625,0.0001953125,0.000390625,0.00078125,0.0015625,0.003125,0.00625,0.0125,0.025,0.05,0.1],np.dtype('float64'))\n",
    "# alpha = np.array([0.00009765625, 0.0001953125, 0.000390625],np.dtype('float64'))\n",
    "alpha = np.array([0.0001953125],np.dtype('float64'))\n",
    "# alpha2 = np.array([0.0001953125, 0.00009765625, 0.000048828125, 0.0000244140625, 0.0000122070313],np.dtype('float64'))\n",
    "lmbda = np.array([0.64],np.dtype('float64'))\n",
    "\n",
    "outerLoopCount = len(alpha2)\n",
    "loopCount = 20 # Was 5\n",
    "costOnLoop = 20\n",
    "\n",
    "difDivider = 2\n",
    "\n",
    "alpLmbTheta = np.zeros((len(alpha), len(lmbda), ((frameHeight*frameWidth)+1)), np.dtype('float64'))\n",
    "result = np.empty((len(alpha), len(lmbda), frameCount), np.dtype('float64'))\n",
    "alpLmbCost = np.zeros((len(alpha), len(lmbda)), np.dtype('float64'))\n",
    "costArr = np.zeros((1),np.dtype('float64'))\n",
    "beginArr = 1\n",
    "\n",
    "stop = False\n",
    "threshold = 5.0"
   ]
  },
  {
   "cell_type": "code",
   "execution_count": 11,
   "metadata": {},
   "outputs": [],
   "source": [
    "# Uses bufTemp, y, m, alpha, lmbda, alpLmbTheta, loopCount, costArr\n",
    "def learn():\n",
    "    for idx, alp in enumerate(alpha):\n",
    "        for idx2, lmbd in enumerate(lmbda):\n",
    "            print(idx+1, idx2+1, alp, lmbd)\n",
    "            for i in range(1):\n",
    "                cost = 0\n",
    "                for j in range(1,2):\n",
    "                    k = j-1\n",
    "#                     firstFrame = np.array(bufTemp[j-1], dtype='int16')\n",
    "#                     secondFrame = np.array(bufTemp[j], dtype='int16')\n",
    "#                     x = np.empty(((frameHeight*frameWidth)+1), np.dtype('float64'))\n",
    "#                     x[0] = 1\n",
    "#                     x[1:(frameHeight*frameWidth)+1] = secondFrame - firstFrame\n",
    "#                     x = np.absolute(x)\n",
    "#                     mean = np.mean(x)\n",
    "#                     x = x - mean\n",
    "#                     x = x/np.std(x)\n",
    "                    z = np.array(x[k], np.dtype('float64'))\n",
    "                    grad = ((np.dot(z, alpLmbTheta[idx, idx2]) - y[j])*z)/m\n",
    "                    print(type(np.dot(x[k], alpLmbTheta[idx, idx2])))\n",
    "                    print(type(grad))\n",
    "                    print(type(grad[0]))\n",
    "                    grad[1:len(grad)] = grad[1:len(grad)] + ((lmbd/m)*alpLmbTheta[idx,idx2,1:len(alpLmbTheta[idx,idx2])])\n",
    "                    alpLmbTheta[idx,idx2] = (alpLmbTheta[idx,idx2] - (alp*grad))\n",
    "                if i % costOnLoop == 0:\n",
    "                    cost = np.zeros((1), np.dtype('float64'))\n",
    "                    for j in range(1,frameCount):\n",
    "                        k = j-1\n",
    "#                         firstFrame = np.array(bufTemp[j-1], dtype='int16')\n",
    "#                         secondFrame = np.array(bufTemp[j], dtype='int16')\n",
    "#                         x = np.empty(((frameHeight*frameWidth)+1), np.dtype('float64'))\n",
    "#                         x[0] = 1\n",
    "#                         x[1:(frameHeight*frameWidth)+1] = secondFrame - firstFrame\n",
    "#                         x = np.absolute(x)\n",
    "#                         mean = np.mean(x)\n",
    "#                         x = x - mean\n",
    "#                         x = x/np.std(x)\n",
    "                        result[idx][idx2][j-1] = np.dot(x[k],alpLmbTheta[idx,idx2])\n",
    "                        cost = cost + (((result[idx][idx2][j-1] - y[j])**2)/2)\n",
    "                    cost = cost/(2*m)\n",
    "#                             global costArr, beginArr\n",
    "#                             costArr = np.append(costArr, cost)\n",
    "                    print(\"%d:\"%(i), cost)\n",
    "\n",
    "#                     if i >= 3:\n",
    "#                         if (costArr[-2] - costArr[-1]) <  ((costArr[beginArr] - costArr[beginArr+1])/difDivider):\n",
    "#                             alpha[idx] = alp/2\n",
    "# #                             costArr = np.append(costArr, 0)\n",
    "#                             beginArr = len(costArr)\n",
    "#                             return 1\n",
    "\n",
    "        print()"
   ]
  },
  {
   "cell_type": "code",
   "execution_count": 12,
   "metadata": {},
   "outputs": [],
   "source": [
    "def startLearn():\n",
    "    learn()\n",
    "    while costArr[-1] > threshold:\n",
    "        learn()"
   ]
  },
  {
   "cell_type": "code",
   "execution_count": 13,
   "metadata": {},
   "outputs": [],
   "source": [
    "def startLearnRange():\n",
    "    for i in range(outerLoopCount):\n",
    "        alpha[0] = alpha2[i]\n",
    "        learn()\n",
    "        print()"
   ]
  },
  {
   "cell_type": "code",
   "execution_count": 14,
   "metadata": {},
   "outputs": [],
   "source": [
    "def getResult():\n",
    "    \n",
    "    for idx in range(len(alpha)):\n",
    "        for idx2 in range(len(lmbda)):\n",
    "            for j in range(1,frameCount):\n",
    "                k = j-1\n",
    "                z = np.array(x[k], np.dtype('float64'))\n",
    "#                 firstFrame = np.array(bufTemp[j-1], dtype='int16')\n",
    "#                 secondFrame = np.array(bufTemp[j], dtype='int16')\n",
    "#                 x = np.empty(((frameHeight*frameWidth)+1), np.dtype('float64'))\n",
    "#                 x[0] = 1\n",
    "#                 x[1:(frameHeight*frameWidth)+1] = secondFrame - firstFrame\n",
    "#                 x = np.absolute(x)\n",
    "#                 mean = np.mean(x)\n",
    "#                 x = x - mean\n",
    "#                 x = x/np.std(x)\n",
    "                result[idx][idx2][j-1] = np.dot(z,alpLmbTheta[idx,idx2])\n",
    "\n",
    "#     result.tofile('./train/trainMini.txt',sep=\"\\n\",format=\"%s\")"
   ]
  },
  {
   "cell_type": "code",
   "execution_count": 15,
   "metadata": {},
   "outputs": [],
   "source": [
    "def getCost():\n",
    "    cost = np.zeros((1), np.dtype('float64'))\n",
    "    \n",
    "    for idx in range(len(alpha)):\n",
    "        for idx2 in range(len(lmbda)):\n",
    "            for j in range(frameCount+2):\n",
    "#                 cost = cost + (((result[idx][idx2][j] - y[j])**2)/2)\n",
    "                cost = cost + ((result[idx][idx2][j] - y[j])**2)\n",
    "#             cost = cost/(2*m)\n",
    "            cost = cost/(m)\n",
    "            print(lmbda[idx2], \":\", cost)\n",
    "#             alpLmbCost[idx,idx2] = cost\n",
    "#             print(alpha[idx], \":\", cost)\n",
    "        print()"
   ]
  },
  {
   "cell_type": "code",
   "execution_count": 16,
   "metadata": {},
   "outputs": [
    {
     "name": "stdout",
     "output_type": "stream",
     "text": [
      "1 1 0.0001953125 0.64\n",
      "<class 'numpy.float64'>\n",
      "<class 'numpy.ndarray'>\n",
      "<class 'numpy.float64'>\n",
      "0: [53.93043664]\n",
      "\n"
     ]
    }
   ],
   "source": [
    "learn()"
   ]
  },
  {
   "cell_type": "code",
   "execution_count": null,
   "metadata": {},
   "outputs": [],
   "source": [
    "startLearnRange()\n",
    "getResult()\n",
    "getCost()"
   ]
  },
  {
   "cell_type": "code",
   "execution_count": null,
   "metadata": {},
   "outputs": [],
   "source": [
    "lmbda[0] = 1.28\n",
    "startLearnRange()\n",
    "getResult()\n",
    "getCost()"
   ]
  },
  {
   "cell_type": "code",
   "execution_count": null,
   "metadata": {},
   "outputs": [],
   "source": [
    "lmbda[0] = 2.56\n",
    "startLearnRange()\n",
    "getResult()\n",
    "getCost()"
   ]
  },
  {
   "cell_type": "code",
   "execution_count": null,
   "metadata": {},
   "outputs": [],
   "source": [
    "lmbda[0] = 5.12\n",
    "startLearnRange()\n",
    "getResult()\n",
    "getCost()"
   ]
  },
  {
   "cell_type": "code",
   "execution_count": null,
   "metadata": {},
   "outputs": [],
   "source": [
    "alpLmbTheta[0][0] = np.loadtxt('./train/trainThetaMini2.txt', np.dtype('float64'), delimiter='\\n')\n",
    "getResult()\n",
    "getCost()"
   ]
  },
  {
   "cell_type": "code",
   "execution_count": null,
   "metadata": {},
   "outputs": [],
   "source": [
    "alpLmbTheta.tofile('./train/trainThetaMini3.txt',sep=\"\\n\",format=\"%s\")"
   ]
  },
  {
   "cell_type": "code",
   "execution_count": null,
   "metadata": {},
   "outputs": [],
   "source": [
    "result.tofile('./train/trainMini.txt',sep=\"\\n\",format=\"%s\")"
   ]
  },
  {
   "cell_type": "code",
   "execution_count": null,
   "metadata": {},
   "outputs": [],
   "source": [
    "result = np.empty((len(alpha), len(lmbda), frameCount+2), np.dtype('float64'))\n",
    "result[0][0] = np.loadtxt('./train/trainMini.txt', np.dtype('float64'), delimiter='\\n')\n",
    "getCost()"
   ]
  }
 ],
 "metadata": {
  "kernelspec": {
   "display_name": "Python 3",
   "language": "python",
   "name": "python3"
  },
  "language_info": {
   "codemirror_mode": {
    "name": "ipython",
    "version": 3
   },
   "file_extension": ".py",
   "mimetype": "text/x-python",
   "name": "python",
   "nbconvert_exporter": "python",
   "pygments_lexer": "ipython3",
   "version": "3.8.1"
  }
 },
 "nbformat": 4,
 "nbformat_minor": 2
}
