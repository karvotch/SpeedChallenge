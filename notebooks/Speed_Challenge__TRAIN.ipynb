{
 "cells": [
  {
   "cell_type": "code",
   "execution_count": 1,
   "metadata": {},
   "outputs": [],
   "source": [
    "import numpy as np\n",
    "import pandas as pd\n",
    "import matplotlib.pyplot as plt\n",
    "import csv\n",
    "from tqdm import tqdm\n",
    "import cv2 as cv\n",
    "%matplotlib inline\n",
    "# np.set_printoptions(threshold=sys.maxsize)"
   ]
  },
  {
   "cell_type": "code",
   "execution_count": 25,
   "metadata": {},
   "outputs": [],
   "source": [
    "flow_mat = None\n",
    "image_scale = 0.5\n",
    "nb_images = 1 # was 3\n",
    "win_size = 15\n",
    "nb_iterations = 2 # was 3\n",
    "deg_expansion = 5\n",
    "STD = 1.3 # was 1.2"
   ]
  },
  {
   "cell_type": "code",
   "execution_count": 26,
   "metadata": {},
   "outputs": [
    {
     "name": "stdout",
     "output_type": "stream",
     "text": [
      "(480, 640, 3)\n"
     ]
    }
   ],
   "source": [
    "# cap = cv.VideoCapture(cv.samples.findFile(\"../train/videos/trash/trainGray_Clipped.m4v\"))\n",
    "cap = cv.VideoCapture(cv.samples.findFile(\"../train/videos/trainGray.mp4\"))\n",
    "ret, frame1 = cap.read()\n",
    "prvs = cv.cvtColor(frame1,cv.COLOR_BGR2GRAY)\n",
    "# prvs = frame1\n",
    "hsv = np.zeros_like(frame1)\n",
    "hsv[...,1] = 255\n",
    "print(hsv.shape)\n",
    "# print(hsv)\n",
    "while(1):\n",
    "    ret, frame2 = cap.read()\n",
    "    if ret == True:\n",
    "        next = cv.cvtColor(frame2,cv.COLOR_BGR2GRAY)\n",
    "#         next = frame2\n",
    "        flow = cv.calcOpticalFlowFarneback(prvs,next, flow_mat, image_scale, nb_images, win_size, nb_iterations, deg_expansion, STD, 0)\n",
    "#         print(flow.shape)\n",
    "        mag, ang = cv.cartToPolar(flow[...,0], flow[...,1])\n",
    "#         print(mag.shape, ang.shape)\n",
    "        hsv[...,0] = ang*180/np.pi/2\n",
    "        hsv[...,2] = cv.normalize(mag,None,0,255,cv.NORM_MINMAX)\n",
    "        bgr = cv.cvtColor(hsv,cv.COLOR_HSV2BGR)\n",
    "        cv.imshow('frame2',bgr)\n",
    "        k = cv.waitKey(20) & 0xff\n",
    "        if k == 27:\n",
    "            break\n",
    "        elif k == ord('s'):\n",
    "            cv.imwrite('../train/photos/optical_flow/opticalfb.png',frame2)\n",
    "            cv.imwrite('../train/photos/optical_flow/opticalhsv.png',bgr)\n",
    "        prvs = next\n",
    "    else:\n",
    "        break\n",
    "cap.release()\n",
    "cv.destroyAllWindows()"
   ]
  },
  {
   "cell_type": "code",
   "execution_count": null,
   "metadata": {},
   "outputs": [],
   "source": [
    "for i in range(100):\n",
    "    rand_num = np.random.uniform()\n",
    "    bright_factor = 0.2 + rand_num\n",
    "    print(rand_num, bright_factor)"
   ]
  },
  {
   "cell_type": "code",
   "execution_count": null,
   "metadata": {},
   "outputs": [],
   "source": []
  }
 ],
 "metadata": {
  "kernelspec": {
   "display_name": "Python 3",
   "language": "python",
   "name": "python3"
  },
  "language_info": {
   "codemirror_mode": {
    "name": "ipython",
    "version": 3
   },
   "file_extension": ".py",
   "mimetype": "text/x-python",
   "name": "python",
   "nbconvert_exporter": "python",
   "pygments_lexer": "ipython3",
   "version": "3.8.1"
  }
 },
 "nbformat": 4,
 "nbformat_minor": 2
}
