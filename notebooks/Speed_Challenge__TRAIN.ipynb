{
 "cells": [
  {
   "cell_type": "code",
   "execution_count": null,
   "metadata": {},
   "outputs": [],
   "source": [
    "import numpy as np\n",
    "import pandas as pd\n",
    "import matplotlib.pyplot as plt\n",
    "import matplotlib.image as mpimg\n",
    "import skvideo.io\n",
    "import csv\n",
    "import os\n",
    "from tqdm import tqdm\n",
    "import cv2 as cv\n",
    "from scipy.optimize import minimize\n",
    "%matplotlib inline\n",
    "# np.set_printoptions(threshold=sys.maxsize)"
   ]
  },
  {
   "cell_type": "code",
   "execution_count": null,
   "metadata": {},
   "outputs": [],
   "source": [
    "# flow_mat = None\n",
    "# image_scale = 0.5\n",
    "# pyr_images = 1 # was 3\n",
    "# win_size = 15\n",
    "# pyr_iterations = 2 # was 3\n",
    "# poly_expans = 5\n",
    "# std = 1.3 # was 1.2\n",
    "\n",
    "flow_mat = None\n",
    "image_scale = 0.5\n",
    "pyr_images = 1 # was 3\n",
    "win_size = 10\n",
    "pyr_iterations = 2 # was 3\n",
    "poly_expans = 5\n",
    "std = 1.3 # was 1.2"
   ]
  },
  {
   "cell_type": "code",
   "execution_count": null,
   "metadata": {},
   "outputs": [],
   "source": [
    "cap = cv.VideoCapture(cv.samples.findFile(\"../train/videos/trash/trainGray_Clipped.m4v\"))\n",
    "# cap = cv.VideoCapture(cv.samples.findFile(\"../train/videos/trainGray.mp4\"))\n",
    "ret, frame1 = cap.read()\n",
    "prvs = cv.cvtColor(frame1,cv.COLOR_BGR2GRAY)\n",
    "# prvs = frame1\n",
    "hsv = np.zeros_like(frame1)\n",
    "hsv[...,1] = 255\n",
    "while(1):\n",
    "    ret, frame2 = cap.read()\n",
    "    if ret == True:\n",
    "        next = cv.cvtColor(frame2,cv.COLOR_BGR2GRAY)\n",
    "#         next = frame2\n",
    "        flow = cv.calcOpticalFlowFarneback(prvs,next, flow_mat, image_scale, pyr_images, win_size, pyr_iterations, poly_expans, std, 0)\n",
    "        mag, ang = cv.cartToPolar(flow[...,0], flow[...,1])\n",
    "        hsv[...,0] = ang*180/np.pi/2\n",
    "        hsv[...,2] = cv.normalize(mag,None,0,255,cv.NORM_MINMAX)\n",
    "        bgr = cv.cvtColor(hsv,cv.COLOR_HSV2BGR)\n",
    "        cv.imshow('frame2',bgr)\n",
    "        k = cv.waitKey(50) & 0xff\n",
    "        if k == 27:\n",
    "            break\n",
    "        prvs = next\n",
    "    else:\n",
    "        break\n",
    "cap.release()\n",
    "cv.destroyAllWindows()"
   ]
  },
  {
   "cell_type": "code",
   "execution_count": null,
   "metadata": {},
   "outputs": [],
   "source": [
    "grad = ((np.dot(z, alpLmbTheta[idx, idx2]) - trainY[j])*z)/m\n",
    "grad[1:len(grad)] = grad[1:len(grad)] + ((lmbd/m)*alpLmbTheta[idx,idx2,1:len(alpLmbTheta[idx,idx2])])"
   ]
  },
  {
   "cell_type": "code",
   "execution_count": null,
   "metadata": {},
   "outputs": [],
   "source": [
    "for i in range(100):\n",
    "    rand_num = np.random.uniform()\n",
    "    bright_factor = 0.2 + rand_num\n",
    "    print(rand_num, bright_factor)"
   ]
  },
  {
   "cell_type": "code",
   "execution_count": null,
   "metadata": {
    "scrolled": false
   },
   "outputs": [],
   "source": [
    "a = np.arange(18).reshape(9,2)\n",
    "# b = a.reshape(3,3,2).swapaxes(0,2)\n",
    "b = a.reshape(2,3,3)\n",
    "print(a.shape)\n",
    "print(a)\n",
    "print()\n",
    "print(b.shape)\n",
    "print(b)\n",
    "print()\n",
    "b.shape = (9,2)\n",
    "print(b.shape)\n",
    "print(b)"
   ]
  },
  {
   "cell_type": "code",
   "execution_count": null,
   "metadata": {},
   "outputs": [],
   "source": [
    "def adjust_Value(prvs_FRAME, curr_FRAME, HSV_value):\n",
    "    prvs_FRAME = cv.cvtColor(prvs_FRAME, cv.COLOR_BGR2HSV)\n",
    "    curr_FRAME = cv.cvtColor(curr_FRAME, cv.COLOR_BGR2HSV)\n",
    "    prvs_FRAME[...,2] = prvs_FRAME[...,2]*HSV_value\n",
    "    curr_FRAME[...,2] = curr_FRAME[...,2]*HSV_value\n",
    "    return prvs_FRAME, curr_FRAME"
   ]
  },
  {
   "cell_type": "code",
   "execution_count": null,
   "metadata": {},
   "outputs": [],
   "source": [
    "def opticalFlow_DENSE(prvs_FRAME, curr_FRAME):\n",
    "    # flow_mat = None\n",
    "    # image_scale = 0.5\n",
    "    # pyr_images = 1 # was 3\n",
    "    # win_size = 15\n",
    "    # pyr_iterations = 2 # was 3\n",
    "    # poly_expans = 5\n",
    "    # std = 1.3 # was 1.2\n",
    "    \n",
    "    flow_mat = None\n",
    "    image_scale = 0.5\n",
    "    pyr_images = 1 # was 3\n",
    "    win_size = 10\n",
    "    pyr_iterations = 2 # was 3\n",
    "    poly_expans = 5\n",
    "    std = 1.3 # was 1.2\n",
    "\n",
    "    hsv = np.zeros_like(prvs_FRAME)\n",
    "    hsv[...,1] = 255\n",
    "    prvs_FRAME = cv.cvtColor(prvs_FRAME,cv.COLOR_BGR2GRAY)\n",
    "    curr_FRAME = cv.cvtColor(curr_FRAME,cv.COLOR_BGR2GRAY)\n",
    "    flow = cv.calcOpticalFlowFarneback(prvs_FRAME,curr_FRAME,flow_mat,image_scale,pyr_images,win_size,pyr_iterations,poly_expans,std,0)\n",
    "    mag, ang = cv.cartToPolar(flow[...,0], flow[...,1])\n",
    "    hsv[...,0] = ang*180/np.pi/2\n",
    "    hsv[...,2] = cv.normalize(mag,None,0,255,cv.NORM_MINMAX)\n",
    "    bgr = cv.cvtColor(hsv,cv.COLOR_HSV2BGR)\n",
    "    return bgr"
   ]
  },
  {
   "cell_type": "code",
   "execution_count": null,
   "metadata": {},
   "outputs": [],
   "source": [
    "def getData(train_meta, kLoopCount, learn_index):\n",
    "    #print('In getData')\n",
    "    \n",
    "    global img_pix_count\n",
    "    opt_flows = np.empty((0,img_pix_count), dtype='uint8')\n",
    "    speed = np.empty((0))\n",
    "    for k in range(kLoopCount):\n",
    "        HSV_value = np.random.uniform(low=.7, high=1.4)\n",
    "        curr_FRAME = cv.imread(train_meta['image_path'][learn_index[k]])\n",
    "        #curr_FRAME = curr_FRAME[100:440, :-90]\n",
    "        prvs_FRAME = cv.imread(train_meta['image_path'][learn_index[k]-1])\n",
    "        #prvs_FRAME = prvs_FRAME[100:440, :-90]\n",
    "        speed = np.append(speed, train_meta['speed'][learn_index[k]])\n",
    "        prvs_FRAME, curr_FRAME = adjust_Value(prvs_FRAME, curr_FRAME, HSV_value)\n",
    "        opt_flow = opticalFlow_DENSE(prvs_FRAME, curr_FRAME)\n",
    "        opt_flow.shape = img_pix_count\n",
    "        opt_flow.dtype = 'uint8'\n",
    "        opt_flows = np.append(opt_flows, [opt_flow], axis=0)\n",
    "    #print('Opt FLOWS Shape:', opt_flows.shape, 'Type:', opt_flows.dtype)\n",
    "    #print('Speed Shape:', speed.shape, 'Type:', speed.dtype)\n",
    "    \n",
    "    #print('Out getData')\n",
    "    #print()\n",
    "    return opt_flows, speed"
   ]
  },
  {
   "cell_type": "code",
   "execution_count": null,
   "metadata": {},
   "outputs": [],
   "source": [
    "def linearCost(th, X, y, m):\n",
    "    if X.shape[0] % img_pix_count == 0:\n",
    "        print('X Type:', X.dtype, 'X Shape:', X.shape)\n",
    "        data_set_length = int(X.shape[0]/img_pix_count)\n",
    "        print('Data Set Length:', data_set_length, 'Data Set Type:', type(data_set_length))\n",
    "        X = X.reshape(data_set_length, img_pix_count)\n",
    "    J = np.sum((np.dot(X, th) - y)**2)/m\n",
    "    #print()\n",
    "    return J\n",
    "    \n",
    "def linearDer(th, X, y, m):\n",
    "    if X.shape[0] % img_pix_count == 0:\n",
    "        #print('X Type:', X.dtype, 'X Shape:', X.shape)\n",
    "        data_set_length = int(X.shape[0]/img_pix_count)\n",
    "        #print('Data Set Length:', data_set_length, 'Data Set Type:', type(data_set_length))\n",
    "        X = X.reshape(data_set_length, img_pix_count)\n",
    "        #print('X Type:', X.dtype, 'X Shape:', X.shape)\n",
    "        #print('Theta Type:', theta.dtype, 'Theta Shape:', theta.shape)\n",
    "    grad = np.sum((np.dot(X, th) - y)*np.transpose(X), axis=1)/m\n",
    "    #print(grad.shape)\n",
    "    grad[1:len(grad)] = grad[1:len(grad)] + ((lmbd/m)*th[1:len(th)])\n",
    "    #print('Gradient Shape:', grad.shape, 'Gradient Type:', grad.dtype)\n",
    "    #print()\n",
    "    return grad"
   ]
  },
  {
   "cell_type": "code",
   "execution_count": null,
   "metadata": {},
   "outputs": [],
   "source": [
    "def learn(X, y, m, loopCount):\n",
    "    #print('In learn')\n",
    "    \n",
    "    global theta\n",
    "    #theta = (theta - (alpha*linearDer(theta, X,y,m)))\n",
    "    #res = minimize(linearCost, theta, args=(X,y,m), method='BFGS', jac=linearDer, options={'gtol': 1e-6, 'disp': True, 'maxIter': loopCount})\n",
    "    res = minimize(linearCost, theta, args=(X,y,m), method='BFGS', jac=linearDer, options={'disp': True, 'maxiter': loopCount})\n",
    "    \n",
    "    #print('Out learn')\n",
    "    #print()"
   ]
  },
  {
   "cell_type": "code",
   "execution_count": null,
   "metadata": {},
   "outputs": [],
   "source": [
    "def getCost(train_meta, learn_index, train_length, jLoopCount, kLoopCount):\n",
    "    #print('In getCost')\n",
    "    \n",
    "    global COST\n",
    "    cost = 0\n",
    "    index = 0\n",
    "    tqdm.write('Cost Loop')\n",
    "    for j in tqdm(range(jLoopCount)):\n",
    "        kLoopCount = kLoopCount if (index+kLoopCount)<=train_length else (train_length-index)\n",
    "        X, y = getData(train_meta, kLoopCount, learn_index[index:index+kLoopCount])\n",
    "        #print('X Shape:', X.shape, 'Y Shape:', y.shape)\n",
    "        #print('X Type:', X.dtype, 'Y Type:', y.dtype)\n",
    "        index = index+kLoopCount\n",
    "        cost = cost + linearCost(theta, X, y, 1)\n",
    "        #print('cost:',cost)\n",
    "    #cost = cost/learn_index.shape[0]\n",
    "    cost = cost/(jLoopCount*kLoopCount)\n",
    "    COST = np.append(COST, cost)\n",
    "    print('COST:', cost, 'COST Type:', type(cost))\n",
    "    \n",
    "    #print('Out getCost')\n",
    "    #print()"
   ]
  },
  {
   "cell_type": "code",
   "execution_count": null,
   "metadata": {},
   "outputs": [],
   "source": [
    "def startLearn(train_meta, iLoopCount, kLoopCount, learnLoopCount, costOnLoop):\n",
    "    #print('In startLearn')\n",
    "    \n",
    "    train_frames = train_meta.shape[0]\n",
    "    train_length = int(.8*train_frames-1)\n",
    "    #print('Train Length:', train_length)\n",
    "    data_index = np.loadtxt('../train/text/train_val_index.txt', np.dtype('int16'), delimiter='\\n')\n",
    "    learn_index = data_index[0:train_length]\n",
    "    #print('Learn Index:', learn_index.shape)\n",
    "    \n",
    "    #iLoopCount = 1\n",
    "    #kLoopCount = 1\n",
    "    jLoopCount = int(train_length/kLoopCount) if train_length%kLoopCount==0 else (int(train_length/kLoopCount)+1)\n",
    "    #learnLoopCount = 10\n",
    "    #m = kLoopCount\n",
    "    \n",
    "    #getCost(train_meta, learn_index, train_length, jLoopCount, kLoopCount)\n",
    "    for i in range(iLoopCount):\n",
    "        index = 0\n",
    "        tqdm.write(f'Iteration: {i}')\n",
    "        for j in tqdm(range(jLoopCount)):\n",
    "            #print('IDX|JDX:', i, j)\n",
    "            kLoopCount = kLoopCount if (index+kLoopCount)<=train_length else (train_length-index)\n",
    "            m = kLoopCount\n",
    "            opt_flow, speed = getData(train_meta, kLoopCount, learn_index[index:index+kLoopCount])\n",
    "            index = index + kLoopCount\n",
    "            learn(opt_flow, speed, m, learnLoopCount)\n",
    "        if i % costOnLoop == 0:\n",
    "            getCost(train_meta, learn_index, train_length, jLoopCount, kLoopCount)\n",
    "            \n",
    "    #print('Out startLearn')\n",
    "    #print()"
   ]
  },
  {
   "cell_type": "code",
   "execution_count": null,
   "metadata": {},
   "outputs": [],
   "source": [
    "def startValCheck(train_meta, kLoopCount, learnLoopCount):\n",
    "    #print('In startValCheck')\n",
    "    \n",
    "    train_frames = train_meta.shape[0]\n",
    "    train_length = int(.8*train_frames-1)\n",
    "    val_length = int((train_frames-1) - train_length)\n",
    "    #val_length = int(.2*train_frames-1)\n",
    "    #print('Train Length:', train_length)\n",
    "    data_index = np.loadtxt('../train/text/train_val_index.txt', np.dtype('int16'), delimiter='\\n')\n",
    "    val_index = data_index[train_length:]\n",
    "    #print('Val Index:', learn_index.shape)\n",
    "    \n",
    "    #iLoopCount = 1\n",
    "    #kLoopCount = 1\n",
    "    jLoopCount = int(val_length/kLoopCount) if val_length%kLoopCount==0 else (int(val_length/kLoopCount)+1)\n",
    "    #learnLoopCount = 10\n",
    "    #m = kLoopCount\n",
    "    \n",
    "    getCost(train_meta, val_index, val_length, jLoopCount, kLoopCount)"
   ]
  },
  {
   "cell_type": "code",
   "execution_count": null,
   "metadata": {},
   "outputs": [],
   "source": [
    "def plotCost():\n",
    "    index = np.empty((0),np.dtype('int'))\n",
    "    for i in range(len(COST)):\n",
    "        index = np.append(index,i)\n",
    "    plt.plot(index[1:],COST[1:])"
   ]
  },
  {
   "cell_type": "code",
   "execution_count": null,
   "metadata": {},
   "outputs": [],
   "source": [
    "def getResult(train_meta):\n",
    "    \n",
    "    train_frames = train_meta.shape[0]\n",
    "    train_length = int(.8*train_frames-1)\n",
    "    val_length = int(.2*train_frames-1)\n",
    "    \n",
    "    data_index = np.loadtxt('../train/text/train_val_index.txt', np.dtype('int16'), delimiter='\\n')\n",
    "    learn_index = data_index[0:train_length]\n",
    "    val_index = data_index[train_length:]\n",
    "    \n",
    "    train_result = np.empty((0,2), dtype='float32')\n",
    "    val_result = np.empty((0,2), dtype='float32')\n",
    "    \n",
    "    for i in range(train_length):\n",
    "        opt_flow, speed = getData(train_meta, 1, learn_index[i])\n",
    "        train_speed = opt_flow*theta\n",
    "        train_result = np.append(train_result, [[train_speed, speed]])\n",
    "    \n",
    "    for i in range(val_length):\n",
    "        opt_flow, speed = getData(train_meta, 1, val_index[i])\n",
    "        val_speed = opt_flow*theta\n",
    "        val_result = np.append(val_result, [[val_speed, speed]])"
   ]
  },
  {
   "cell_type": "code",
   "execution_count": null,
   "metadata": {},
   "outputs": [],
   "source": [
    "def start(iLoopCount, kLoopCount, learnLoopCount, costOnLoop, alpha_arg, lmbd_arg):\n",
    "    train_csv_path = '../train/text/CSV'\n",
    "    train_meta = pd.read_csv(os.path.join(train_csv_path, 'trainGrayClipped_meta.csv'))\n",
    "    alpha = alpha_arg\n",
    "    lmbd = lmbd_arg\n",
    "    startLearn(train_meta, iLoopCount, kLoopCount, learnLoopCount, costOnLoop)\n",
    "    plotCost()\n",
    "    startValCheck(train_meta, kLoopCount, learnLoopCount)"
   ]
  },
  {
   "cell_type": "code",
   "execution_count": null,
   "metadata": {},
   "outputs": [],
   "source": [
    "# Global Vars\n",
    "#img_pix_count = (cv.imread('../train/photos/images/gray_Clipped/0.jpg'))[100:440, :-90].shape\n",
    "img_pix_count = (cv.imread('../train/photos/images/gray_Clipped/0.jpg')).shape\n",
    "img_pix_count = (img_pix_count[0] * img_pix_count[1])*3\n",
    "print('Pixel Count:', img_pix_count)\n",
    "\n",
    "theta = np.random.uniform(size=())\n",
    "#theta = np.zeros(img_pix_count, dtype='float32')\n",
    "#theta = np.loadtxt('../train/text/theta/train_theta_gray_Clipped.txt', np.dtype('float64'), delimiter='\\n')\n",
    "print('Theta Shape:', theta.shape)\n",
    "COST = np.empty((0))\n",
    "lmbd = 0\n",
    "# lmbd_arr = np.array((1, .5, .05, .005, .001), dtype='float64')\n",
    "#lmbd_arr = np.array((0.0), dtype='float64')\n",
    "alpha = 0.000000001\n",
    "#alpha = 0.00000001\n",
    "# alpha_arr = np.array((0.00005, 0.00001, 0.000005, 0.000001, 0.0000001, 0.00000001, 0.00000001), dtype='float64')\n",
    "#alpha_arr = np.array((0.1, 0.01, 0.001, 0.0001, 0.00000001), dtype='float64')"
   ]
  },
  {
   "cell_type": "code",
   "execution_count": null,
   "metadata": {},
   "outputs": [],
   "source": [
    "start(20, 2, 1, 19, alpha, lmbd)"
   ]
  },
  {
   "cell_type": "code",
   "execution_count": null,
   "metadata": {
    "scrolled": true
   },
   "outputs": [],
   "source": [
    "for idx, alp in enumerate(alpha_arr):\n",
    "    for jdx, lmb in enumerate(lmbd_arr):\n",
    "        print(f'Alpha: {alp}', f'Lambda: {lmb}')\n",
    "        theta = np.zeros(img_pix_count, dtype='float32')\n",
    "        COST = np.empty((0))\n",
    "        start(20, 2000, 1, 19, alp, lmb)"
   ]
  },
  {
   "cell_type": "code",
   "execution_count": null,
   "metadata": {},
   "outputs": [],
   "source": [
    "plotCost()"
   ]
  },
  {
   "cell_type": "code",
   "execution_count": null,
   "metadata": {},
   "outputs": [],
   "source": [
    "for i in range(1,len(COST)-2, 2):\n",
    "    a = COST[i]-COST[i+2]\n",
    "    print(a)"
   ]
  },
  {
   "cell_type": "code",
   "execution_count": null,
   "metadata": {
    "scrolled": true
   },
   "outputs": [],
   "source": [
    "startLearn(train_csv_path)\n",
    "startValCheck(train_csv_path)"
   ]
  },
  {
   "cell_type": "code",
   "execution_count": null,
   "metadata": {},
   "outputs": [],
   "source": [
    "startValCheck(train_csv_path)"
   ]
  },
  {
   "cell_type": "code",
   "execution_count": null,
   "metadata": {},
   "outputs": [],
   "source": [
    "alpha = 0.01          # Doesn't work\n",
    "alpha = 0.001         # Doesn't work\n",
    "alpha = 0.0001        # Doesn't work\n",
    "alpha = 0.00001       # Doesn't work\n",
    "alpha = 0.000001      # Doesn't work\n",
    "alpha = 0.0000001     # Doesn't work\n",
    "alpha = 0.00000001    # Doesn't work\n",
    "alpha = 0.000000001   # Does work\n",
    "alpha = 0.0000000001  # Does work\n",
    "alpha = 0.00000000001 # Does work\n",
    "alpha = 0.00000000005 # Does work slow\n",
    "alpha = 0.000000000001# Does work I think\n",
    "                      #  "
   ]
  },
  {
   "cell_type": "code",
   "execution_count": null,
   "metadata": {},
   "outputs": [],
   "source": [
    "alpha = 0.00000001\n",
    "\n",
    "idx = 1\n",
    "Train Cost = 70.939\n",
    "Val Cost = 64\n",
    "\n",
    "idx = 10\n",
    "Train Cost = 48\n",
    "Val Cost =\n",
    "\n",
    "alpha = 0.000000001\n",
    "\n",
    "idx = 10\n",
    "Train Cost = 32 - 51 # 23.381966590088346 new  24.623130857418463 - 49.147585482569085 right now\n",
    "Val Cost =\n",
    "\n",
    "alpha = 0.0000000001\n",
    "\n",
    "idx = 10\n",
    "Train Cost = 41 - 58 - 35 - 57\n",
    "Val Cost =\n",
    "\n",
    "alpha = 0.00000000005\n",
    "\n",
    "idx = 10\n",
    "Train Cost = 46 - 51 - 38 - 58\n",
    "Val Cost =\n",
    "\n",
    "alpha = 0.00000000001\n",
    "\n",
    "idx = 10\n",
    "Train Cost = \n",
    "Val Cost =\n",
    "\n",
    "alpha = 0.000000000001\n",
    "\n",
    "idx = 10\n",
    "Train Cost = 173 - 135 - 130 - 103 - 111 - 89 - 103\n",
    "Val Cost ="
   ]
  },
  {
   "cell_type": "code",
   "execution_count": null,
   "metadata": {},
   "outputs": [],
   "source": [
    "theta.tofile('../train/text/theta/train_theta_gray_Clipped.txt',sep=\"\\n\",format=\"%s\")"
   ]
  },
  {
   "cell_type": "code",
   "execution_count": null,
   "metadata": {},
   "outputs": [],
   "source": [
    "36"
   ]
  },
  {
   "cell_type": "code",
   "execution_count": null,
   "metadata": {},
   "outputs": [],
   "source": [
    "clipped_photo\n",
    "idx = 20\n",
    "lmbda = 0\n",
    "alpha = 0.000000001\n",
    "kLoopCount = 1\n",
    "23.6, 42.8"
   ]
  },
  {
   "cell_type": "code",
   "execution_count": null,
   "metadata": {},
   "outputs": [],
   "source": [
    "original_photo\n",
    "idx = 20\n",
    "lmbda = 0\n",
    "alpha = 0.000000001\n",
    "kLoopCount = 1\n"
   ]
  },
  {
   "cell_type": "code",
   "execution_count": null,
   "metadata": {},
   "outputs": [],
   "source": []
  }
 ],
 "metadata": {
  "kernelspec": {
   "display_name": "Python 3",
   "language": "python",
   "name": "python3"
  },
  "language_info": {
   "codemirror_mode": {
    "name": "ipython",
    "version": 3
   },
   "file_extension": ".py",
   "mimetype": "text/x-python",
   "name": "python",
   "nbconvert_exporter": "python",
   "pygments_lexer": "ipython3",
   "version": "3.8.1"
  }
 },
 "nbformat": 4,
 "nbformat_minor": 2
}
