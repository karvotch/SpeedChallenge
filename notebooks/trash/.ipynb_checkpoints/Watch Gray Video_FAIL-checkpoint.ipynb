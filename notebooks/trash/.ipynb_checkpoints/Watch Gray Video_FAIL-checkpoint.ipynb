{
 "cells": [
  {
   "cell_type": "code",
   "execution_count": 1,
   "metadata": {},
   "outputs": [],
   "source": [
    "import numpy as np\n",
    "import cv2\n",
    "import sys"
   ]
  },
  {
   "cell_type": "code",
   "execution_count": null,
   "metadata": {},
   "outputs": [],
   "source": [
    "#opt = np.get_printoptions()\n",
    "# Prints the whole numpy array instead of a truncated version.\n",
    "#np.set_printoptions(threshold=sys.maxsize)\n",
    "# Can also use\n",
    "# with np.set_printoptions(threshold=sys.maxsize)\n",
    "#     print(foo)\n",
    "\n",
    "# Resets print options.\n",
    "#np.set_printoptions(**opt)\n",
    "# or\n",
    "#np.set_printoptions(threshold=1000)\n",
    "# This prints the threshold at the current moment.\n",
    "# Can be used to save the default threshold\n",
    "#np.get_printoptions()['threshold']"
   ]
  },
  {
   "cell_type": "code",
   "execution_count": null,
   "metadata": {},
   "outputs": [],
   "source": [
    "cap = cv2.VideoCapture('./test/test.mp4')\n",
    "\n",
    "# Define the codec and create VideoWriter object\n",
    "# Doesn't work\n",
    "#fourcc = cv2.VideoWriter_fourcc(*'XVID')\n",
    "#fourcc = cv2.VideoWriter_fourcc(*'mp4v')\n",
    "fourcc = cv2.VideoWriter_fourcc(*'H264')\n",
    "out = cv2.VideoWriter('./test/testGray.mp4',fourcc, 20.0, (640,480), 0)\n",
    "\n",
    "while(cap.isOpened()):\n",
    "    ret, frame = cap.read()\n",
    "    if ret==True:\n",
    "        # Flip the video\n",
    "        #frame = cv2.flip(frame,0)\n",
    "        gray = cv2.cvtColor(frame, cv2.COLOR_BGR2GRAY)\n",
    "\n",
    "        out.write(gray)\n",
    "\n",
    "        cv2.imshow('frame',gray)\n",
    "        if cv2.waitKey(1) & 0xFF == ord('q'):\n",
    "            break\n",
    "    else:\n",
    "        break\n",
    "\n",
    "# Release everything if job is finished\n",
    "cap.release()\n",
    "out.release()\n",
    "cv2.destroyAllWindows()"
   ]
  },
  {
   "cell_type": "code",
   "execution_count": 2,
   "metadata": {
    "scrolled": false
   },
   "outputs": [],
   "source": [
    "cap = cv2.VideoCapture('./train/trainGray.mp4')\n",
    "\n",
    "while(cap.isOpened()):\n",
    "    ret, frame = cap.read()\n",
    "    \n",
    "    #gray = cv2.cvtColor(frame, cv2.COLOR_BGR2GRAY)\n",
    "    \n",
    "    #cv2.imshow('frame', gray)\n",
    "    cv2.imshow('frame', frame)\n",
    "    if cv2.waitKey(1) & 0xFF == ord('q'):\n",
    "        break\n",
    "\n",
    "cap.release()\n",
    "cv2.destroyAllWindows()"
   ]
  },
  {
   "cell_type": "code",
   "execution_count": null,
   "metadata": {
    "scrolled": true
   },
   "outputs": [],
   "source": [
    "cap = cv2.VideoCapture('./train/train.mp4')\n",
    "frameCount = int(cap.get(cv2.CAP_PROP_FRAME_COUNT))\n",
    "frameWidth = int(cap.get(cv2.CAP_PROP_FRAME_WIDTH))\n",
    "frameHeight = int(cap.get(cv2.CAP_PROP_FRAME_HEIGHT))\n",
    "\n",
    "buf = np.empty((frameHeight, frameWidth, 3), np.dtype('uint8'))\n",
    "grayBuf = np.empty((frameCount, frameHeight, frameWidth), np.dtype('uint8'))\n",
    "\n",
    "fc = 0\n",
    "ret = True\n",
    "\n",
    "while (fc < 1  and ret):\n",
    "    ret, buf = cap.read()\n",
    "    grayBuf[fc] = cv2.cvtColor(buf, cv2.COLOR_BGR2GRAY)\n",
    "    fc += 1\n",
    "\n",
    "cap.release()\n",
    "\n",
    "cv2.namedWindow('frame 10')\n",
    "cv2.imshow('frame 10', grayBuf[0])\n",
    "\n",
    "print(grayBuf.shape)\n",
    "with np.set_printoptions(threshold=sys.maxsize):\n",
    "    print(grayBuf[0])\n",
    "\n",
    "cv2.waitKey(0)\n",
    "cv2.destroyAllWindows()"
   ]
  },
  {
   "cell_type": "code",
   "execution_count": null,
   "metadata": {},
   "outputs": [],
   "source": []
  }
 ],
 "metadata": {
  "kernelspec": {
   "display_name": "Python 3",
   "language": "python",
   "name": "python3"
  },
  "language_info": {
   "codemirror_mode": {
    "name": "ipython",
    "version": 3
   },
   "file_extension": ".py",
   "mimetype": "text/x-python",
   "name": "python",
   "nbconvert_exporter": "python",
   "pygments_lexer": "ipython3",
   "version": "3.8.1"
  }
 },
 "nbformat": 4,
 "nbformat_minor": 4
}
