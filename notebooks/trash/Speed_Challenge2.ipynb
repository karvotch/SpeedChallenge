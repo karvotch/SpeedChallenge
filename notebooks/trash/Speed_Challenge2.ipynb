{
 "cells": [
  {
   "cell_type": "code",
   "execution_count": null,
   "metadata": {},
   "outputs": [],
   "source": [
    "import numpy as np\n",
    "import cv2\n",
    "import sys\n",
    "np.set_printoptions(threshold=sys.maxsize)"
   ]
  },
  {
   "cell_type": "code",
   "execution_count": null,
   "metadata": {},
   "outputs": [],
   "source": [
    "cap = cv2.VideoCapture('./train/trainGray.mp4')\n",
    "frameCount = int(cap.get(cv2.CAP_PROP_FRAME_COUNT))\n",
    "frameWidth = int(cap.get(cv2.CAP_PROP_FRAME_WIDTH))\n",
    "frameHeight = int(cap.get(cv2.CAP_PROP_FRAME_HEIGHT))\n",
    "\n",
    "# buf = np.empty((frameCount, frameHeight, frameWidth), np.dtype('uint8'))\n",
    "bufTemp = np.empty((frameCount, frameHeight * frameWidth), np.dtype('uint8'))\n",
    "\n",
    "fc = 0\n",
    "ret = True\n",
    "\n",
    "# print(buf[fc].shape)\n",
    "# print(np.array(cap.read())[1].shape)\n",
    "# x = np.array(cap.read())[1]\n",
    "# print(x[:,:,0].shape)\n",
    "\n",
    "while (fc < frameCount  and ret):\n",
    "#     ret, x = np.array(cap.read())\n",
    "    ret, x = np.array(cap.read())\n",
    "#     buf[fc] = x[:,:,0]\n",
    "    x = x[:,:,0]\n",
    "    x.shape = frameHeight*frameWidth\n",
    "    bufTemp[fc] = x\n",
    "    fc += 1\n",
    "\n",
    "cap.release()\n",
    "\n",
    "x = bufTemp[0, 0:frameHeight*frameWidth]\n",
    "x.shape = (frameHeight, frameWidth)"
   ]
  },
  {
   "cell_type": "code",
   "execution_count": null,
   "metadata": {},
   "outputs": [],
   "source": [
    "# cv2.namedWindow('frame 10')\n",
    "# cv2.imshow('frame 10', buf[0])\n",
    "cv2.imshow('frame 10', x)\n",
    "\n",
    "# print(buf.shape)\n",
    "print(bufTemp.shape)\n",
    "#with np.set_printoptions(threshold=sys.maxsize):\n",
    "# print(buf[0][0])\n",
    "print(frameWidth)\n",
    "print(bufTemp[0][0])\n",
    "print(bufTemp[0][frameWidth])\n",
    "print(bufTemp[0][(frameWidth*2)])\n",
    "print(bufTemp[0][(frameWidth*3)])\n",
    "print(bufTemp[0][(frameWidth*4)])\n",
    "print(bufTemp[0][(frameWidth*5)])\n",
    "\n",
    "cv2.waitKey(0)\n",
    "cv2.destroyAllWindows()"
   ]
  },
  {
   "cell_type": "code",
   "execution_count": null,
   "metadata": {},
   "outputs": [],
   "source": [
    "# x = bufTemp[1] - bufTemp[0]\n",
    "# x = np.sum(x)\n",
    "# type(x)\n",
    "y = np.sum(bufTemp[0],dtype='int64') - np.sum(bufTemp[1],dtype='int64')\n",
    "# x\n",
    "y\n",
    "# x = np.sum(bufTemp[0],dtype='int64')\n",
    "# y = np.sum(bufTemp[1],dtype='int64')\n",
    "# x,y\n",
    "# y = bufTemp[2] - bufTemp[0]\n",
    "# x.shape = (frameHeight, frameWidth)\n",
    "# print(x.shape)\n",
    "# print(x)\n",
    "# y.shape = (frameHeight, frameWidth)\n",
    "# cv2.imshow('frame 1', x)\n",
    "# cv2.imshow('frame 2', y)\n",
    "# cv2.waitKey(0)\n",
    "# cv2.destroyAllWindows()\n",
    "# (10559437, 10407540)\n",
    "# -151897\n",
    "# Num Pixel/Frame: 307200"
   ]
  },
  {
   "cell_type": "code",
   "execution_count": null,
   "metadata": {},
   "outputs": [],
   "source": [
    "for i in range(2-1):\n",
    "    firstFrame = np.array(bufTemp[i], dtype='int16')\n",
    "    secondFrame = np.array(bufTemp[i+1], dtype='int16')\n",
    "    x = secondFrame - firstFrame\n",
    "    print(x)\n",
    "#     x = np.sum(bufTemp[i+1],dtype='int64') - np.sum(bufTemp[i],dtype='int64')\n",
    "#     print(i, ': ', x)"
   ]
  },
  {
   "cell_type": "code",
   "execution_count": null,
   "metadata": {},
   "outputs": [],
   "source": [
    "with open('somefile.txt', 'a') as the_file:\n",
    "    the_file.write('Hello there\\n')"
   ]
  },
  {
   "cell_type": "code",
   "execution_count": null,
   "metadata": {},
   "outputs": [],
   "source": [
    "with open('somefile2.txt', 'a') as the_file:\n",
    "    a = bufTemp[1] - \n",
    "    the_file.write('Hello there\\n')"
   ]
  },
  {
   "cell_type": "code",
   "execution_count": null,
   "metadata": {},
   "outputs": [],
   "source": [
    "numbo1 = np.array([1, 2, 3, 4, 5])\n",
    "numbo2 = np.array([[2],[4],[6],[8],[10]])\n",
    "print(numbo1)\n",
    "print(numbo1.T)\n",
    "print(numbo2)\n",
    "numbo3 = numbo1 * numbo2\n",
    "numbo4 = numbo2 * numbo1\n",
    "print(numbo3)\n",
    "print(numbo4)\n",
    "print(numbo1.T * numbo2)\n",
    "np.dot(numbo1, numbo2)"
   ]
  }
 ],
 "metadata": {
  "kernelspec": {
   "display_name": "Python 3",
   "language": "python",
   "name": "python3"
  },
  "language_info": {
   "codemirror_mode": {
    "name": "ipython",
    "version": 3
   },
   "file_extension": ".py",
   "mimetype": "text/x-python",
   "name": "python",
   "nbconvert_exporter": "python",
   "pygments_lexer": "ipython3",
   "version": "3.8.1"
  }
 },
 "nbformat": 4,
 "nbformat_minor": 2
}
