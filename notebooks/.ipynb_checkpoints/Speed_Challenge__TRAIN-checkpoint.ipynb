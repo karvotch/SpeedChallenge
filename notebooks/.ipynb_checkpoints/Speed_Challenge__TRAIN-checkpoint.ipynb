{
 "cells": [
  {
   "cell_type": "code",
   "execution_count": null,
   "metadata": {},
   "outputs": [],
   "source": [
    "import numpy as np\n",
    "import pandas as pd\n",
    "import matplotlib.pyplot as plt\n",
    "import matplotlib.image as mpimg\n",
    "import skvideo.io\n",
    "import csv\n",
    "import os\n",
    "from tqdm import tqdm\n",
    "import cv2 as cv\n",
    "from scipy.optimize import minimize\n",
    "%matplotlib inline\n",
    "# np.set_printoptions(threshold=sys.maxsize)"
   ]
  },
  {
   "cell_type": "code",
   "execution_count": null,
   "metadata": {},
   "outputs": [],
   "source": [
    "asset_path = '../train/assets'\n",
    "model_name = 'keras'\n",
    "batch_size = 2\n",
    "num_epoch = 20\n",
    "steps_per_epoch = 400\n",
    "train_name = f'model={model_name}-batch_size={batch_size}-num_epoch={train_iters}-steps_per_epoch={steps_per_epoch}'\n",
    "history_loc = os.path.join(asset_path, )"
   ]
  },
  {
   "cell_type": "code",
   "execution_count": null,
   "metadata": {},
   "outputs": [],
   "source": [
    "# Global Vars\n",
    "#img_pix_count = (cv.imread('../train/photos/images/gray_Clipped/0.jpg'))[100:440, :-90].shape\n",
    "img_pix_count = (cv.imread('../train/photos/images/gray_Clipped/0.jpg')).shape\n",
    "img_pix_count = (img_pix_count[0] * img_pix_count[1])*3\n",
    "print('Pixel Count:', img_pix_count)"
   ]
  },
  {
   "cell_type": "code",
   "execution_count": null,
   "metadata": {},
   "outputs": [],
   "source": [
    "def adjust_Value(prvs_FRAME, curr_FRAME, HSV_value):\n",
    "    prvs_FRAME = cv.cvtColor(prvs_FRAME, cv.COLOR_BGR2HSV)\n",
    "    curr_FRAME = cv.cvtColor(curr_FRAME, cv.COLOR_BGR2HSV)\n",
    "    prvs_FRAME[...,2] = prvs_FRAME[...,2]*HSV_value\n",
    "    curr_FRAME[...,2] = curr_FRAME[...,2]*HSV_value\n",
    "    return prvs_FRAME, curr_FRAME"
   ]
  },
  {
   "cell_type": "code",
   "execution_count": null,
   "metadata": {},
   "outputs": [],
   "source": [
    "def opticalFlow_DENSE(prvs_FRAME, curr_FRAME):\n",
    "    # flow_mat = None\n",
    "    # image_scale = 0.5\n",
    "    # pyr_images = 1 # was 3\n",
    "    # win_size = 15\n",
    "    # pyr_iterations = 2 # was 3\n",
    "    # poly_expans = 5\n",
    "    # std = 1.3 # was 1.2\n",
    "    \n",
    "    flow_mat = None\n",
    "    image_scale = 0.5\n",
    "    pyr_images = 1 # was 3\n",
    "    win_size = 10\n",
    "    pyr_iterations = 2 # was 3\n",
    "    poly_expans = 5\n",
    "    std = 1.3 # was 1.2\n",
    "\n",
    "    hsv = np.zeros_like(prvs_FRAME)\n",
    "    hsv[...,1] = 255\n",
    "    prvs_FRAME = cv.cvtColor(prvs_FRAME,cv.COLOR_BGR2GRAY)\n",
    "    curr_FRAME = cv.cvtColor(curr_FRAME,cv.COLOR_BGR2GRAY)\n",
    "    flow = cv.calcOpticalFlowFarneback(prvs_FRAME,curr_FRAME,flow_mat,image_scale,pyr_images,win_size,pyr_iterations,poly_expans,std,0)\n",
    "    mag, ang = cv.cartToPolar(flow[...,0], flow[...,1])\n",
    "    hsv[...,0] = ang*180/np.pi/2\n",
    "    hsv[...,2] = cv.normalize(mag,None,0,255,cv.NORM_MINMAX)\n",
    "    bgr = cv.cvtColor(hsv,cv.COLOR_HSV2BGR)\n",
    "    return bgr"
   ]
  },
  {
   "cell_type": "code",
   "execution_count": null,
   "metadata": {},
   "outputs": [],
   "source": [
    "def getData(train_meta, kLoopCount, learn_index):\n",
    "    #print('In getData')\n",
    "    \n",
    "    global img_pix_count\n",
    "    opt_flows = np.empty((0,img_pix_count), dtype='uint8')\n",
    "    speed = np.empty((0))\n",
    "    for k in range(kLoopCount):\n",
    "        HSV_value = np.random.uniform(low=.7, high=1.4)\n",
    "        curr_FRAME = cv.imread(train_meta['image_path'][learn_index[k]])\n",
    "        #curr_FRAME = curr_FRAME[100:440, :-90]\n",
    "        prvs_FRAME = cv.imread(train_meta['image_path'][learn_index[k]-1])\n",
    "        #prvs_FRAME = prvs_FRAME[100:440, :-90]\n",
    "        speed = np.append(speed, train_meta['speed'][learn_index[k]])\n",
    "        prvs_FRAME, curr_FRAME = adjust_Value(prvs_FRAME, curr_FRAME, HSV_value)\n",
    "        opt_flow = opticalFlow_DENSE(prvs_FRAME, curr_FRAME)\n",
    "        opt_flow.shape = img_pix_count\n",
    "        opt_flow.dtype = 'uint8'\n",
    "        opt_flows = np.append(opt_flows, [opt_flow], axis=0)\n",
    "    #print('Opt FLOWS Shape:', opt_flows.shape, 'Type:', opt_flows.dtype)\n",
    "    #print('Speed Shape:', speed.shape, 'Type:', speed.dtype)\n",
    "    \n",
    "    #print('Out getData')\n",
    "    #print()\n",
    "    return opt_flows, speed"
   ]
  },
  {
   "cell_type": "code",
   "execution_count": null,
   "metadata": {},
   "outputs": [],
   "source": [
    "def getTrainingData(train_meta, train_index, kLoopCount):\n",
    "    #print('In startLearn')\n",
    "    \n",
    "    train_frames = train_meta.shape[0]\n",
    "    train_length = int(.8*(train_frames-1))\n",
    "    #print('Train Length:', train_length)\n",
    "    data_index = np.loadtxt('../train/text/train_val_index.txt', np.dtype('int16'), delimiter='\\n')\n",
    "    learn_index = data_index[0:train_length]\n",
    "    \n",
    "    \n",
    "    opt_flow, speed = getData(train_meta, kLoopCount, learn_index[index:index+kLoopCount])\n",
    "    \n",
    "    return opt_flow, speed"
   ]
  },
  {
   "cell_type": "code",
   "execution_count": null,
   "metadata": {},
   "outputs": [],
   "source": [
    "def getValData(train_meta, kLoopCount, learnLoopCount):\n",
    "    #print('In startValCheck')\n",
    "    \n",
    "    train_frames = train_meta.shape[0]\n",
    "    train_length = int(.8*train_frames-1)\n",
    "    val_length = int((train_frames-1) - train_length)\n",
    "    #val_length = int(.2*train_frames-1)\n",
    "    #print('Train Length:', train_length)\n",
    "    data_index = np.loadtxt('../train/text/train_val_index.txt', np.dtype('int16'), delimiter='\\n')\n",
    "    val_index = data_index[train_length:]\n",
    "    #print('Val Index:', learn_index.shape)\n",
    "    \n",
    "    #iLoopCount = 1\n",
    "    #kLoopCount = 1\n",
    "    jLoopCount = int(val_length/kLoopCount) if val_length%kLoopCount==0 else (int(val_length/kLoopCount)+1)\n",
    "    #learnLoopCount = 10\n",
    "    #m = kLoopCount\n",
    "    \n",
    "    getCost(train_meta, val_index, val_length, jLoopCount, kLoopCount)"
   ]
  },
  {
   "cell_type": "code",
   "execution_count": null,
   "metadata": {},
   "outputs": [],
   "source": [
    "def createCNNModel():\n",
    "    model = Sequential()\n",
    "    model.add(Conv2D(40, (5,5), (3,3), activation='relu', input_shape=(320,136,3)))\n",
    "    model.add(MaxPooling2D(pool_size=(2,2)))\n",
    "    model.add(Conv2D(20, (5,5), (2,2), activation='relu'))\n",
    "    model.add(MaxPooling2D(pool_size=(2,2)))\n",
    "    model.add(Dropout(0.25))\n",
    "    model.add(Flatten())\n",
    "    model.add(Dense(128, activation='relu'))\n",
    "    model.add(Dropout(0.3))\n",
    "    model.add(Dense(64, activation='relu'))\n",
    "    model.add(Dense(15, activation='relu'))\n",
    "    model.compile(optimizer='adam', loss='mse')\n",
    "    return model"
   ]
  },
  {
   "cell_type": "code",
   "execution_count": null,
   "metadata": {},
   "outputs": [],
   "source": [
    "def start(iLoopCount, kLoopCount, learnLoopCount, costOnLoop, alpha_arg, lmbd_arg):\n",
    "    train_csv_path = '../train/text/CSV'\n",
    "    train_meta = pd.read_csv(os.path.join(train_csv_path, 'trainGrayClipped_meta.csv'))\n",
    "    \n",
    "    data_index = np.loadtxt('../train/text/train_val_index.txt', np.dtype('int16'), delimiter='\\n')\n",
    "    dataset_frames_num = train_meta.shape[0]\n",
    "    train_frames_num = int(.8*(train_frames-1))\n",
    "    \n",
    "    getTrainingData(train_meta, train_index, kLoopCount)\n",
    "    plotCost()\n",
    "    getValData(train_meta, kLoopCount, learnLoopCount)\n",
    "    \n",
    "    model = createCNNModel\n",
    "    "
   ]
  },
  {
   "cell_type": "code",
   "execution_count": null,
   "metadata": {},
   "outputs": [],
   "source": [
    "start(20, 2, 1, 19, alpha, lmbd)"
   ]
  },
  {
   "cell_type": "code",
   "execution_count": null,
   "metadata": {},
   "outputs": [],
   "source": []
  }
 ],
 "metadata": {
  "kernelspec": {
   "display_name": "Python 3",
   "language": "python",
   "name": "python3"
  },
  "language_info": {
   "codemirror_mode": {
    "name": "ipython",
    "version": 3
   },
   "file_extension": ".py",
   "mimetype": "text/x-python",
   "name": "python",
   "nbconvert_exporter": "python",
   "pygments_lexer": "ipython3",
   "version": "3.8.1"
  }
 },
 "nbformat": 4,
 "nbformat_minor": 2
}
