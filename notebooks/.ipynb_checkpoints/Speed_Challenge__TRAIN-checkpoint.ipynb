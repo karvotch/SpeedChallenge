{
 "cells": [
  {
   "cell_type": "code",
   "execution_count": 1,
   "metadata": {},
   "outputs": [],
   "source": [
    "import numpy as np\n",
    "import pandas as pd\n",
    "import matplotlib.pyplot as plt\n",
    "import matplotlib.image as mpimg\n",
    "import skvideo.io\n",
    "import csv\n",
    "import os\n",
    "from tqdm import tqdm\n",
    "import cv2 as cv\n",
    "from scipy.optimize import minimize\n",
    "%matplotlib inline\n",
    "# np.set_printoptions(threshold=sys.maxsize)"
   ]
  },
  {
   "cell_type": "code",
   "execution_count": null,
   "metadata": {},
   "outputs": [],
   "source": [
    "# flow_mat = None\n",
    "# image_scale = 0.5\n",
    "# pyr_images = 1 # was 3\n",
    "# win_size = 15\n",
    "# pyr_iterations = 2 # was 3\n",
    "# poly_expans = 5\n",
    "# std = 1.3 # was 1.2\n",
    "\n",
    "flow_mat = None\n",
    "image_scale = 0.5\n",
    "pyr_images = 1 # was 3\n",
    "win_size = 10\n",
    "pyr_iterations = 2 # was 3\n",
    "poly_expans = 5\n",
    "std = 1.3 # was 1.2"
   ]
  },
  {
   "cell_type": "code",
   "execution_count": null,
   "metadata": {},
   "outputs": [],
   "source": [
    "cap = cv.VideoCapture(cv.samples.findFile(\"../train/videos/trash/trainGray_Clipped.m4v\"))\n",
    "# cap = cv.VideoCapture(cv.samples.findFile(\"../train/videos/trainGray.mp4\"))\n",
    "ret, frame1 = cap.read()\n",
    "prvs = cv.cvtColor(frame1,cv.COLOR_BGR2GRAY)\n",
    "# prvs = frame1\n",
    "hsv = np.zeros_like(frame1)\n",
    "hsv[...,1] = 255\n",
    "while(1):\n",
    "    ret, frame2 = cap.read()\n",
    "    if ret == True:\n",
    "        next = cv.cvtColor(frame2,cv.COLOR_BGR2GRAY)\n",
    "#         next = frame2\n",
    "        flow = cv.calcOpticalFlowFarneback(prvs,next, flow_mat, image_scale, pyr_images, win_size, pyr_iterations, poly_expans, std, 0)\n",
    "        mag, ang = cv.cartToPolar(flow[...,0], flow[...,1])\n",
    "        hsv[...,0] = ang*180/np.pi/2\n",
    "        hsv[...,2] = cv.normalize(mag,None,0,255,cv.NORM_MINMAX)\n",
    "        bgr = cv.cvtColor(hsv,cv.COLOR_HSV2BGR)\n",
    "        cv.imshow('frame2',bgr)\n",
    "        k = cv.waitKey(50) & 0xff\n",
    "        if k == 27:\n",
    "            break\n",
    "        prvs = next\n",
    "    else:\n",
    "        break\n",
    "cap.release()\n",
    "cv.destroyAllWindows()"
   ]
  },
  {
   "cell_type": "code",
   "execution_count": null,
   "metadata": {},
   "outputs": [],
   "source": [
    "grad = ((np.dot(z, alpLmbTheta[idx, idx2]) - trainY[j])*z)/m\n",
    "grad[1:len(grad)] = grad[1:len(grad)] + ((lmbd/m)*alpLmbTheta[idx,idx2,1:len(alpLmbTheta[idx,idx2])])"
   ]
  },
  {
   "cell_type": "code",
   "execution_count": null,
   "metadata": {},
   "outputs": [],
   "source": [
    "for i in range(100):\n",
    "    rand_num = np.random.uniform()\n",
    "    bright_factor = 0.2 + rand_num\n",
    "    print(rand_num, bright_factor)"
   ]
  },
  {
   "cell_type": "code",
   "execution_count": null,
   "metadata": {
    "scrolled": false
   },
   "outputs": [],
   "source": [
    "a = np.arange(18).reshape(9,2)\n",
    "# b = a.reshape(3,3,2).swapaxes(0,2)\n",
    "b = a.reshape(2,3,3)\n",
    "print(a.shape)\n",
    "print(a)\n",
    "print()\n",
    "print(b.shape)\n",
    "print(b)\n",
    "print()\n",
    "b.shape = (9,2)\n",
    "print(b.shape)\n",
    "print(b)"
   ]
  },
  {
   "cell_type": "code",
   "execution_count": null,
   "metadata": {},
   "outputs": [],
   "source": [
    "def adjust_Value(prvs_FRAME, curr_FRAME, HSV_value):\n",
    "    prvs_FRAME = cv.cvtColor(prvs_FRAME, cv.COLOR_BGR2HSV)\n",
    "    curr_FRAME = cv.cvtColor(curr_FRAME, cv.COLOR_BGR2HSV)\n",
    "    prvs_FRAME[...,2] = prvs_FRAME[...,2]*HSV_value\n",
    "    curr_FRAME[...,2] = curr_FRAME[...,2]*HSV_value\n",
    "    return prvs_FRAME, curr_FRAME"
   ]
  },
  {
   "cell_type": "code",
   "execution_count": null,
   "metadata": {},
   "outputs": [],
   "source": [
    "def opticalFlow_DENSE(prvs_FRAME, curr_FRAME):\n",
    "    # flow_mat = None\n",
    "    # image_scale = 0.5\n",
    "    # pyr_images = 1 # was 3\n",
    "    # win_size = 15\n",
    "    # pyr_iterations = 2 # was 3\n",
    "    # poly_expans = 5\n",
    "    # std = 1.3 # was 1.2\n",
    "    \n",
    "    flow_mat = None\n",
    "    image_scale = 0.5\n",
    "    pyr_images = 1 # was 3\n",
    "    win_size = 10\n",
    "    pyr_iterations = 2 # was 3\n",
    "    poly_expans = 5\n",
    "    std = 1.3 # was 1.2\n",
    "\n",
    "    hsv = np.zeros_like(prvs_FRAME)\n",
    "    hsv[...,1] = 255\n",
    "    prvs_FRAME = cv.cvtColor(prvs_FRAME,cv.COLOR_BGR2GRAY)\n",
    "    curr_FRAME = cv.cvtColor(curr_FRAME,cv.COLOR_BGR2GRAY)\n",
    "    flow = cv.calcOpticalFlowFarneback(prvs_FRAME,curr_FRAME,flow_mat,image_scale,pyr_images,win_size,pyr_iterations,poly_expans,std,0)\n",
    "    mag, ang = cv.cartToPolar(flow[...,0], flow[...,1])\n",
    "    hsv[...,0] = ang*180/np.pi/2\n",
    "    hsv[...,2] = cv.normalize(mag,None,0,255,cv.NORM_MINMAX)\n",
    "    bgr = cv.cvtColor(hsv,cv.COLOR_HSV2BGR)\n",
    "    return bgr"
   ]
  },
  {
   "cell_type": "code",
   "execution_count": null,
   "metadata": {},
   "outputs": [],
   "source": [
    "def learn(prvs_FRAME, curr_FRAME, y, loopCount):\n",
    "    z = np.array(trainX[j], np.dtype('float64'))\n",
    "    grad = ((np.dot(z, alpLmbTheta[idx, idx2]) - trainY[j])*z)/m\n",
    "    grad[1:len(grad)] = grad[1:len(grad)] + ((lmbd/m)*alpLmbTheta[idx,idx2,1:len(alpLmbTheta[idx,idx2])])\n",
    "    alpLmbTheta[idx,idx2] = (alpLmbTheta[idx,idx2] - (alp*grad))"
   ]
  },
  {
   "cell_type": "code",
   "execution_count": null,
   "metadata": {},
   "outputs": [],
   "source": [
    "def startLearn(train_csv_path, outerLoopCount, img_pix_count):\n",
    "    csv_path = train_csv_path\n",
    "    train_frames = 20400\n",
    "    train_length = int(.8*train_frames-1)\n",
    "    print('Train Length:', train_length.shape)\n",
    "    learn_index = (np.loadtxt('../train/text/train_val_index.txt', np.dtype('int16'), delimiter='\\n'))[0:train_length]\n",
    "    print('Learn Index:', learn_index.shape)\n",
    "    train_meta = pd.read_csv(os.path.join(train_csv_path, 'trainGrayClipped_meta.csv'))\n",
    "    assert(train_meta.shape[0] == train_frames)\n",
    "    assert(train_meta.shape[1] == 3)\n",
    "    loopCount = 1\n",
    "    pix_count = img_pix_count\n",
    "    \n",
    "    for i in range(outerLoopCount):\n",
    "        for j in range(len(learnIndex)):\n",
    "            HSV_value = np.random.uniform(low=.7, high=1.4)\n",
    "            curr_FRAME = cv.imread(train_meta['image_path'][learnIndex[j]])\n",
    "            prvs_FRAME = cv.imread(train_meta['image_path'][learnIndex[j]-1])\n",
    "            print(prvs_FRAME.shape, curr_FRAME.shape)\n",
    "            speed = train_meta['speed'][learnIndex[j]]\n",
    "            prvs_FRAME, curr_FRAME = adjust_Value(prvs_FRAME, curr_FRAME, HSV_value)\n",
    "            opt_flow_dif = opticalFlow_DENSE(prvs_FRAME, curr_FRAME)\n",
    "            print('Opt Flow:', opt_flow_dif.shape)\n",
    "            opt_flow_dif.shape = ()\n",
    "            learn(opt_flow_dif, speed)"
   ]
  },
  {
   "cell_type": "code",
   "execution_count": null,
   "metadata": {},
   "outputs": [],
   "source": [
    "train_csv_path = '../train/text/CSV'\n",
    "outerLoopCount = 10\n",
    "startLearn(train_csv_path, outerLoopCount, img_pix_count)"
   ]
  }
 ],
 "metadata": {
  "kernelspec": {
   "display_name": "Python 3",
   "language": "python",
   "name": "python3"
  },
  "language_info": {
   "codemirror_mode": {
    "name": "ipython",
    "version": 3
   },
   "file_extension": ".py",
   "mimetype": "text/x-python",
   "name": "python",
   "nbconvert_exporter": "python",
   "pygments_lexer": "ipython3",
   "version": "3.8.1"
  }
 },
 "nbformat": 4,
 "nbformat_minor": 2
}
