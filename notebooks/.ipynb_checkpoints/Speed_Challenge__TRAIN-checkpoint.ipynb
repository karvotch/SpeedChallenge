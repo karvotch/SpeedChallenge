{
 "cells": [
  {
   "cell_type": "code",
   "execution_count": 1,
   "metadata": {},
   "outputs": [],
   "source": [
    "import numpy as np\n",
    "import pandas as pd\n",
    "import matplotlib.pyplot as plt\n",
    "import matplotlib.image as mpimg\n",
    "import skvideo.io\n",
    "import csv\n",
    "import os\n",
    "from tqdm import tqdm\n",
    "import cv2 as cv\n",
    "from scipy.optimize import minimize\n",
    "%matplotlib inline\n",
    "# np.set_printoptions(threshold=sys.maxsize)"
   ]
  },
  {
   "cell_type": "code",
   "execution_count": null,
   "metadata": {},
   "outputs": [],
   "source": [
    "# flow_mat = None\n",
    "# image_scale = 0.5\n",
    "# pyr_images = 1 # was 3\n",
    "# win_size = 15\n",
    "# pyr_iterations = 2 # was 3\n",
    "# poly_expans = 5\n",
    "# std = 1.3 # was 1.2\n",
    "\n",
    "flow_mat = None\n",
    "image_scale = 0.5\n",
    "pyr_images = 1 # was 3\n",
    "win_size = 10\n",
    "pyr_iterations = 2 # was 3\n",
    "poly_expans = 5\n",
    "std = 1.3 # was 1.2"
   ]
  },
  {
   "cell_type": "code",
   "execution_count": null,
   "metadata": {},
   "outputs": [],
   "source": [
    "cap = cv.VideoCapture(cv.samples.findFile(\"../train/videos/trash/trainGray_Clipped.m4v\"))\n",
    "# cap = cv.VideoCapture(cv.samples.findFile(\"../train/videos/trainGray.mp4\"))\n",
    "ret, frame1 = cap.read()\n",
    "prvs = cv.cvtColor(frame1,cv.COLOR_BGR2GRAY)\n",
    "# prvs = frame1\n",
    "hsv = np.zeros_like(frame1)\n",
    "hsv[...,1] = 255\n",
    "while(1):\n",
    "    ret, frame2 = cap.read()\n",
    "    if ret == True:\n",
    "        next = cv.cvtColor(frame2,cv.COLOR_BGR2GRAY)\n",
    "#         next = frame2\n",
    "        flow = cv.calcOpticalFlowFarneback(prvs,next, flow_mat, image_scale, pyr_images, win_size, pyr_iterations, poly_expans, std, 0)\n",
    "        mag, ang = cv.cartToPolar(flow[...,0], flow[...,1])\n",
    "        hsv[...,0] = ang*180/np.pi/2\n",
    "        hsv[...,2] = cv.normalize(mag,None,0,255,cv.NORM_MINMAX)\n",
    "        bgr = cv.cvtColor(hsv,cv.COLOR_HSV2BGR)\n",
    "        cv.imshow('frame2',bgr)\n",
    "        k = cv.waitKey(50) & 0xff\n",
    "        if k == 27:\n",
    "            break\n",
    "        prvs = next\n",
    "    else:\n",
    "        break\n",
    "cap.release()\n",
    "cv.destroyAllWindows()"
   ]
  },
  {
   "cell_type": "code",
   "execution_count": null,
   "metadata": {},
   "outputs": [],
   "source": [
    "grad = ((np.dot(z, alpLmbTheta[idx, idx2]) - trainY[j])*z)/m\n",
    "grad[1:len(grad)] = grad[1:len(grad)] + ((lmbd/m)*alpLmbTheta[idx,idx2,1:len(alpLmbTheta[idx,idx2])])"
   ]
  },
  {
   "cell_type": "code",
   "execution_count": null,
   "metadata": {},
   "outputs": [],
   "source": [
    "for i in range(100):\n",
    "    rand_num = np.random.uniform()\n",
    "    bright_factor = 0.2 + rand_num\n",
    "    print(rand_num, bright_factor)"
   ]
  },
  {
   "cell_type": "code",
   "execution_count": null,
   "metadata": {
    "scrolled": false
   },
   "outputs": [],
   "source": [
    "a = np.arange(18).reshape(9,2)\n",
    "# b = a.reshape(3,3,2).swapaxes(0,2)\n",
    "b = a.reshape(2,3,3)\n",
    "print(a.shape)\n",
    "print(a)\n",
    "print()\n",
    "print(b.shape)\n",
    "print(b)\n",
    "print()\n",
    "b.shape = (9,2)\n",
    "print(b.shape)\n",
    "print(b)"
   ]
  },
  {
   "cell_type": "code",
   "execution_count": 2,
   "metadata": {},
   "outputs": [],
   "source": [
    "def adjust_Value(prvs_FRAME, curr_FRAME, HSV_value):\n",
    "    prvs_FRAME = cv.cvtColor(prvs_FRAME, cv.COLOR_BGR2HSV)\n",
    "    curr_FRAME = cv.cvtColor(curr_FRAME, cv.COLOR_BGR2HSV)\n",
    "    prvs_FRAME[...,2] = prvs_FRAME[...,2]*HSV_value\n",
    "    curr_FRAME[...,2] = curr_FRAME[...,2]*HSV_value\n",
    "    return prvs_FRAME, curr_FRAME"
   ]
  },
  {
   "cell_type": "code",
   "execution_count": 3,
   "metadata": {},
   "outputs": [],
   "source": [
    "def opticalFlow_DENSE(prvs_FRAME, curr_FRAME):\n",
    "    # flow_mat = None\n",
    "    # image_scale = 0.5\n",
    "    # pyr_images = 1 # was 3\n",
    "    # win_size = 15\n",
    "    # pyr_iterations = 2 # was 3\n",
    "    # poly_expans = 5\n",
    "    # std = 1.3 # was 1.2\n",
    "    \n",
    "    flow_mat = None\n",
    "    image_scale = 0.5\n",
    "    pyr_images = 1 # was 3\n",
    "    win_size = 10\n",
    "    pyr_iterations = 2 # was 3\n",
    "    poly_expans = 5\n",
    "    std = 1.3 # was 1.2\n",
    "\n",
    "    hsv = np.zeros_like(prvs_FRAME)\n",
    "    hsv[...,1] = 255\n",
    "    prvs_FRAME = cv.cvtColor(prvs_FRAME,cv.COLOR_BGR2GRAY)\n",
    "    curr_FRAME = cv.cvtColor(curr_FRAME,cv.COLOR_BGR2GRAY)\n",
    "    flow = cv.calcOpticalFlowFarneback(prvs_FRAME,curr_FRAME,flow_mat,image_scale,pyr_images,win_size,pyr_iterations,poly_expans,std,0)\n",
    "    mag, ang = cv.cartToPolar(flow[...,0], flow[...,1])\n",
    "    hsv[...,0] = ang*180/np.pi/2\n",
    "    hsv[...,2] = cv.normalize(mag,None,0,255,cv.NORM_MINMAX)\n",
    "    bgr = cv.cvtColor(hsv,cv.COLOR_HSV2BGR)\n",
    "    return bgr"
   ]
  },
  {
   "cell_type": "code",
   "execution_count": 4,
   "metadata": {},
   "outputs": [],
   "source": [
    "def getData(train_meta, kLoopCount, learn_index):\n",
    "    #print('In getData')\n",
    "    global img_pix_count\n",
    "    opt_flows = np.empty((0,img_pix_count), dtype='uint8')\n",
    "    speed = np.empty((0))\n",
    "    for k in range(kLoopCount):\n",
    "        HSV_value = np.random.uniform(low=.7, high=1.4)\n",
    "        curr_FRAME = cv.imread(train_meta['image_path'][learn_index[k]])\n",
    "        prvs_FRAME = cv.imread(train_meta['image_path'][learn_index[k]-1])\n",
    "        speed = np.append(speed, train_meta['speed'][learn_index[k]])\n",
    "        prvs_FRAME, curr_FRAME = adjust_Value(prvs_FRAME, curr_FRAME, HSV_value)\n",
    "        opt_flow = opticalFlow_DENSE(prvs_FRAME, curr_FRAME)\n",
    "        opt_flow.shape = img_pix_count\n",
    "        opt_flow.dtype = 'uint8'\n",
    "        opt_flows = np.append(opt_flows, [opt_flow], axis=0)\n",
    "    #print('Opt FLOWS Shape:', opt_flows.shape, 'Type:', opt_flows.dtype)\n",
    "    #print('Speed Shape:', speed.shape, 'Type:', speed.dtype)\n",
    "    #print('Out getData')\n",
    "    #print()\n",
    "    return opt_flows, speed"
   ]
  },
  {
   "cell_type": "code",
   "execution_count": 5,
   "metadata": {},
   "outputs": [],
   "source": [
    "def linearCost(th, X, y, m):\n",
    "    if X.shape[0] % img_pix_count == 0:\n",
    "        print('X Type:', X.dtype, 'X Shape:', X.shape)\n",
    "        data_set_length = int(X.shape[0]/img_pix_count)\n",
    "        print('Data Set Length:', data_set_length, 'Data Set Type:', type(data_set_length))\n",
    "        X = X.reshape(data_set_length, img_pix_count)\n",
    "    J = np.sum((np.dot(X, th) - y)**2)/m\n",
    "    #print()\n",
    "    return J\n",
    "    \n",
    "def linearDer(th, X, y, m):\n",
    "    if X.shape[0] % img_pix_count == 0:\n",
    "        #print('X Type:', X.dtype, 'X Shape:', X.shape)\n",
    "        data_set_length = int(X.shape[0]/img_pix_count)\n",
    "        #print('Data Set Length:', data_set_length, 'Data Set Type:', type(data_set_length))\n",
    "        X = X.reshape(data_set_length, img_pix_count)\n",
    "        #print('X Type:', X.dtype, 'X Shape:', X.shape)\n",
    "        #print('Theta Type:', theta.dtype, 'Theta Shape:', theta.shape)\n",
    "    grad = np.sum((np.dot(X, th) - y)*np.transpose(X), axis=1)/m\n",
    "    #print(grad.shape)\n",
    "    grad[1:len(grad)] = grad[1:len(grad)] + ((lmbd/m)*th[1:len(th)])\n",
    "    #print('Gradient Shape:', grad.shape, 'Gradient Type:', grad.dtype)\n",
    "    #print()\n",
    "    return grad"
   ]
  },
  {
   "cell_type": "code",
   "execution_count": 6,
   "metadata": {},
   "outputs": [],
   "source": [
    "def learn(X, y, m, loopCount):\n",
    "    #print('In learn')\n",
    "    global theta\n",
    "    theta = (theta - (alpha*linearDer(theta, X,y,m)))\n",
    "    #res = minimize(linearCost, theta, args=(X,y,m), method='BFGS', jac=linearDer, options={'gtol': 1e-6, 'disp': True, 'maxIter': loopCount})\n",
    "    #print('X Shape:', X.shape, 'Y Shape:', y.shape)\n",
    "    #res = minimize(linearCost, X, args=(y,m), method='BFGS', jac=linearDer, options={'disp': True, 'maxiter': loopCount})\n",
    "    #print('Out learn')\n",
    "    #print()"
   ]
  },
  {
   "cell_type": "code",
   "execution_count": 7,
   "metadata": {},
   "outputs": [],
   "source": [
    "def getCost(train_meta, learn_index, train_length, jLoopCount, kLoopCount):\n",
    "    #print('In getCost')\n",
    "    global COST\n",
    "    cost = 0\n",
    "    index = 0\n",
    "    tqdm.write('Cost Loop')\n",
    "    for j in tqdm(range(jLoopCount)):\n",
    "        kLoopCount = kLoopCount if (index+kLoopCount)<=train_length else (train_length-index)\n",
    "        X, y = getData(train_meta, kLoopCount, learn_index[index:index+kLoopCount])\n",
    "        #print('X Shape:', X.shape, 'Y Shape:', y.shape)\n",
    "        #print('X Type:', X.dtype, 'Y Type:', y.dtype)\n",
    "        index = index+kLoopCount\n",
    "        cost = cost + linearCost(theta, X, y, 1)\n",
    "        #print('cost:',cost)\n",
    "    #cost = cost/learn_index.shape[0]\n",
    "    cost = cost/(jLoopCount*kLoopCount)\n",
    "    COST = np.append(COST, cost)\n",
    "    print('COST:', cost, 'COST Type:', type(cost))\n",
    "    #print('Out getCost')\n",
    "    #print()"
   ]
  },
  {
   "cell_type": "code",
   "execution_count": 8,
   "metadata": {},
   "outputs": [],
   "source": [
    "def startLearn(train_meta, iLoopCount, kLoopCount, learnLoopCount, costOnLoop):\n",
    "    #print('In startLearn')\n",
    "    \n",
    "    train_frames = train_meta.shape[0]\n",
    "    train_length = int(.8*train_frames-1)\n",
    "    #print('Train Length:', train_length)\n",
    "    data_index = np.loadtxt('../train/text/train_val_index.txt', np.dtype('int16'), delimiter='\\n')\n",
    "    learn_index = data_index[0:train_length]\n",
    "    #print('Learn Index:', learn_index.shape)\n",
    "    \n",
    "    #iLoopCount = 1\n",
    "    #kLoopCount = 1\n",
    "    jLoopCount = int(train_length/kLoopCount) if train_length%kLoopCount==0 else (int(train_length/kLoopCount)+1)\n",
    "    #learnLoopCount = 10\n",
    "    #m = kLoopCount\n",
    "    \n",
    "    #getCost(train_meta, learn_index, train_length, jLoopCount, kLoopCount)\n",
    "    for i in range(iLoopCount):\n",
    "        index = 0\n",
    "        tqdm.write(f'Iteration: {i}')\n",
    "        for j in tqdm(range(jLoopCount)):\n",
    "            #print('IDX|JDX:', i, j)\n",
    "            kLoopCount = kLoopCount if (index+kLoopCount)<=train_length else (train_length-index)\n",
    "            m = kLoopCount\n",
    "            opt_flow, speed = getData(train_meta, kLoopCount, learn_index[index:index+kLoopCount])\n",
    "            index = index + kLoopCount\n",
    "            learn(opt_flow, speed, m, learnLoopCount)\n",
    "        if i % costOnLoop == 0:\n",
    "            getCost(train_meta, learn_index, train_length, jLoopCount, kLoopCount)\n",
    "    #print('Out startLearn')\n",
    "    #print()"
   ]
  },
  {
   "cell_type": "code",
   "execution_count": 9,
   "metadata": {},
   "outputs": [],
   "source": [
    "def startValCheck(train_meta, kLoopCount, learnLoopCount):\n",
    "    #print('In startLearn')\n",
    "    \n",
    "    train_frames = train_meta.shape[0]\n",
    "    train_length = int(.8*train_frames-1)\n",
    "    val_length = int((train_frames-1) - train_length)\n",
    "    #val_length = int(.2*train_frames-1)\n",
    "    #print('Train Length:', train_length)\n",
    "    data_index = np.loadtxt('../train/text/train_val_index.txt', np.dtype('int16'), delimiter='\\n')\n",
    "    val_index = data_index[train_length:]\n",
    "    #print('Val Index:', learn_index.shape)\n",
    "    \n",
    "    #iLoopCount = 1\n",
    "    #kLoopCount = 1\n",
    "    jLoopCount = int(val_length/kLoopCount) if val_length%kLoopCount==0 else (int(val_length/kLoopCount)+1)\n",
    "    #learnLoopCount = 10\n",
    "    #m = kLoopCount\n",
    "    \n",
    "    getCost(train_meta, val_index, val_length, jLoopCount, kLoopCount)"
   ]
  },
  {
   "cell_type": "code",
   "execution_count": 10,
   "metadata": {},
   "outputs": [],
   "source": [
    "def plotCost():\n",
    "    index = np.empty((0),np.dtype('int'))\n",
    "    for i in range(len(COST)):\n",
    "        index = np.append(index,i)\n",
    "    plt.plot(index[1:],COST[1:])"
   ]
  },
  {
   "cell_type": "code",
   "execution_count": 11,
   "metadata": {},
   "outputs": [],
   "source": [
    "def getResult(train_meta):\n",
    "    \n",
    "    train_frames = train_meta.shape[0]\n",
    "    train_length = int(.8*train_frames-1)\n",
    "    val_length = int(.2*train_frames-1)\n",
    "    \n",
    "    data_index = np.loadtxt('../train/text/train_val_index.txt', np.dtype('int16'), delimiter='\\n')\n",
    "    learn_index = data_index[0:train_length]\n",
    "    val_index = data_index[train_length:]\n",
    "    \n",
    "    train_result = np.empty((0,2), dtype='float32')\n",
    "    val_result = np.empty((0,2), dtype='float32')\n",
    "    \n",
    "    for i in range(train_length):\n",
    "        opt_flow, speed = getData(train_meta, 1, learn_index[i])\n",
    "        train_speed = opt_flow*theta\n",
    "        train_result = np.append(train_result, [[train_speed, speed]])\n",
    "    \n",
    "    for i in range(val_length):\n",
    "        opt_flow, speed = getData(train_meta, 1, val_index[i])\n",
    "        val_speed = opt_flow*theta\n",
    "        val_result = np.append(val_result, [[val_speed, speed]])"
   ]
  },
  {
   "cell_type": "code",
   "execution_count": 12,
   "metadata": {},
   "outputs": [],
   "source": [
    "def start(iLoopCount, kLoopCount, learnLoopCount, costOnLoop, alpha_arg, lmbd_arg):\n",
    "    train_csv_path = '../train/text/CSV'\n",
    "    train_meta = pd.read_csv(os.path.join(train_csv_path, 'trainGrayClipped_meta.csv'))\n",
    "    alpha = alpha_arg\n",
    "    lmbd = lmbd_arg\n",
    "    startLearn(train_meta, iLoopCount, kLoopCount, learnLoopCount, costOnLoop)\n",
    "    plotCost()\n",
    "    startValCheck(train_meta, kLoopCount, learnLoopCount)"
   ]
  },
  {
   "cell_type": "code",
   "execution_count": 13,
   "metadata": {},
   "outputs": [
    {
     "name": "stdout",
     "output_type": "stream",
     "text": [
      "Pixel Count: 130560\n",
      "Theta Shape: (130560,)\n"
     ]
    }
   ],
   "source": [
    "# Global Vars\n",
    "img_pix_count = (cv.imread('../train/photos/images/gray_Clipped/0.jpg')).shape\n",
    "img_pix_count = (img_pix_count[0] * img_pix_count[1])*3\n",
    "print('Pixel Count:', img_pix_count)\n",
    "\n",
    "theta = np.zeros(img_pix_count, dtype='float32')\n",
    "#theta = np.loadtxt('../train/text/theta/train_theta_gray_Clipped.txt', np.dtype('float64'), delimiter='\\n')\n",
    "print('Theta Shape:', theta.shape)\n",
    "COST = np.empty((0))\n",
    "lmbd = 0\n",
    "# lmbd_arr = np.array((1, .5, .05, .005, .001), dtype='float64')\n",
    "#lmbd_arr = np.array((0.0), dtype='float64')\n",
    "alpha = 0.000000001\n",
    "#alpha = 0.00000001\n",
    "# alpha_arr = np.array((0.00005, 0.00001, 0.000005, 0.000001, 0.0000001, 0.00000001, 0.00000001), dtype='float64')\n",
    "#alpha_arr = np.array((0.1, 0.01, 0.001, 0.0001, 0.00000001), dtype='float64')"
   ]
  },
  {
   "cell_type": "code",
   "execution_count": null,
   "metadata": {
    "scrolled": true
   },
   "outputs": [],
   "source": [
    "for idx, alp in enumerate(alpha_arr):\n",
    "    for jdx, lmb in enumerate(lmbd_arr):\n",
    "        print(f'Alpha: {alp}', f'Lambda: {lmb}')\n",
    "        theta = np.zeros(img_pix_count, dtype='float32')\n",
    "        COST = np.empty((0))\n",
    "        start(20, 2000, 1, 19, alp, lmb)"
   ]
  },
  {
   "cell_type": "code",
   "execution_count": 14,
   "metadata": {},
   "outputs": [
    {
     "name": "stderr",
     "output_type": "stream",
     "text": [
      "  0%|          | 7/16319 [00:00<04:14, 64.22it/s]"
     ]
    },
    {
     "name": "stdout",
     "output_type": "stream",
     "text": [
      "Iteration: 0\n"
     ]
    },
    {
     "name": "stderr",
     "output_type": "stream",
     "text": [
      "100%|██████████| 16319/16319 [04:25<00:00, 61.35it/s]\n",
      "  0%|          | 7/16319 [00:00<04:45, 57.18it/s]"
     ]
    },
    {
     "name": "stdout",
     "output_type": "stream",
     "text": [
      "Cost Loop\n"
     ]
    },
    {
     "name": "stderr",
     "output_type": "stream",
     "text": [
      "100%|██████████| 16319/16319 [04:12<00:00, 64.51it/s]\n",
      "  0%|          | 6/16319 [00:00<04:48, 56.50it/s]"
     ]
    },
    {
     "name": "stdout",
     "output_type": "stream",
     "text": [
      "COST: 31.64449231598071 COST Type: <class 'numpy.float64'>\n",
      "Iteration: 1\n"
     ]
    },
    {
     "name": "stderr",
     "output_type": "stream",
     "text": [
      "100%|██████████| 16319/16319 [04:28<00:00, 60.78it/s]\n",
      "  0%|          | 6/16319 [00:00<04:50, 56.07it/s]"
     ]
    },
    {
     "name": "stdout",
     "output_type": "stream",
     "text": [
      "Iteration: 2\n"
     ]
    },
    {
     "name": "stderr",
     "output_type": "stream",
     "text": [
      "100%|██████████| 16319/16319 [04:30<00:00, 60.32it/s]\n",
      "  0%|          | 6/16319 [00:00<04:43, 57.53it/s]"
     ]
    },
    {
     "name": "stdout",
     "output_type": "stream",
     "text": [
      "Cost Loop\n"
     ]
    },
    {
     "name": "stderr",
     "output_type": "stream",
     "text": [
      "100%|██████████| 16319/16319 [04:12<00:00, 64.60it/s]\n",
      "  0%|          | 5/16319 [00:00<05:53, 46.19it/s]"
     ]
    },
    {
     "name": "stdout",
     "output_type": "stream",
     "text": [
      "COST: 28.996162370818002 COST Type: <class 'numpy.float64'>\n",
      "Iteration: 3\n"
     ]
    },
    {
     "name": "stderr",
     "output_type": "stream",
     "text": [
      "100%|██████████| 16319/16319 [04:29<00:00, 60.45it/s]\n",
      "  0%|          | 5/16319 [00:00<05:30, 49.38it/s]"
     ]
    },
    {
     "name": "stdout",
     "output_type": "stream",
     "text": [
      "Iteration: 4\n"
     ]
    },
    {
     "name": "stderr",
     "output_type": "stream",
     "text": [
      "100%|██████████| 16319/16319 [04:27<00:00, 60.92it/s]\n",
      "  0%|          | 7/16319 [00:00<04:15, 63.91it/s]"
     ]
    },
    {
     "name": "stdout",
     "output_type": "stream",
     "text": [
      "Cost Loop\n"
     ]
    },
    {
     "name": "stderr",
     "output_type": "stream",
     "text": [
      "100%|██████████| 16319/16319 [04:12<00:00, 64.52it/s]\n",
      "  0%|          | 7/16319 [00:00<04:15, 63.81it/s]"
     ]
    },
    {
     "name": "stdout",
     "output_type": "stream",
     "text": [
      "COST: 26.82890654626197 COST Type: <class 'numpy.float64'>\n",
      "Iteration: 5\n"
     ]
    },
    {
     "name": "stderr",
     "output_type": "stream",
     "text": [
      "100%|██████████| 16319/16319 [04:29<00:00, 60.58it/s]\n",
      "  0%|          | 7/16319 [00:00<04:11, 64.87it/s]"
     ]
    },
    {
     "name": "stdout",
     "output_type": "stream",
     "text": [
      "Iteration: 6\n"
     ]
    },
    {
     "name": "stderr",
     "output_type": "stream",
     "text": [
      "100%|██████████| 16319/16319 [04:27<00:00, 60.96it/s]\n",
      "  0%|          | 8/16319 [00:00<03:51, 70.43it/s]"
     ]
    },
    {
     "name": "stdout",
     "output_type": "stream",
     "text": [
      "Cost Loop\n"
     ]
    },
    {
     "name": "stderr",
     "output_type": "stream",
     "text": [
      "100%|██████████| 16319/16319 [04:11<00:00, 64.79it/s]\n",
      "  0%|          | 7/16319 [00:00<04:26, 61.27it/s]"
     ]
    },
    {
     "name": "stdout",
     "output_type": "stream",
     "text": [
      "COST: 26.429331661530625 COST Type: <class 'numpy.float64'>\n",
      "Iteration: 7\n"
     ]
    },
    {
     "name": "stderr",
     "output_type": "stream",
     "text": [
      "100%|██████████| 16319/16319 [04:27<00:00, 61.11it/s]\n",
      "  0%|          | 7/16319 [00:00<04:29, 60.62it/s]"
     ]
    },
    {
     "name": "stdout",
     "output_type": "stream",
     "text": [
      "Iteration: 8\n"
     ]
    },
    {
     "name": "stderr",
     "output_type": "stream",
     "text": [
      "100%|██████████| 16319/16319 [04:44<00:00, 57.40it/s]\n",
      "  0%|          | 7/16319 [00:00<04:01, 67.65it/s]"
     ]
    },
    {
     "name": "stdout",
     "output_type": "stream",
     "text": [
      "Cost Loop\n"
     ]
    },
    {
     "name": "stderr",
     "output_type": "stream",
     "text": [
      "100%|██████████| 16319/16319 [04:27<00:00, 60.96it/s]\n",
      "  0%|          | 3/16319 [00:00<09:24, 28.91it/s]"
     ]
    },
    {
     "name": "stdout",
     "output_type": "stream",
     "text": [
      "COST: 25.16317538227661 COST Type: <class 'numpy.float64'>\n",
      "Iteration: 9\n"
     ]
    },
    {
     "name": "stderr",
     "output_type": "stream",
     "text": [
      "100%|██████████| 16319/16319 [04:41<00:00, 57.99it/s]\n",
      "  0%|          | 7/16319 [00:00<04:05, 66.36it/s]"
     ]
    },
    {
     "name": "stdout",
     "output_type": "stream",
     "text": [
      "Iteration: 10\n"
     ]
    },
    {
     "name": "stderr",
     "output_type": "stream",
     "text": [
      "100%|██████████| 16319/16319 [04:40<00:00, 58.09it/s]\n",
      "  0%|          | 7/16319 [00:00<04:12, 64.60it/s]"
     ]
    },
    {
     "name": "stdout",
     "output_type": "stream",
     "text": [
      "Cost Loop\n"
     ]
    },
    {
     "name": "stderr",
     "output_type": "stream",
     "text": [
      "100%|██████████| 16319/16319 [04:31<00:00, 60.21it/s]\n",
      "  0%|          | 6/16319 [00:00<04:54, 55.47it/s]"
     ]
    },
    {
     "name": "stdout",
     "output_type": "stream",
     "text": [
      "COST: 24.99848417444039 COST Type: <class 'numpy.float64'>\n",
      "Iteration: 11\n"
     ]
    },
    {
     "name": "stderr",
     "output_type": "stream",
     "text": [
      "100%|██████████| 16319/16319 [04:28<00:00, 60.77it/s]\n",
      "  0%|          | 6/16319 [00:00<05:24, 50.31it/s]"
     ]
    },
    {
     "name": "stdout",
     "output_type": "stream",
     "text": [
      "Iteration: 12\n"
     ]
    },
    {
     "name": "stderr",
     "output_type": "stream",
     "text": [
      "100%|██████████| 16319/16319 [04:27<00:00, 61.01it/s]\n",
      "  0%|          | 7/16319 [00:00<04:00, 67.68it/s]"
     ]
    },
    {
     "name": "stdout",
     "output_type": "stream",
     "text": [
      "Cost Loop\n"
     ]
    },
    {
     "name": "stderr",
     "output_type": "stream",
     "text": [
      "100%|██████████| 16319/16319 [04:09<00:00, 65.37it/s]\n",
      "  0%|          | 7/16319 [00:00<04:13, 64.40it/s]"
     ]
    },
    {
     "name": "stdout",
     "output_type": "stream",
     "text": [
      "COST: 24.39370906469029 COST Type: <class 'numpy.float64'>\n",
      "Iteration: 13\n"
     ]
    },
    {
     "name": "stderr",
     "output_type": "stream",
     "text": [
      "100%|██████████| 16319/16319 [04:27<00:00, 61.09it/s]\n",
      "  0%|          | 7/16319 [00:00<04:22, 62.11it/s]"
     ]
    },
    {
     "name": "stdout",
     "output_type": "stream",
     "text": [
      "Iteration: 14\n"
     ]
    },
    {
     "name": "stderr",
     "output_type": "stream",
     "text": [
      "100%|██████████| 16319/16319 [04:26<00:00, 61.22it/s]\n",
      "  0%|          | 8/16319 [00:00<03:47, 71.64it/s]"
     ]
    },
    {
     "name": "stdout",
     "output_type": "stream",
     "text": [
      "Cost Loop\n"
     ]
    },
    {
     "name": "stderr",
     "output_type": "stream",
     "text": [
      "100%|██████████| 16319/16319 [04:09<00:00, 65.30it/s]\n",
      "  0%|          | 6/16319 [00:00<05:09, 52.73it/s]"
     ]
    },
    {
     "name": "stdout",
     "output_type": "stream",
     "text": [
      "COST: 25.243973755394492 COST Type: <class 'numpy.float64'>\n",
      "Iteration: 15\n"
     ]
    },
    {
     "name": "stderr",
     "output_type": "stream",
     "text": [
      "100%|██████████| 16319/16319 [04:25<00:00, 61.38it/s]\n",
      "  0%|          | 7/16319 [00:00<04:01, 67.63it/s]"
     ]
    },
    {
     "name": "stdout",
     "output_type": "stream",
     "text": [
      "Iteration: 16\n"
     ]
    },
    {
     "name": "stderr",
     "output_type": "stream",
     "text": [
      "100%|██████████| 16319/16319 [04:26<00:00, 61.29it/s]\n",
      "  0%|          | 8/16319 [00:00<03:47, 71.60it/s]"
     ]
    },
    {
     "name": "stdout",
     "output_type": "stream",
     "text": [
      "Cost Loop\n"
     ]
    },
    {
     "name": "stderr",
     "output_type": "stream",
     "text": [
      "100%|██████████| 16319/16319 [04:09<00:00, 65.36it/s]\n",
      "  0%|          | 6/16319 [00:00<04:34, 59.36it/s]"
     ]
    },
    {
     "name": "stdout",
     "output_type": "stream",
     "text": [
      "COST: 23.842087037670414 COST Type: <class 'numpy.float64'>\n",
      "Iteration: 17\n"
     ]
    },
    {
     "name": "stderr",
     "output_type": "stream",
     "text": [
      "100%|██████████| 16319/16319 [04:26<00:00, 61.21it/s]\n",
      "  0%|          | 6/16319 [00:00<05:16, 51.53it/s]"
     ]
    },
    {
     "name": "stdout",
     "output_type": "stream",
     "text": [
      "Iteration: 18\n"
     ]
    },
    {
     "name": "stderr",
     "output_type": "stream",
     "text": [
      "100%|██████████| 16319/16319 [04:25<00:00, 61.50it/s]\n",
      "  0%|          | 7/16319 [00:00<03:55, 69.37it/s]"
     ]
    },
    {
     "name": "stdout",
     "output_type": "stream",
     "text": [
      "Cost Loop\n"
     ]
    },
    {
     "name": "stderr",
     "output_type": "stream",
     "text": [
      "100%|██████████| 16319/16319 [04:09<00:00, 65.47it/s]\n",
      "  0%|          | 7/16319 [00:00<04:27, 60.94it/s]"
     ]
    },
    {
     "name": "stdout",
     "output_type": "stream",
     "text": [
      "COST: 23.610185020323783 COST Type: <class 'numpy.float64'>\n",
      "Iteration: 19\n"
     ]
    },
    {
     "name": "stderr",
     "output_type": "stream",
     "text": [
      "100%|██████████| 16319/16319 [04:26<00:00, 61.35it/s]\n",
      "  0%|          | 0/4079 [00:00<?, ?it/s]"
     ]
    },
    {
     "name": "stdout",
     "output_type": "stream",
     "text": [
      "Cost Loop\n"
     ]
    },
    {
     "name": "stderr",
     "output_type": "stream",
     "text": [
      "100%|██████████| 4079/4079 [01:17<00:00, 52.91it/s]\n"
     ]
    },
    {
     "name": "stdout",
     "output_type": "stream",
     "text": [
      "COST: 42.805949392286095 COST Type: <class 'numpy.float64'>\n"
     ]
    },
    {
     "data": {
      "image/png": "[encoded data removed]",
      "text/plain": [
       "<Figure size 432x288 with 1 Axes>"
      ]
     },
     "metadata": {
      "needs_background": "light"
     },
     "output_type": "display_data"
    }
   ],
   "source": [
    "start(20, 1, 1, 2, alpha, lmbd)"
   ]
  },
  {
   "cell_type": "code",
   "execution_count": null,
   "metadata": {},
   "outputs": [],
   "source": [
    "plotCost()"
   ]
  },
  {
   "cell_type": "code",
   "execution_count": null,
   "metadata": {},
   "outputs": [],
   "source": [
    "for i in range(1,len(COST)-2, 2):\n",
    "    a = COST[i]-COST[i+2]\n",
    "    print(a)"
   ]
  },
  {
   "cell_type": "code",
   "execution_count": null,
   "metadata": {
    "scrolled": true
   },
   "outputs": [],
   "source": [
    "startLearn(train_csv_path)\n",
    "startValCheck(train_csv_path)"
   ]
  },
  {
   "cell_type": "code",
   "execution_count": null,
   "metadata": {},
   "outputs": [],
   "source": [
    "startValCheck(train_csv_path)"
   ]
  },
  {
   "cell_type": "code",
   "execution_count": null,
   "metadata": {},
   "outputs": [],
   "source": [
    "alpha = 0.01          # Doesn't work\n",
    "alpha = 0.001         # Doesn't work\n",
    "alpha = 0.0001        # Doesn't work\n",
    "alpha = 0.00001       # Doesn't work\n",
    "alpha = 0.000001      # Doesn't work\n",
    "alpha = 0.0000001     # Doesn't work\n",
    "alpha = 0.00000001    # Doesn't work\n",
    "alpha = 0.000000001   # Does work\n",
    "alpha = 0.0000000001  # Does work\n",
    "alpha = 0.00000000001 # Does work\n",
    "alpha = 0.00000000005 # Does work slow\n",
    "alpha = 0.000000000001# Does work I think\n",
    "                      #  "
   ]
  },
  {
   "cell_type": "code",
   "execution_count": null,
   "metadata": {},
   "outputs": [],
   "source": [
    "alpha = 0.00000001\n",
    "\n",
    "idx = 1\n",
    "Train Cost = 70.939\n",
    "Val Cost = 64\n",
    "\n",
    "idx = 10\n",
    "Train Cost = 48\n",
    "Val Cost =\n",
    "\n",
    "alpha = 0.000000001\n",
    "\n",
    "idx = 10\n",
    "Train Cost = 32 - 51 # 23.381966590088346 new  24.623130857418463 - 49.147585482569085 right now\n",
    "Val Cost =\n",
    "\n",
    "alpha = 0.0000000001\n",
    "\n",
    "idx = 10\n",
    "Train Cost = 41 - 58 - 35 - 57\n",
    "Val Cost =\n",
    "\n",
    "alpha = 0.00000000005\n",
    "\n",
    "idx = 10\n",
    "Train Cost = 46 - 51 - 38 - 58\n",
    "Val Cost =\n",
    "\n",
    "alpha = 0.00000000001\n",
    "\n",
    "idx = 10\n",
    "Train Cost = \n",
    "Val Cost =\n",
    "\n",
    "alpha = 0.000000000001\n",
    "\n",
    "idx = 10\n",
    "Train Cost = 173 - 135 - 130 - 103 - 111 - 89 - 103\n",
    "Val Cost ="
   ]
  },
  {
   "cell_type": "code",
   "execution_count": null,
   "metadata": {},
   "outputs": [],
   "source": [
    "theta.tofile('../train/text/theta/train_theta_gray_Clipped.txt',sep=\"\\n\",format=\"%s\")"
   ]
  },
  {
   "cell_type": "code",
   "execution_count": null,
   "metadata": {},
   "outputs": [],
   "source": [
    "36"
   ]
  },
  {
   "cell_type": "code",
   "execution_count": null,
   "metadata": {},
   "outputs": [],
   "source": []
  }
 ],
 "metadata": {
  "kernelspec": {
   "display_name": "Python 3",
   "language": "python",
   "name": "python3"
  },
  "language_info": {
   "codemirror_mode": {
    "name": "ipython",
    "version": 3
   },
   "file_extension": ".py",
   "mimetype": "text/x-python",
   "name": "python",
   "nbconvert_exporter": "python",
   "pygments_lexer": "ipython3",
   "version": "3.8.1"
  }
 },
 "nbformat": 4,
 "nbformat_minor": 2
}
