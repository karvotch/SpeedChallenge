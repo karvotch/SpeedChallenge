{
 "cells": [
  {
   "cell_type": "code",
   "execution_count": 1,
   "metadata": {},
   "outputs": [
    {
     "name": "stderr",
     "output_type": "stream",
     "text": [
      "Using TensorFlow backend.\n"
     ]
    }
   ],
   "source": [
    "import os\n",
    "import sys\n",
    "import pickle\n",
    "import numpy as np\n",
    "import pandas as pd\n",
    "import matplotlib.pyplot as plt\n",
    "import matplotlib.image as mpimg\n",
    "import cv2 as cv\n",
    "from tqdm import tqdm\n",
    "from sklearn.metrics import mean_squared_error\n",
    "from keras.models import Sequential\n",
    "from keras.layers import Conv2D, MaxPooling2D, ELU\n",
    "from keras.layers import Lambda, Dense, Dropout, Flatten\n",
    "from keras.initializers import RandomUniform\n",
    "from keras.regularizers import l1, l2, l1_l2\n",
    "from keras.callbacks import EarlyStopping, ModelCheckpoint, TensorBoard\n",
    "from keras.layers import ELU\n",
    "from keras.optimizers import Adam\n",
    "%matplotlib inline\n",
    "np.set_printoptions(threshold=sys.maxsize)"
   ]
  },
  {
   "cell_type": "code",
   "execution_count": 2,
   "metadata": {},
   "outputs": [
    {
     "name": "stdout",
     "output_type": "stream",
     "text": [
      "(136, 320, 3) 136 320 3\n"
     ]
    }
   ],
   "source": [
    "# Global Vars\n",
    "img = (cv.imread('../train/photos/images/gray_Clipped/0.jpg')).shape\n",
    "img_height = img[0]\n",
    "img_width = img[1]\n",
    "img_channels = img[2]\n",
    "print(img, img_height, img_width, img_channels)"
   ]
  },
  {
   "cell_type": "code",
   "execution_count": 3,
   "metadata": {},
   "outputs": [],
   "source": [
    "def adjust_Value(prvs_FRAME, curr_FRAME, HSV_value):\n",
    "    prvs_FRAME = cv.cvtColor(prvs_FRAME, cv.COLOR_BGR2HSV)\n",
    "    curr_FRAME = cv.cvtColor(curr_FRAME, cv.COLOR_BGR2HSV)\n",
    "    prvs_FRAME[...,2] = prvs_FRAME[...,2]*HSV_value\n",
    "    curr_FRAME[...,2] = curr_FRAME[...,2]*HSV_value\n",
    "    prvs_FRAME = cv.cvtColor(prvs_FRAME, cv.COLOR_HSV2BGR)\n",
    "    curr_FRAME = cv.cvtColor(curr_FRAME, cv.COLOR_HSV2BGR)\n",
    "    return prvs_FRAME, curr_FRAME"
   ]
  },
  {
   "cell_type": "code",
   "execution_count": 4,
   "metadata": {},
   "outputs": [],
   "source": [
    "def opticalFlow_DENSE(prvs_FRAME, curr_FRAME, dynamic_sat):\n",
    "#     flow_mat = None\n",
    "#     image_scale = 0.5\n",
    "#     pyr_images = 1 # was 3\n",
    "#     win_size = 13\n",
    "#     pyr_iterations = 2 # was 3\n",
    "#     poly_expans = 5\n",
    "#     std = 1.3 # was 1.2\n",
    "    \n",
    "    flow_mat = None\n",
    "    image_scale = 0.5\n",
    "    pyr_images = 1 # was 3\n",
    "    win_size = 20\n",
    "    pyr_iterations = 10 # was 3, 2; 10 seems to be doing well clearing up the image; 20 is too much for little gain\n",
    "    poly_expans = 5 # was 5; 5 seems to be the best\n",
    "    std = 5 # was 1.2 was 2.3; higher seems to be better ex:5,10\n",
    "\n",
    "    hsv = np.zeros_like(prvs_FRAME)\n",
    "    if dynamic_sat:\n",
    "        hsv[..., 1] = cv.cvtColor(prvs_FRAME, cv.COLOR_BGR2HSV)[...,1]\n",
    "    else:\n",
    "        hsv[...,1] = 255\n",
    "    prvs_FRAME = cv.cvtColor(prvs_FRAME,cv.COLOR_BGR2GRAY)\n",
    "    curr_FRAME = cv.cvtColor(curr_FRAME,cv.COLOR_BGR2GRAY)\n",
    "    flow = cv.calcOpticalFlowFarneback(prvs_FRAME,curr_FRAME,flow_mat,image_scale,pyr_images,win_size,pyr_iterations,poly_expans,std,0)\n",
    "    mag, ang = cv.cartToPolar(flow[...,0], flow[...,1])\n",
    "    hsv[...,0] = ang*(180/np.pi/2)\n",
    "    hsv[...,2] = cv.normalize(mag,None,0,255,cv.NORM_MINMAX)\n",
    "#     hsv = np.asarray(hsv, dtype=np.float32)\n",
    "    bgr = cv.cvtColor(hsv,cv.COLOR_HSV2BGR)\n",
    "    return bgr"
   ]
  },
  {
   "cell_type": "code",
   "execution_count": 5,
   "metadata": {},
   "outputs": [],
   "source": [
    "def getData(train_meta, kLoopCount, train_index, getSpeed, for_training):\n",
    "    global img_height, img_width, img_channels\n",
    "    opt_flows = np.empty((0, img_height, img_width, img_channels), dtype='float32')\n",
    "    speed = np.empty((0))\n",
    "    for k in range(kLoopCount):\n",
    "        HSV_value = np.random.uniform(low=.5, high=1.2)\n",
    "        #print(train_index)\n",
    "        curr_FRAME = cv.imread(train_meta['image_path'][train_index])\n",
    "        prvs_FRAME = cv.imread(train_meta['image_path'][train_index-1])\n",
    "        if getSpeed:\n",
    "            speed1 = train_meta['speed'][train_index]\n",
    "            speed2 = train_meta['speed'][train_index-1]\n",
    "            speed3 = np.mean((speed1, speed2))\n",
    "            speed = np.append(speed, speed1)\n",
    "        if for_training:\n",
    "            prvs_FRAME, curr_FRAME = adjust_Value(prvs_FRAME, curr_FRAME, HSV_value)\n",
    "        opt_flow = opticalFlow_DENSE(prvs_FRAME, curr_FRAME, False)\n",
    "#         opt_flows = np.append(opt_flows, [opt_flow], axis=0)\n",
    "        opt_flows = np.append(opt_flows, [np.asarray(opt_flow, dtype=np.float32)], axis=0)\n",
    "    if getSpeed:\n",
    "        return opt_flows, speed\n",
    "    else:\n",
    "        return opt_flows"
   ]
  },
  {
   "cell_type": "code",
   "execution_count": 6,
   "metadata": {},
   "outputs": [],
   "source": [
    "def getTrainingData(train_meta, train_index, batchSize):\n",
    "    global img_height, img_width, img_channels#, index_count\n",
    "    get_speed = True\n",
    "    for_training = True\n",
    "    while True:\n",
    "        opt_flow_arr = np.empty((0, img_height, img_width, img_channels))\n",
    "        speed_arr = np.empty((0))\n",
    "        for i in range(batchSize):\n",
    "            index = np.random.randint(0, train_index.shape[0], dtype='int16')\n",
    "#             index_count[index] = index_count[index] + 1\n",
    "            opt_flow, speed = getData(train_meta, 1, train_index[index], get_speed, for_training)\n",
    "            opt_flow_arr = np.append(opt_flow_arr, opt_flow, axis=0)\n",
    "            speed_arr = np.append(speed_arr, speed)\n",
    "        #print(opt_flow_arr.shape)\n",
    "        yield opt_flow_arr, speed_arr"
   ]
  },
  {
   "cell_type": "code",
   "execution_count": 7,
   "metadata": {},
   "outputs": [],
   "source": [
    "def getValData(train_meta, val_index, batchSize, getSpeed):\n",
    "    for_training = False\n",
    "    while True:\n",
    "        index = 0\n",
    "        for i in range(len(val_index)):\n",
    "            if getSpeed:\n",
    "                opt_flow, speed = getData(train_meta, 1, val_index[index], getSpeed, for_training)\n",
    "            else:\n",
    "                opt_flow = getData(train_meta, 1, val_index[index], getSpeed, for_training)\n",
    "            #opt_flow_arr = np.append(opt_flow_arr, opt_flow)\n",
    "            index = index + 1\n",
    "            if getSpeed:\n",
    "                yield opt_flow, speed\n",
    "            else:\n",
    "                yield opt_flow"
   ]
  },
  {
   "cell_type": "code",
   "execution_count": 8,
   "metadata": {},
   "outputs": [],
   "source": [
    "def createCNNModel():\n",
    "    global img_height, img_width, img_channels\n",
    "    model = Sequential()\n",
    "    model.add(Lambda(lambda x: x, input_shape=(img_height, img_width, img_channels)))\n",
    "    #model.add(Lambda(lambda x: x / 127.5 - 1, input_shape=(img_height, img_width, img_channels)))\n",
    "    #model.add(Lambda(lambda x: x/255, input_shape=(img_height, img_width, img_channels)))\n",
    "    #uniform_initializer = RandomUniform(minval=1e-10, maxval=1e-9, seed=1)\n",
    "    \n",
    "    model.add(Conv2D(filters=80, \n",
    "                     kernel_size=(5,5), \n",
    "                     strides=(3,3), \n",
    "                     activation='elu'))#, kernel_initializer = uniform_initializer))#, kernel_regularizer=l1(0.00001)))\n",
    "    model.add(MaxPooling2D(pool_size=(5,5)))\n",
    "    \n",
    "#     model.add(Conv2D(filters=20, \n",
    "#                      kernel_size=(5,5), \n",
    "#                      strides=(2,2), \n",
    "#                      activation='elu'))#, kernel_initializer = uniform_initializer))#, kernel_regularizer=l1(0.00001)))\n",
    "#     model.add(MaxPooling2D(pool_size=(2,2)))\n",
    "    \n",
    "    model.add(Flatten())\n",
    "    \n",
    "    model.add(Dense(units=128, activation='elu'))#, kernel_regularizer=l1(0.00001)))\n",
    "    #model.add(Dropout(rate=0.2))\n",
    "    \n",
    "    model.add(Dense(units=64, activation='elu'))#, kernel_regularizer=l1(0.00001)))\n",
    "    #model.add(Dropout(rate=0.2))\n",
    "    \n",
    "    #model.add(Dense(units=32, activation='elu'))#, kernel_regularizer=l1(0.00001)))\n",
    "    #model.add(Dropout(rate=0.2))\n",
    "    \n",
    "    model.add(Dense(units=16, activation='elu'))#, kernel_regularizer=l1(0.00001)))\n",
    "    #model.add(Dropout(rate=0.2))\n",
    "    \n",
    "    model.add(Dense(units=1, activation='elu'))#, kernel_regularizer=l1(0.00001)))\n",
    "    \n",
    "    #opt = Adam(learning_rate=1e-3, epsilon=1e-08) # was 1e-3\n",
    "    model.compile(optimizer='adam', loss='mse')\n",
    "    \n",
    "    return model"
   ]
  },
  {
   "cell_type": "code",
   "execution_count": 9,
   "metadata": {},
   "outputs": [],
   "source": [
    "def a_print_fn(x):\n",
    "    global train_name, model_structure\n",
    "    dic = {'lambd':'L', 'conv2':'C', 'max_p':'P', 'flatt':'F', 'dense':'De', 'dropo':'D'}\n",
    "    dic2 = {'C':4, 'De':0}\n",
    "    dic3 = {',':0, ')':1, ' ':0}\n",
    "    if x[:5] in dic:\n",
    "        symbol = dic[x[:5]]\n",
    "        symbol_unit = ''\n",
    "        index = 13\n",
    "        commaSpace_count = 0\n",
    "        if symbol in dic2:\n",
    "            while True:\n",
    "                symbol_num = x[index]\n",
    "                if symbol_num not in dic3:\n",
    "                    if commaSpace_count == dic2[symbol]:\n",
    "                        symbol_unit = symbol_unit + symbol_num\n",
    "                    index = index + 1\n",
    "                else:\n",
    "                    if commaSpace_count == dic2[symbol]:\n",
    "                        break\n",
    "                    commaSpace_count = commaSpace_count+1\n",
    "                    index = index + 1\n",
    "        train_name = train_name + '-' + symbol + symbol_unit\n",
    "#         print(train_name)\n",
    "#     print(x)\n",
    "    model_structure = np.append(model_structure, x)"
   ]
  },
  {
   "cell_type": "code",
   "execution_count": 10,
   "metadata": {
    "scrolled": false
   },
   "outputs": [
    {
     "name": "stdout",
     "output_type": "stream",
     "text": [
      "40 20 400\n",
      "../train/text/CSV/trainGrayClipped_meta.csv \n",
      " ../test/text/CSV/testGrayClipped_meta.csv \n",
      "\n",
      "../train/assets/models/model=grayClipped-elu-L-C80-P-F-De128-De64-De16-De1-batch=40-epoch=20-step_epoch=400__2/history.p \n",
      " ../train/assets/models/model=grayClipped-elu-L-C80-P-F-De128-De64-De16-De1-batch=40-epoch=20-step_epoch=400__2/weights.h5 \n",
      " ../train/assets/models/model=grayClipped-elu-L-C80-P-F-De128-De64-De16-De1-batch=40-epoch=20-step_epoch=400__2/model=grayClipped-elu-L-C80-P-F-De128-De64-De16-De1-batch=40-epoch=20-step_epoch=400__2\n"
     ]
    }
   ],
   "source": [
    "# model_name = 'keras'\n",
    "model_name = 'grayClipped'\n",
    "batch_size = 40\n",
    "epoch_num = 20\n",
    "steps_per_epoch = 400\n",
    "\n",
    "train_meta_loc = '../train/text/CSV'\n",
    "train_meta_loc = os.path.join(train_meta_loc, 'trainGrayClipped_meta.csv')\n",
    "test_meta_loc = '../test/text/CSV'\n",
    "test_meta_loc = os.path.join(test_meta_loc, 'testGrayClipped_meta.csv')\n",
    "print(batch_size, epoch_num, steps_per_epoch)\n",
    "print(train_meta_loc, '\\n', test_meta_loc, '\\n')\n",
    "\n",
    "# asset_path = '../train/assets'\n",
    "# train_name = f'model={model_name}_elu_C40_C20_De128_De64_De15_De1-batch_size={batch_size}-num_epoch={epoch_num}-steps_per_epoch={steps_per_epoch}'\n",
    "\n",
    "model_structure = np.empty((0))\n",
    "asset_path = '../train/assets/models'\n",
    "train_name = f'model={model_name}-elu'\n",
    "model = createCNNModel()\n",
    "model.summary(line_length=100, positions=[0.06,0.55,0.67,0.0], print_fn=a_print_fn)\n",
    "model = 0\n",
    "train_name_end = f'-batch={batch_size}-epoch={epoch_num}-step_epoch={steps_per_epoch}__2'\n",
    "train_name = train_name + train_name_end\n",
    "\n",
    "train_path = os.path.join(asset_path, train_name)\n",
    "\n",
    "if not os.path.exists(train_path):\n",
    "    os.makedirs(train_path)\n",
    "model_structure_loc = os.path.join(train_path, 'model_structure.txt')\n",
    "model_structure.tofile(model_structure_loc,sep=\"\\n\",format=\"%s\")\n",
    "\n",
    "model_train_meta_loc = os.path.join(train_path, 'train_meta.csv')\n",
    "model_test_meta_loc = os.path.join(train_path, 'test_meta.csv')\n",
    "test_result_path = os.path.join(train_path, 'test.txt')\n",
    "model_train_meta_loc2 = os.path.join(train_path, 'train_meta2.csv')\n",
    "model_test_meta_loc2 = os.path.join(train_path, 'test_meta2.csv')\n",
    "test_result_path2 = os.path.join(train_path, 'test2.txt')\n",
    "\n",
    "history_loc = os.path.join(train_path, 'history.p')\n",
    "weights_loc = os.path.join(train_path, 'weights.h5')\n",
    "weights_loc2 = os.path.join(train_path, 'weights2.h5')\n",
    "tensorboard_loc = os.path.join(train_path, train_name)\n",
    "print(history_loc, '\\n', weights_loc, '\\n', tensorboard_loc)\n",
    "\n",
    "# index_count = np.zeros((20399), dtype='int16')"
   ]
  },
  {
   "cell_type": "code",
   "execution_count": 11,
   "metadata": {},
   "outputs": [],
   "source": [
    "def start():\n",
    "    global train_meta_loc, test_meta_loc, batch_size, epoch_num, steps_per_epoch, train_path\n",
    "    train_meta = pd.read_csv(train_meta_loc)\n",
    "    train_meta_length = train_meta.shape[0]\n",
    "    test_meta = pd.read_csv(test_meta_loc)\n",
    "    test_meta_length = test_meta.shape[0]\n",
    "    \n",
    "    # Adding instances of zero speed from test.mp4\n",
    "    stop_index_array = np.empty((0), dtype='int16')\n",
    "    stop_index_array = np.append(stop_index_array, np.arange(1080,1680), axis=0)\n",
    "    stop_index_array = np.append(stop_index_array, np.arange(6150,6200), axis=0)\n",
    "    stop_index_array = np.append(stop_index_array, np.arange(6650,6700), axis=0)\n",
    "    stop_index_array = np.append(stop_index_array, np.arange(7400,7430), axis=0)\n",
    "    stop_index_array = np.append(stop_index_array, np.arange(8230,8330), axis=0)\n",
    "    stop_index_array = np.append(stop_index_array, np.arange(8920,8945), axis=0)\n",
    "    \n",
    "    for idx, i in enumerate(stop_index_array):\n",
    "        train_meta.loc[train_meta_length+idx] = test_meta.loc[i]\n",
    "    print('CSV len with stop:', train_meta.shape[0])\n",
    "    train_meta.loc[train_meta_length:, 'speed'] = 0\n",
    "    \n",
    "    #data_index = np.loadtxt('../train/text/train_val_index.txt', np.dtype('int16'), delimiter='\\n')\n",
    "    data_index = np.arange(1, train_meta.shape[0])\n",
    "    data_index[20399] = (data_index[20399] + 1)\n",
    "    rng_state = np.random.get_state(1)\n",
    "    np.random.shuffle(data_index)\n",
    "    dataset_frames_num = data_index.shape[0]\n",
    "    train_frames_num = int(.8*(dataset_frames_num))\n",
    "    val_frames_num = int(.5*(dataset_frames_num - train_frames_num))\n",
    "    print('Train len:', train_frames_num, 'Val len:', val_frames_num)\n",
    "    \n",
    "    \n",
    "    train_index = data_index[:train_frames_num]\n",
    "    val_index = data_index[train_frames_num:(train_frames_num+val_frames_num)]\n",
    "    print('Train Index len:', train_index.shape, 'Val Index len:', val_index.shape)\n",
    "    \n",
    "    if not os.path.exists(train_path):\n",
    "        os.makedirs(train_path)\n",
    "    \n",
    "    valid_generator = getValData(train_meta, val_index, batch_size, True)\n",
    "    val_size = len(val_index)\n",
    "    earlyStopping = EarlyStopping(monitor='val_loss', \n",
    "                                  patience=1, \n",
    "                                  verbose=1, \n",
    "                                  min_delta = 0.23,\n",
    "                                  mode='min',)\n",
    "    \n",
    "    modelCheckpoint = ModelCheckpoint(weights_loc, \n",
    "                                      monitor = 'val_loss', \n",
    "                                      save_best_only = True, \n",
    "                                      mode = 'min', \n",
    "                                      verbose = 1,\n",
    "                                     save_weights_only = True)\n",
    "    modelCheckpoint2 = ModelCheckpoint(weights_loc2, \n",
    "                                      monitor = 'loss', \n",
    "                                      save_best_only = True, \n",
    "                                      mode = 'min', \n",
    "                                      verbose = 1,\n",
    "                                     save_weights_only = True)\n",
    "    \n",
    "    tensorboard = TensorBoard(log_dir=tensorboard_loc, histogram_freq=0,\n",
    "                                write_graph=True, write_images=True)\n",
    "    #callbacks_list = [modelCheckpoint, tensorboard, earlyStopping]\n",
    "    callbacks_list = [modelCheckpoint, modelCheckpoint2]\n",
    "    \n",
    "    model = createCNNModel()\n",
    "    \n",
    "    train_size = len(train_index)\n",
    "    train_generator = getTrainingData(train_meta, train_index, batch_size)\n",
    "    history = model.fit_generator(\n",
    "            train_generator, \n",
    "            steps_per_epoch = steps_per_epoch, \n",
    "            epochs = epoch_num,\n",
    "            callbacks = callbacks_list,\n",
    "            verbose = 1,\n",
    "            validation_data = valid_generator,\n",
    "            validation_steps = val_size)\n",
    "\n",
    "    pickle.dump(history.history, open(history_loc, \"wb\"))\n",
    "    \n",
    "    return model, history.history, valid_generator, val_size"
   ]
  },
  {
   "cell_type": "code",
   "execution_count": 12,
   "metadata": {
    "scrolled": false
   },
   "outputs": [
    {
     "name": "stdout",
     "output_type": "stream",
     "text": [
      "CSV len with stop: 21255\n",
      "Train len: 17003 Val len: 2125\n",
      "Train Index len: (17003,) Val Index len: (2125,)\n",
      "Epoch 1/20\n",
      "400/400 [==============================] - 439s 1s/step - loss: 20.7650 - val_loss: 10.1879\n",
      "\n",
      "Epoch 00001: val_loss improved from inf to 10.18786, saving model to ../train/assets/models/model=grayClipped-elu-L-C80-P-F-De128-De64-De16-De1-batch=40-epoch=20-step_epoch=400__2/weights.h5\n",
      "\n",
      "Epoch 00001: loss improved from inf to 20.76503, saving model to ../train/assets/models/model=grayClipped-elu-L-C80-P-F-De128-De64-De16-De1-batch=40-epoch=20-step_epoch=400__2/weights2.h5\n",
      "Epoch 2/20\n",
      "400/400 [==============================] - 428s 1s/step - loss: 5.3224 - val_loss: 13.5258\n",
      "\n",
      "Epoch 00002: val_loss did not improve from 10.18786\n",
      "\n",
      "Epoch 00002: loss improved from 20.76503 to 5.32238, saving model to ../train/assets/models/model=grayClipped-elu-L-C80-P-F-De128-De64-De16-De1-batch=40-epoch=20-step_epoch=400__2/weights2.h5\n",
      "Epoch 3/20\n",
      "400/400 [==============================] - 429s 1s/step - loss: 3.7800 - val_loss: 8.5976\n",
      "\n",
      "Epoch 00003: val_loss improved from 10.18786 to 8.59756, saving model to ../train/assets/models/model=grayClipped-elu-L-C80-P-F-De128-De64-De16-De1-batch=40-epoch=20-step_epoch=400__2/weights.h5\n",
      "\n",
      "Epoch 00003: loss improved from 5.32238 to 3.78003, saving model to ../train/assets/models/model=grayClipped-elu-L-C80-P-F-De128-De64-De16-De1-batch=40-epoch=20-step_epoch=400__2/weights2.h5\n",
      "Epoch 4/20\n",
      "400/400 [==============================] - 430s 1s/step - loss: 3.0773 - val_loss: 5.0324\n",
      "\n",
      "Epoch 00004: val_loss improved from 8.59756 to 5.03241, saving model to ../train/assets/models/model=grayClipped-elu-L-C80-P-F-De128-De64-De16-De1-batch=40-epoch=20-step_epoch=400__2/weights.h5\n",
      "\n",
      "Epoch 00004: loss improved from 3.78003 to 3.07726, saving model to ../train/assets/models/model=grayClipped-elu-L-C80-P-F-De128-De64-De16-De1-batch=40-epoch=20-step_epoch=400__2/weights2.h5\n",
      "Epoch 5/20\n",
      "400/400 [==============================] - 429s 1s/step - loss: 1.9400 - val_loss: 7.0842\n",
      "\n",
      "Epoch 00005: val_loss did not improve from 5.03241\n",
      "\n",
      "Epoch 00005: loss improved from 3.07726 to 1.93999, saving model to ../train/assets/models/model=grayClipped-elu-L-C80-P-F-De128-De64-De16-De1-batch=40-epoch=20-step_epoch=400__2/weights2.h5\n",
      "Epoch 6/20\n",
      "400/400 [==============================] - 429s 1s/step - loss: 1.6312 - val_loss: 7.1164\n",
      "\n",
      "Epoch 00006: val_loss did not improve from 5.03241\n",
      "\n",
      "Epoch 00006: loss improved from 1.93999 to 1.63122, saving model to ../train/assets/models/model=grayClipped-elu-L-C80-P-F-De128-De64-De16-De1-batch=40-epoch=20-step_epoch=400__2/weights2.h5\n",
      "Epoch 7/20\n",
      "400/400 [==============================] - 429s 1s/step - loss: 1.4785 - val_loss: 12.3433\n",
      "\n",
      "Epoch 00007: val_loss did not improve from 5.03241\n",
      "\n",
      "Epoch 00007: loss improved from 1.63122 to 1.47853, saving model to ../train/assets/models/model=grayClipped-elu-L-C80-P-F-De128-De64-De16-De1-batch=40-epoch=20-step_epoch=400__2/weights2.h5\n",
      "Epoch 8/20\n",
      "400/400 [==============================] - 429s 1s/step - loss: 1.3820 - val_loss: 13.5074\n",
      "\n",
      "Epoch 00008: val_loss did not improve from 5.03241\n",
      "\n",
      "Epoch 00008: loss improved from 1.47853 to 1.38199, saving model to ../train/assets/models/model=grayClipped-elu-L-C80-P-F-De128-De64-De16-De1-batch=40-epoch=20-step_epoch=400__2/weights2.h5\n",
      "Epoch 9/20\n",
      "400/400 [==============================] - 428s 1s/step - loss: 2.8803 - val_loss: 3.2115\n",
      "\n",
      "Epoch 00009: val_loss improved from 5.03241 to 3.21154, saving model to ../train/assets/models/model=grayClipped-elu-L-C80-P-F-De128-De64-De16-De1-batch=40-epoch=20-step_epoch=400__2/weights.h5\n",
      "\n",
      "Epoch 00009: loss did not improve from 1.38199\n",
      "Epoch 10/20\n",
      "400/400 [==============================] - 429s 1s/step - loss: 1.2318 - val_loss: 4.2646\n",
      "\n",
      "Epoch 00010: val_loss did not improve from 3.21154\n",
      "\n",
      "Epoch 00010: loss improved from 1.38199 to 1.23180, saving model to ../train/assets/models/model=grayClipped-elu-L-C80-P-F-De128-De64-De16-De1-batch=40-epoch=20-step_epoch=400__2/weights2.h5\n",
      "Epoch 11/20\n",
      "400/400 [==============================] - 429s 1s/step - loss: 0.9931 - val_loss: 6.5142\n",
      "\n",
      "Epoch 00011: val_loss did not improve from 3.21154\n",
      "\n",
      "Epoch 00011: loss improved from 1.23180 to 0.99312, saving model to ../train/assets/models/model=grayClipped-elu-L-C80-P-F-De128-De64-De16-De1-batch=40-epoch=20-step_epoch=400__2/weights2.h5\n",
      "Epoch 12/20\n",
      "400/400 [==============================] - 429s 1s/step - loss: 1.1044 - val_loss: 0.2093\n",
      "\n",
      "Epoch 00012: val_loss improved from 3.21154 to 0.20934, saving model to ../train/assets/models/model=grayClipped-elu-L-C80-P-F-De128-De64-De16-De1-batch=40-epoch=20-step_epoch=400__2/weights.h5\n",
      "\n",
      "Epoch 00012: loss did not improve from 0.99312\n",
      "Epoch 13/20\n",
      "400/400 [==============================] - 429s 1s/step - loss: 1.0164 - val_loss: 3.4502\n",
      "\n",
      "Epoch 00013: val_loss did not improve from 0.20934\n",
      "\n",
      "Epoch 00013: loss did not improve from 0.99312\n",
      "Epoch 14/20\n",
      "400/400 [==============================] - 429s 1s/step - loss: 1.1451 - val_loss: 7.5368\n",
      "\n",
      "Epoch 00014: val_loss did not improve from 0.20934\n",
      "\n",
      "Epoch 00014: loss did not improve from 0.99312\n",
      "Epoch 15/20\n",
      "400/400 [==============================] - 430s 1s/step - loss: 1.3047 - val_loss: 2.7961\n",
      "\n",
      "Epoch 00015: val_loss did not improve from 0.20934\n",
      "\n",
      "Epoch 00015: loss did not improve from 0.99312\n",
      "Epoch 16/20\n",
      "400/400 [==============================] - 429s 1s/step - loss: 1.2595 - val_loss: 10.0538\n",
      "\n",
      "Epoch 00016: val_loss did not improve from 0.20934\n",
      "\n",
      "Epoch 00016: loss did not improve from 0.99312\n",
      "Epoch 17/20\n",
      "400/400 [==============================] - 429s 1s/step - loss: 1.0960 - val_loss: 4.3192\n",
      "\n",
      "Epoch 00017: val_loss did not improve from 0.20934\n",
      "\n",
      "Epoch 00017: loss did not improve from 0.99312\n",
      "Epoch 18/20\n",
      "400/400 [==============================] - 428s 1s/step - loss: 1.0457 - val_loss: 2.6260\n",
      "\n",
      "Epoch 00018: val_loss did not improve from 0.20934\n",
      "\n",
      "Epoch 00018: loss did not improve from 0.99312\n",
      "Epoch 19/20\n",
      "400/400 [==============================] - 429s 1s/step - loss: 0.8239 - val_loss: 5.7427\n",
      "\n",
      "Epoch 00019: val_loss did not improve from 0.20934\n",
      "\n",
      "Epoch 00019: loss improved from 0.99312 to 0.82385, saving model to ../train/assets/models/model=grayClipped-elu-L-C80-P-F-De128-De64-De16-De1-batch=40-epoch=20-step_epoch=400__2/weights2.h5\n",
      "Epoch 20/20\n",
      "400/400 [==============================] - 429s 1s/step - loss: 0.7969 - val_loss: 0.0335\n",
      "\n",
      "Epoch 00020: val_loss improved from 0.20934 to 0.03346, saving model to ../train/assets/models/model=grayClipped-elu-L-C80-P-F-De128-De64-De16-De1-batch=40-epoch=20-step_epoch=400__2/weights.h5\n",
      "\n",
      "Epoch 00020: loss improved from 0.82385 to 0.79689, saving model to ../train/assets/models/model=grayClipped-elu-L-C80-P-F-De128-De64-De16-De1-batch=40-epoch=20-step_epoch=400__2/weights2.h5\n"
     ]
    }
   ],
   "source": [
    "model, history, valid_generator, val_size = start()"
   ]
  },
  {
   "cell_type": "code",
   "execution_count": null,
   "metadata": {},
   "outputs": [],
   "source": []
  },
  {
   "cell_type": "code",
   "execution_count": null,
   "metadata": {},
   "outputs": [],
   "source": [
    "#history = pickle.load(open(history_loc, \"rb\" ))\n",
    "model = createCNNModel()\n",
    "model.load_weights(weights_loc)\n",
    "# adam = Adam(lr=1e-4, beta_1=0.9, beta_2=0.999, epsilon=1e-08, decay=0.0)\n",
    "# model.compile(optimizer = adam, loss = 'mse')"
   ]
  },
  {
   "cell_type": "code",
   "execution_count": null,
   "metadata": {},
   "outputs": [],
   "source": [
    "train_meta = pd.read_csv(train_meta_loc)\n",
    "train_meta_length = train_meta.shape[0]\n",
    "test_meta = pd.read_csv(test_meta_loc)\n",
    "test_meta_length = test_meta.shape[0]\n",
    "\n",
    "# Adding instances of zero speed from test.mp4\n",
    "stop_index_array = np.empty((0), dtype='int16')\n",
    "stop_index_array = np.append(stop_index_array, np.arange(1080,1680), axis=0)\n",
    "stop_index_array = np.append(stop_index_array, np.arange(6150,6200), axis=0)\n",
    "stop_index_array = np.append(stop_index_array, np.arange(6650,6700), axis=0)\n",
    "stop_index_array = np.append(stop_index_array, np.arange(7400,7430), axis=0)\n",
    "stop_index_array = np.append(stop_index_array, np.arange(8230,8330), axis=0)\n",
    "stop_index_array = np.append(stop_index_array, np.arange(8920,8945), axis=0)\n",
    "\n",
    "for idx, i in enumerate(stop_index_array):\n",
    "    train_meta.loc[train_meta_length+idx] = test_meta.loc[i]\n",
    "print('CSV len with stop:', train_meta.shape[0])\n",
    "train_meta.loc[train_meta_length:, 'speed'] = 0\n",
    "\n",
    "#data_index = np.loadtxt('../train/text/train_val_index.txt', np.dtype('int16'), delimiter='\\n')\n",
    "data_index = np.arange(1, train_meta.shape[0])\n",
    "data_index[20399] = (data_index[20399] + 1)\n",
    "rng_state = np.random.get_state(1)\n",
    "np.random.shuffle(data_index)\n",
    "dataset_frames_num = data_index.shape[0]\n",
    "train_frames_num = int(.8*(dataset_frames_num))\n",
    "val_frames_num = int(.5*(dataset_frames_num - train_frames_num))\n",
    "test_frames_num = int(((dataset_frames_num-1) - (train_frames_num + val_frames_num)))\n",
    "print('Train len:', train_frames_num, 'Val len:', val_frames_num, 'Test len:', test_frames_num)\n",
    "\n",
    "\n",
    "train_index = data_index[:train_frames_num]\n",
    "val_index = data_index[train_frames_num:(train_frames_num+val_frames_num)]\n",
    "test_index = data_index[(train_frames_num+val_frames_num):]\n",
    "print('Train Index len:', train_index.shape, 'Val Index len:', val_index.shape, 'Test Index len:', test_index.shape)\n",
    "\n",
    "train_generator = getValData(train_meta, train_index, batch_size, True)\n",
    "valid_generator = getValData(train_meta, val_index, batch_size, True)\n",
    "test_generator = getValData(train_meta, test_index, batch_size, True)\n",
    "train_size = len(train_index)\n",
    "val_size = len(val_index)\n",
    "test_size = len(test_index)"
   ]
  },
  {
   "cell_type": "code",
   "execution_count": null,
   "metadata": {},
   "outputs": [],
   "source": [
    "train_score = model.evaluate(train_generator, steps=train_size)\n",
    "print('train score:', train_score)"
   ]
  },
  {
   "cell_type": "code",
   "execution_count": null,
   "metadata": {},
   "outputs": [],
   "source": [
    "val_score = model.evaluate(valid_generator, steps=val_size)\n",
    "print('val score:', val_score)"
   ]
  },
  {
   "cell_type": "code",
   "execution_count": null,
   "metadata": {},
   "outputs": [],
   "source": [
    "test_score = model.evaluate(test_generator, steps=test_size)\n",
    "print('test score:', test_score)"
   ]
  },
  {
   "cell_type": "code",
   "execution_count": null,
   "metadata": {},
   "outputs": [],
   "source": [
    "print('train score:', train_score)\n",
    "print('val score:', val_score)\n",
    "print('test score:', test_score)"
   ]
  },
  {
   "cell_type": "code",
   "execution_count": null,
   "metadata": {},
   "outputs": [],
   "source": []
  },
  {
   "cell_type": "code",
   "execution_count": 30,
   "metadata": {},
   "outputs": [
    {
     "data": {
      "text/plain": [
       "[<matplotlib.lines.Line2D at 0x7fa8c82773a0>]"
      ]
     },
     "execution_count": 30,
     "metadata": {},
     "output_type": "execute_result"
    },
    {
     "data": {
      "image/png": "[encoded data removed]",
      "text/plain": [
       "<Figure size 864x576 with 1 Axes>"
      ]
     },
     "metadata": {
      "needs_background": "light"
     },
     "output_type": "display_data"
    }
   ],
   "source": [
    "history = pickle.load(open(history_loc, \"rb\" ))\n",
    "plt.plot(history['loss'], 'ro')\n",
    "plt.plot(history['val_loss'], 'go')"
   ]
  },
  {
   "cell_type": "code",
   "execution_count": null,
   "metadata": {},
   "outputs": [],
   "source": [
    "fig_size = plt.rcParams[\"figure.figsize\"]\n",
    "print(fig_size)\n",
    "fig_size[0] = 30\n",
    "fig_size[1] = 30\n",
    "plt.rcParams[\"figure.figsize\"] = fig_size\n",
    "fig_size2 = plt.rcParams[\"figure.figsize\"]\n",
    "print(fig_size2)\n",
    "\n",
    "train_meta = pd.read_csv(train_meta_loc)\n",
    "\n",
    "data_index = np.loadtxt('../train/text/train_val_index.txt', np.dtype('int16'), delimiter='\\n')\n",
    "dataset_frames_num = data_index.shape[0]\n",
    "\n",
    "train_frames_num = int(.8*(dataset_frames_num))\n",
    "val_frames_num = int(.5*((dataset_frames_num) - train_frames_num))\n",
    "test_frames_num = int(((dataset_frames_num) - (train_frames_num + val_frames_num)))\n",
    "print(train_frames_num, val_frames_num, test_frames_num)\n",
    "\n",
    "train_index = data_index[:train_frames_num]\n",
    "val_index = data_index[train_frames_num:(train_frames_num+val_frames_num)]\n",
    "test_index = data_index[(train_frames_num+val_frames_num):]\n",
    "\n",
    "# print(train_index, val_index, test_index)\n",
    "plt.plot(train_meta['speed'][train_index], 'ro')\n",
    "plt.plot(train_meta['speed'][val_index], 'go')\n",
    "plt.plot(train_meta['speed'][test_index], 'bo')"
   ]
  },
  {
   "cell_type": "code",
   "execution_count": 13,
   "metadata": {},
   "outputs": [],
   "source": [
    "def predictSpeed(a_meta, a_meta_loc, a_weights_loc, getSpeed, setError):\n",
    "    global model_train_meta_loc, model_test_meta_loc, batch_size\n",
    "\n",
    "    dataset_frames_num = a_meta.shape[0]\n",
    "    print(dataset_frames_num)\n",
    "    \n",
    "    data_index = np.arange(1, (dataset_frames_num))\n",
    "    data_length = data_index.shape[0]\n",
    "    print(data_length)\n",
    "    \n",
    "    data_gen = getValData(a_meta, data_index, batch_size, getSpeed)\n",
    "    \n",
    "    model = createCNNModel()\n",
    "    model.load_weights(a_weights_loc)\n",
    "    \n",
    "    predicted_speed = model.predict(data_gen, steps=data_length, verbose=1)\n",
    "    predicted_speed.shape = dataset_frames_num-1\n",
    "    \n",
    "    a_meta = a_meta.assign(predicted_speed=pd.Series(np.empty((dataset_frames_num))).values)\n",
    "    a_meta.loc[:, 'predicted_speed'] = np.nan\n",
    "    a_meta.loc[1:,'predicted_speed'] = predicted_speed\n",
    "    \n",
    "    if setError:\n",
    "        a_meta = a_meta.assign(error=pd.Series(np.empty((dataset_frames_num))).values)\n",
    "        a_meta.loc[:, 'error'] = np.nan\n",
    "        a_meta.loc[1:,'error'] = abs(a_meta.loc[1:, 'speed'] - predicted_speed)\n",
    "\n",
    "    a_meta.to_csv(a_meta_loc, index=False)"
   ]
  },
  {
   "cell_type": "code",
   "execution_count": 14,
   "metadata": {},
   "outputs": [],
   "source": [
    "def rolling_median(a_meta, a_meta_loc, window_size, is_train):\n",
    "    a_meta_length = a_meta.shape[0]\n",
    "    is_odd = window_size%2\n",
    "    beg_missing_range = int(window_size/2) if is_odd else int(window_size/2)\n",
    "    end_missing_range = a_meta_length-beg_missing_range if is_odd else a_meta_length-(beg_missing_range-1)\n",
    "    a_meta.loc[:, f'{window_size}med_prd_spd'] = np.nan\n",
    "    a_meta.loc[1:,f'{window_size}med_prd_spd'] = a_meta[1:]['predicted_speed'].rolling(window_size, center=True).median()\n",
    "    a_meta.loc[1:beg_missing_range,f'{window_size}med_prd_spd']=a_meta.loc[beg_missing_range+1, f'{window_size}med_prd_spd'] # was 25 50\n",
    "    a_meta.loc[end_missing_range:,f'{window_size}med_prd_spd']=a_meta.loc[end_missing_range-1, f'{window_size}med_prd_spd'] # was 20376 20351\n",
    "\n",
    "    if is_train:\n",
    "        a_meta.loc[:][f'{window_size}med_error'] = np.nan\n",
    "        a_meta.loc[1:,f'{window_size}med_error'] = abs(a_meta.loc[1:, 'speed'] - a_meta.loc[1:,f'{window_size}med_prd_spd'])\n",
    "    a_meta.to_csv(a_meta_loc, index=False)\n",
    "    print(is_odd, beg_missing_range, end_missing_range)"
   ]
  },
  {
   "cell_type": "code",
   "execution_count": 15,
   "metadata": {},
   "outputs": [],
   "source": [
    "def stopSignSpeed(a_meta):\n",
    "    stop_length = a_meta.loc[1080:1640].shape[0]\n",
    "    test1 = 0\n",
    "    test2 = 0\n",
    "    test3 = 0\n",
    "    for i in a_meta.loc[1080:1640, 'predicted_speed']:\n",
    "        test1 = test1 + i\n",
    "    test1_loss = test1/stop_length\n",
    "    for i in a_meta.loc[1080:1640, '50med_prd_spd']:\n",
    "        test2 = test2 + i\n",
    "    test2_loss = test2/stop_length\n",
    "    for i in a_meta.loc[1080:1640, '100med_prd_spd']:\n",
    "        test3 = test3 + i\n",
    "    test3_loss = test3/stop_length\n",
    "    \n",
    "    print(test1_loss, test2_loss, test3_loss)\n",
    "def printMSE(a_meta, is_train, start=1, stop=None):\n",
    "    if is_train:\n",
    "#         start = 1 if start is None else start\n",
    "        stop = a_meta.shape[0]-1 if stop is None else stop\n",
    "        print(mean_squared_error(a_meta.loc[start:stop, 'speed'], a_meta.loc[start:stop, 'predicted_speed']))\n",
    "        print(mean_squared_error(a_meta.loc[start:stop, 'speed'], a_meta.loc[start:stop, '50med_prd_spd']))\n",
    "        print(mean_squared_error(a_meta.loc[start:stop, 'speed'], a_meta.loc[start:stop, '100med_prd_spd']))\n",
    "    else:\n",
    "        print(mean_squared_error(np.zeros((1641-1080)), a_meta.loc[1080:1640, 'predicted_speed']))\n",
    "        print(mean_squared_error(np.zeros((1641-1080)), a_meta.loc[1080:1640, '50med_prd_spd']))\n",
    "        print(mean_squared_error(np.zeros((1641-1080)), a_meta.loc[1080:1640, '100med_prd_spd']))\n",
    "def printMeta(a_meta, start=0, stop=None):\n",
    "#     start = 0 if start is None else start\n",
    "    stop = a_meta.shape[0] if stop is None else stop\n",
    "    with pd.option_context('display.max_rows', None, 'display.max_columns', None):  # more options can be specified also\n",
    "        display(test_meta[start:stop])    "
   ]
  },
  {
   "cell_type": "code",
   "execution_count": 16,
   "metadata": {},
   "outputs": [
    {
     "name": "stdout",
     "output_type": "stream",
     "text": [
      "20400\n",
      "20399\n",
      "20399/20399 [==============================] - 443s 22ms/step\n",
      "20400\n",
      "20399\n",
      "20399/20399 [==============================] - 444s 22ms/step\n"
     ]
    }
   ],
   "source": [
    "train_meta1 = pd.read_csv(train_meta_loc)\n",
    "predictSpeed(train_meta1, model_train_meta_loc, weights_loc, False, True)\n",
    "\n",
    "train_meta2 = pd.read_csv(train_meta_loc)\n",
    "predictSpeed(train_meta2, model_train_meta_loc2, weights_loc2, False, True)"
   ]
  },
  {
   "cell_type": "code",
   "execution_count": 17,
   "metadata": {},
   "outputs": [
    {
     "name": "stdout",
     "output_type": "stream",
     "text": [
      "0 25 20376\n",
      "0 50 20351\n",
      "0 25 20376\n",
      "0 50 20351\n"
     ]
    }
   ],
   "source": [
    "train_meta1 = pd.read_csv(model_train_meta_loc)\n",
    "rolling_median(train_meta1, model_train_meta_loc, 50, True)\n",
    "rolling_median(train_meta1, model_train_meta_loc, 100, True)\n",
    "\n",
    "train_meta2 = pd.read_csv(model_train_meta_loc2)\n",
    "rolling_median(train_meta2, model_train_meta_loc2, 50, True)\n",
    "rolling_median(train_meta2, model_train_meta_loc2, 100, True)"
   ]
  },
  {
   "cell_type": "code",
   "execution_count": 25,
   "metadata": {},
   "outputs": [
    {
     "name": "stdout",
     "output_type": "stream",
     "text": [
      "1.4580976639373158\n",
      "0.31090526157001175\n",
      "0.3084933588642986\n",
      "\n",
      "1.4587601135270005\n",
      "0.24971594178280684\n",
      "0.2987886614663431\n"
     ]
    }
   ],
   "source": [
    "train_meta1 = pd.read_csv(model_train_meta_loc)\n",
    "printMSE(train_meta1, True)\n",
    "print()\n",
    "train_meta2 = pd.read_csv(model_train_meta_loc2)\n",
    "printMSE(train_meta2, True)"
   ]
  },
  {
   "cell_type": "code",
   "execution_count": null,
   "metadata": {
    "scrolled": true
   },
   "outputs": [],
   "source": [
    "printMeta(train_meta, -100)"
   ]
  },
  {
   "cell_type": "code",
   "execution_count": 18,
   "metadata": {},
   "outputs": [
    {
     "name": "stdout",
     "output_type": "stream",
     "text": [
      "10798\n",
      "10797\n",
      "10797/10797 [==============================] - 234s 22ms/step\n",
      "10798\n",
      "10797\n",
      "10797/10797 [==============================] - 235s 22ms/step\n"
     ]
    }
   ],
   "source": [
    "test_meta1 = pd.read_csv(test_meta_loc)\n",
    "predictSpeed(test_meta1, model_test_meta_loc, weights_loc, False, False)\n",
    "\n",
    "test_meta2 = pd.read_csv(test_meta_loc)\n",
    "predictSpeed(test_meta2, model_test_meta_loc2, weights_loc2, False, False)"
   ]
  },
  {
   "cell_type": "code",
   "execution_count": 19,
   "metadata": {},
   "outputs": [
    {
     "name": "stdout",
     "output_type": "stream",
     "text": [
      "0 25 10774\n",
      "0 50 10749\n",
      "0 25 10774\n",
      "0 50 10749\n"
     ]
    }
   ],
   "source": [
    "test_meta1 = pd.read_csv(model_test_meta_loc)\n",
    "rolling_median(test_meta1, model_test_meta_loc, 50, False)\n",
    "rolling_median(test_meta1, model_test_meta_loc, 100, False)\n",
    "\n",
    "test_meta2 = pd.read_csv(model_test_meta_loc2)\n",
    "rolling_median(test_meta2, model_test_meta_loc2, 50, False)\n",
    "rolling_median(test_meta2, model_test_meta_loc2, 100, False)"
   ]
  },
  {
   "cell_type": "code",
   "execution_count": 20,
   "metadata": {},
   "outputs": [
    {
     "name": "stdout",
     "output_type": "stream",
     "text": [
      "-0.16009049500054853 -0.32998809624801984 -0.33774064877028986\n",
      "\n",
      "-0.16009049500054853 -0.32998809624801984 -0.33774064877028986\n"
     ]
    }
   ],
   "source": [
    "test_meta1 = pd.read_csv(model_test_meta_loc)\n",
    "stopSignSpeed(test_meta1)\n",
    "print()\n",
    "test_meta2 = pd.read_csv(model_test_meta_loc2)\n",
    "stopSignSpeed(test_meta2)"
   ]
  },
  {
   "cell_type": "code",
   "execution_count": 21,
   "metadata": {},
   "outputs": [
    {
     "name": "stdout",
     "output_type": "stream",
     "text": [
      "1.2607804567723715\n",
      "0.13212584040369194\n",
      "0.12477890086982543\n",
      "1.2607804567723715\n",
      "0.13212584040369194\n",
      "0.12477890086982543\n"
     ]
    }
   ],
   "source": [
    "printMSE(test_meta1, False)\n",
    "print()\n",
    "printMSE(test_meta2, False)"
   ]
  },
  {
   "cell_type": "code",
   "execution_count": null,
   "metadata": {},
   "outputs": [],
   "source": [
    "printMeta(test_meta1, 3000, 4000)\n",
    "printMeta(test_meta2, 3000, 4000)"
   ]
  },
  {
   "cell_type": "code",
   "execution_count": 22,
   "metadata": {},
   "outputs": [],
   "source": [
    "test_result = test_meta1.loc[:, '100med_prd_spd']\n",
    "test_result.to_csv(test_result_path, index=False)\n",
    "\n",
    "test_result = test_meta2.loc[:, '100med_prd_spd']\n",
    "test_result.to_csv(test_result_path2, index=False)"
   ]
  },
  {
   "cell_type": "code",
   "execution_count": null,
   "metadata": {},
   "outputs": [],
   "source": [
    "test_meta1 = pd.read_csv(model_test_meta_loc)\n",
    "test_meta2 = pd.read_csv(model_test_meta_loc2)"
   ]
  },
  {
   "cell_type": "code",
   "execution_count": 23,
   "metadata": {},
   "outputs": [
    {
     "name": "stdout",
     "output_type": "stream",
     "text": [
      "[6.0, 4.0]\n",
      "[12.0, 8.0]\n"
     ]
    }
   ],
   "source": [
    "fig_size = plt.rcParams[\"figure.figsize\"]\n",
    "print(fig_size)\n",
    "fig_size[0] = 12\n",
    "fig_size[1] = 8\n",
    "plt.rcParams[\"figure.figsize\"] = fig_size\n",
    "fig_size2 = plt.rcParams[\"figure.figsize\"]\n",
    "print(fig_size2)"
   ]
  },
  {
   "cell_type": "code",
   "execution_count": 24,
   "metadata": {},
   "outputs": [],
   "source": [
    "def plotSpeed(a_meta, is_train, speed_type1, speed_type2=None):\n",
    "    if speed_type2 is not None:\n",
    "        plt.plot(a_meta.loc[1:, 'image_index'], a_meta.loc[1:, speed_type2], 'r', linewidth=2)\n",
    "    if speed_type1 is not None:\n",
    "        plt.plot(a_meta.loc[1:, 'image_index'], a_meta.loc[1:, speed_type1], 'bo', markersize=2)\n",
    "    plt.grid()\n",
    "    if is_train:\n",
    "        randomNumber = plt.xticks(np.arange(0, 20400, 2000))\n",
    "        randomNumber = plt.yticks(np.arange(0, 32, 2))\n",
    "    else:\n",
    "        randomNumber = plt.yticks(np.arange(0, 25, 2))\n",
    "        randomNumber = plt.xticks(np.arange(0, 10798, 1000))"
   ]
  },
  {
   "cell_type": "code",
   "execution_count": null,
   "metadata": {},
   "outputs": [],
   "source": [
    "plotSpeed(train_meta1, True, None, 'speed')"
   ]
  },
  {
   "cell_type": "code",
   "execution_count": null,
   "metadata": {},
   "outputs": [],
   "source": [
    "plotSpeed(train_meta2, True,, 'speed')"
   ]
  },
  {
   "cell_type": "code",
   "execution_count": null,
   "metadata": {},
   "outputs": [],
   "source": [
    "plotSpeed(train_meta1, True,'predicted_speed')"
   ]
  },
  {
   "cell_type": "code",
   "execution_count": null,
   "metadata": {},
   "outputs": [],
   "source": [
    "plotSpeed(train_meta2, True,'predicted_speed')"
   ]
  },
  {
   "cell_type": "code",
   "execution_count": null,
   "metadata": {},
   "outputs": [],
   "source": [
    "plotSpeed(train_meta1, True,'predicted_speed', 'speed')"
   ]
  },
  {
   "cell_type": "code",
   "execution_count": null,
   "metadata": {},
   "outputs": [],
   "source": [
    "plotSpeed(train_meta2, True,'predicted_speed', 'speed')"
   ]
  },
  {
   "cell_type": "code",
   "execution_count": null,
   "metadata": {},
   "outputs": [],
   "source": [
    "plotSpeed(train_meta1, True,'50med_prd_spd', 'speed')"
   ]
  },
  {
   "cell_type": "code",
   "execution_count": null,
   "metadata": {},
   "outputs": [],
   "source": [
    "plotSpeed(train_meta2, True,'50med_prd_spd', 'speed')"
   ]
  },
  {
   "cell_type": "code",
   "execution_count": null,
   "metadata": {},
   "outputs": [],
   "source": [
    "plotSpeed(train_meta1, True,'100med_prd_spd', 'speed')"
   ]
  },
  {
   "cell_type": "code",
   "execution_count": null,
   "metadata": {},
   "outputs": [],
   "source": [
    "plotSpeed(train_meta2, True,'100med_prd_spd', 'speed')"
   ]
  },
  {
   "cell_type": "code",
   "execution_count": 26,
   "metadata": {},
   "outputs": [
    {
     "data": {
      "image/png": "[encoded data removed]",
      "text/plain": [
       "<Figure size 864x576 with 1 Axes>"
      ]
     },
     "metadata": {
      "needs_background": "light"
     },
     "output_type": "display_data"
    }
   ],
   "source": [
    "plotSpeed(test_meta1, False,'50med_prd_spd')"
   ]
  },
  {
   "cell_type": "code",
   "execution_count": 27,
   "metadata": {},
   "outputs": [
    {
     "data": {
      "image/png": "[encoded data removed]",
      "text/plain": [
       "<Figure size 864x576 with 1 Axes>"
      ]
     },
     "metadata": {
      "needs_background": "light"
     },
     "output_type": "display_data"
    }
   ],
   "source": [
    "plotSpeed(test_meta2, False,'50med_prd_spd')"
   ]
  },
  {
   "cell_type": "code",
   "execution_count": 28,
   "metadata": {},
   "outputs": [
    {
     "data": {
      "image/png": "[encoded data removed]",
      "text/plain": [
       "<Figure size 864x576 with 1 Axes>"
      ]
     },
     "metadata": {
      "needs_background": "light"
     },
     "output_type": "display_data"
    }
   ],
   "source": [
    "plotSpeed(test_meta1, False,'100med_prd_spd')"
   ]
  },
  {
   "cell_type": "code",
   "execution_count": 29,
   "metadata": {},
   "outputs": [
    {
     "data": {
      "image/png": "[encoded data removed]",
      "text/plain": [
       "<Figure size 864x576 with 1 Axes>"
      ]
     },
     "metadata": {
      "needs_background": "light"
     },
     "output_type": "display_data"
    }
   ],
   "source": [
    "plotSpeed(test_meta2, False,'100med_prd_spd')"
   ]
  },
  {
   "cell_type": "code",
   "execution_count": null,
   "metadata": {},
   "outputs": [],
   "source": [
    "plotSpeed(test_meta1, False,'predicted_speed')"
   ]
  },
  {
   "cell_type": "code",
   "execution_count": null,
   "metadata": {},
   "outputs": [],
   "source": [
    "plotSpeed(test_meta2, False,'predicted_speed')"
   ]
  },
  {
   "cell_type": "code",
   "execution_count": null,
   "metadata": {},
   "outputs": [],
   "source": [
    "reallyOldPath = '../train/assets/model=keras_elu_C40_C20_De128_De64_De15_De1-batch_size=40-num_epoch=20-steps_per_epoch=400/test_meta.csv'\n",
    "a_meta=pd.read_csv(reallyOldPath)\n",
    "plotSpeed(a_meta, False,'med_prd_spd')"
   ]
  },
  {
   "cell_type": "code",
   "execution_count": null,
   "metadata": {},
   "outputs": [],
   "source": []
  }
 ],
 "metadata": {
  "kernelspec": {
   "display_name": "Python 3",
   "language": "python",
   "name": "python3"
  },
  "language_info": {
   "codemirror_mode": {
    "name": "ipython",
    "version": 3
   },
   "file_extension": ".py",
   "mimetype": "text/x-python",
   "name": "python",
   "nbconvert_exporter": "python",
   "pygments_lexer": "ipython3",
   "version": "3.8.1"
  }
 },
 "nbformat": 4,
 "nbformat_minor": 2
}
