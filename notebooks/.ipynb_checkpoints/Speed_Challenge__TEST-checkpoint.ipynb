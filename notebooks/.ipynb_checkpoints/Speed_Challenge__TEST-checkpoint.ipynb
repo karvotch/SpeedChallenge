{
 "cells": [
  {
   "cell_type": "code",
   "execution_count": 3,
   "metadata": {},
   "outputs": [
    {
     "name": "stderr",
     "output_type": "stream",
     "text": [
      "Using TensorFlow backend.\n"
     ]
    }
   ],
   "source": [
    "import numpy as np\n",
    "import pandas as pd\n",
    "import matplotlib.pyplot as plt\n",
    "import matplotlib.image as mpimg\n",
    "import os\n",
    "import csv\n",
    "import skvideo.io\n",
    "from tqdm import tqdm\n",
    "import cv2 as cv\n",
    "%matplotlib inline\n",
    "from scipy.optimize import rosen\n",
    "from keras.activations import elu, softmax"
   ]
  },
  {
   "cell_type": "code",
   "execution_count": null,
   "metadata": {},
   "outputs": [],
   "source": [
    "cap = cv.VideoCapture(cv.samples.findFile(\"../train/videos/trash/trainGray_Clipped.m4v\"))\n",
    "while(cap.isOpened()):\n",
    "    ret, frame1 = cap.read()\n",
    "    pic = cv.cvtColor(frame1,cv.COLOR_BGR2HSV)\n",
    "    pic2 = np.copy(pic)\n",
    "    pic3 = np.copy(pic)\n",
    "    pic4 = np.copy(pic)\n",
    "    pic5 = np.copy(pic)\n",
    "    pic6 = np.copy(pic)\n",
    "#     pic2[...,2] = pic2[...,2] * .2\n",
    "    pic3[...,2] = pic3[...,2] * .7\n",
    "    pic4[...,2] = pic4[...,2] * 1.2\n",
    "    pic5[...,2] = pic5[...,2] * 1.4\n",
    "#     pic6[...,2] = pic6[...,2] * 1.8\n",
    "\n",
    "    pic = cv.cvtColor(pic,cv.COLOR_HSV2RGB)\n",
    "#     pic2 = cv.cvtColor(pic2,cv.COLOR_HSV2RGB)\n",
    "    pic3 = cv.cvtColor(pic3,cv.COLOR_HSV2RGB)\n",
    "    pic4 = cv.cvtColor(pic4,cv.COLOR_HSV2RGB)\n",
    "    pic5 = cv.cvtColor(pic5,cv.COLOR_HSV2RGB)\n",
    "#     pic6 = cv.cvtColor(pic6,cv.COLOR_HSV2RGB)\n",
    "\n",
    "    cv.imshow('frame1',pic)\n",
    "#     cv.imshow('frame2',pic2)\n",
    "    cv.imshow('frame3',pic3)\n",
    "    cv.imshow('frame4',pic4)\n",
    "    cv.imshow('frame5',pic5)\n",
    "#     cv.imshow('frame6',pic6)\n",
    "    if cv.waitKey(0) & 0xFF == ord('q'):\n",
    "        break\n",
    "cap.release()\n",
    "cv.destroyAllWindows()"
   ]
  },
  {
   "cell_type": "code",
   "execution_count": null,
   "metadata": {},
   "outputs": [],
   "source": [
    "cap = cv2.VideoCapture('./train/trainGray.mp4')\n",
    "\n",
    "while(cap.isOpened()):\n",
    "    ret, frame = cap.read()\n",
    "    \n",
    "    #gray = cv2.cvtColor(frame, cv2.COLOR_BGR2GRAY)\n",
    "    \n",
    "    #cv2.imshow('frame', gray)\n",
    "    cv2.imshow('frame', frame)\n",
    "    if cv2.waitKey(1) & 0xFF == ord('q'):\n",
    "        break\n",
    "\n",
    "cap.release()\n",
    "cv2.destroyAllWindows()"
   ]
  },
  {
   "cell_type": "code",
   "execution_count": null,
   "metadata": {},
   "outputs": [],
   "source": [
    "cap.release()\n",
    "cv.destroyAllWindows()"
   ]
  },
  {
   "cell_type": "code",
   "execution_count": null,
   "metadata": {},
   "outputs": [],
   "source": [
    "X = 0.1 * np.arange(10)\n",
    "print(X)\n",
    "print(rosen(X))\n",
    "a = np.sum(100.0*(X[1:] - X[:-1]**2.0)**2.0 + (1 - X[:-1])**2.0)\n",
    "print(a)\n",
    "print(100.0*(X[1:] - X[:-1]**2.0)**2.0)"
   ]
  },
  {
   "cell_type": "code",
   "execution_count": null,
   "metadata": {},
   "outputs": [],
   "source": [
    "b = np.empty((0,2))\n",
    "for i in range(10):\n",
    "    print(i)\n",
    "    rando = np.array([i, i+1])\n",
    "    print(rando.shape)\n",
    "    print(b.shape)\n",
    "    b = np.append(b, [rando], axis=0)\n",
    "print(b)\n",
    "print(b[0])"
   ]
  },
  {
   "cell_type": "code",
   "execution_count": null,
   "metadata": {},
   "outputs": [],
   "source": [
    "b = None"
   ]
  },
  {
   "cell_type": "code",
   "execution_count": null,
   "metadata": {},
   "outputs": [],
   "source": [
    "c = np.arange(10, dtype='uint8')\n",
    "print(c)\n",
    "c = c - 5\n",
    "print(c)\n",
    "c.dtype='bool'\n",
    "print(c)\n",
    "print(c.shape, c.dtype)"
   ]
  },
  {
   "cell_type": "code",
   "execution_count": null,
   "metadata": {},
   "outputs": [],
   "source": [
    "d = 3*180/np.pi/2\n",
    "e = 3*(180/np.pi/2)\n",
    "print(d)\n",
    "print(e)"
   ]
  },
  {
   "cell_type": "code",
   "execution_count": null,
   "metadata": {},
   "outputs": [],
   "source": [
    "f = np.array([1,11,32,6,21,46,37,17])\n",
    "print(np.mean(f))\n",
    "l = ((np.sum(f[0:4])/4) + (np.sum(f[4:])/4))/2\n",
    "print(l)"
   ]
  },
  {
   "cell_type": "code",
   "execution_count": null,
   "metadata": {},
   "outputs": [],
   "source": [
    "f = np.array([9,9,9,9,9,9])\n",
    "print(np.mean(np.square(f)))"
   ]
  },
  {
   "cell_type": "code",
   "execution_count": null,
   "metadata": {},
   "outputs": [],
   "source": [
    "f = np.array([1,11,32,6,21,46,37,17])\n",
    "g = np.array([[1,2],[1,2],[1,2],[1,2],[1,2],[1,2],[1,2],[1,2]])\n",
    "print(g.shape, np.transpose(g).shape)\n",
    "np.multiply(f,np.transpose(g))"
   ]
  },
  {
   "cell_type": "code",
   "execution_count": 4,
   "metadata": {},
   "outputs": [
    {
     "name": "stdout",
     "output_type": "stream",
     "text": [
      "0\n",
      "2\n",
      "4\n",
      "6\n",
      "8\n",
      "10\n",
      "12\n",
      "14\n",
      "16\n",
      "18\n"
     ]
    }
   ],
   "source": [
    "for i in range(0,20,2):\n",
    "    print(i)"
   ]
  },
  {
   "cell_type": "code",
   "execution_count": 11,
   "metadata": {},
   "outputs": [
    {
     "data": {
      "text/plain": [
       "<tf.Tensor: shape=(4,), dtype=float32, numpy=array([ 0.1       ,  1.        , -0.63212055, -0.09516257], dtype=float32)>"
      ]
     },
     "execution_count": 11,
     "metadata": {},
     "output_type": "execute_result"
    }
   ],
   "source": [
    "elu((.1, 1, -1, -.1), alpha=1.0)"
   ]
  },
  {
   "cell_type": "code",
   "execution_count": 35,
   "metadata": {},
   "outputs": [],
   "source": [
    "train_csv_path = '../train/text/CSV'\n",
    "train_meta = pd.read_csv(os.path.join(train_csv_path, 'trainGrayClipped_meta.csv'))"
   ]
  },
  {
   "cell_type": "code",
   "execution_count": 36,
   "metadata": {},
   "outputs": [
    {
     "data": {
      "text/html": [
       "<div>\n",
       "<style scoped>\n",
       "    .dataframe tbody tr th:only-of-type {\n",
       "        vertical-align: middle;\n",
       "    }\n",
       "\n",
       "    .dataframe tbody tr th {\n",
       "        vertical-align: top;\n",
       "    }\n",
       "\n",
       "    .dataframe thead th {\n",
       "        text-align: right;\n",
       "    }\n",
       "</style>\n",
       "<table border=\"1\" class=\"dataframe\">\n",
       "  <thead>\n",
       "    <tr style=\"text-align: right;\">\n",
       "      <th></th>\n",
       "      <th>image_path</th>\n",
       "      <th>image_index</th>\n",
       "      <th>speed</th>\n",
       "    </tr>\n",
       "  </thead>\n",
       "  <tbody>\n",
       "    <tr>\n",
       "      <th>0</th>\n",
       "      <td>../train/photos/images/gray_Clipped/0.jpg</td>\n",
       "      <td>0</td>\n",
       "      <td>28.105569</td>\n",
       "    </tr>\n",
       "    <tr>\n",
       "      <th>1</th>\n",
       "      <td>../train/photos/images/gray_Clipped/1.jpg</td>\n",
       "      <td>1</td>\n",
       "      <td>28.105569</td>\n",
       "    </tr>\n",
       "    <tr>\n",
       "      <th>2</th>\n",
       "      <td>../train/photos/images/gray_Clipped/2.jpg</td>\n",
       "      <td>2</td>\n",
       "      <td>28.106527</td>\n",
       "    </tr>\n",
       "    <tr>\n",
       "      <th>3</th>\n",
       "      <td>../train/photos/images/gray_Clipped/3.jpg</td>\n",
       "      <td>3</td>\n",
       "      <td>28.130404</td>\n",
       "    </tr>\n",
       "    <tr>\n",
       "      <th>4</th>\n",
       "      <td>../train/photos/images/gray_Clipped/4.jpg</td>\n",
       "      <td>4</td>\n",
       "      <td>28.109243</td>\n",
       "    </tr>\n",
       "  </tbody>\n",
       "</table>\n",
       "</div>"
      ],
      "text/plain": [
       "                                  image_path  image_index      speed\n",
       "0  ../train/photos/images/gray_Clipped/0.jpg            0  28.105569\n",
       "1  ../train/photos/images/gray_Clipped/1.jpg            1  28.105569\n",
       "2  ../train/photos/images/gray_Clipped/2.jpg            2  28.106527\n",
       "3  ../train/photos/images/gray_Clipped/3.jpg            3  28.130404\n",
       "4  ../train/photos/images/gray_Clipped/4.jpg            4  28.109243"
      ]
     },
     "execution_count": 36,
     "metadata": {},
     "output_type": "execute_result"
    }
   ],
   "source": [
    "train_meta.head()"
   ]
  },
  {
   "cell_type": "code",
   "execution_count": 37,
   "metadata": {},
   "outputs": [
    {
     "data": {
      "text/plain": [
       "(20400, 3)"
      ]
     },
     "execution_count": 37,
     "metadata": {},
     "output_type": "execute_result"
    }
   ],
   "source": [
    "train_meta.shape"
   ]
  },
  {
   "cell_type": "code",
   "execution_count": 38,
   "metadata": {},
   "outputs": [],
   "source": [
    "train_meta = train_meta.assign(predicted_speed=pd.Series(np.empty((20400))).values)"
   ]
  },
  {
   "cell_type": "code",
   "execution_count": 39,
   "metadata": {},
   "outputs": [],
   "source": [
    "train_meta.loc[:]['predicted_speed'] = np.nan"
   ]
  },
  {
   "cell_type": "code",
   "execution_count": 31,
   "metadata": {},
   "outputs": [],
   "source": [
    "train_meta.loc[:10,'predicted_speed'] = 2"
   ]
  },
  {
   "cell_type": "code",
   "execution_count": 40,
   "metadata": {},
   "outputs": [
    {
     "data": {
      "text/html": [
       "<div>\n",
       "<style scoped>\n",
       "    .dataframe tbody tr th:only-of-type {\n",
       "        vertical-align: middle;\n",
       "    }\n",
       "\n",
       "    .dataframe tbody tr th {\n",
       "        vertical-align: top;\n",
       "    }\n",
       "\n",
       "    .dataframe thead th {\n",
       "        text-align: right;\n",
       "    }\n",
       "</style>\n",
       "<table border=\"1\" class=\"dataframe\">\n",
       "  <thead>\n",
       "    <tr style=\"text-align: right;\">\n",
       "      <th></th>\n",
       "      <th>image_path</th>\n",
       "      <th>image_index</th>\n",
       "      <th>speed</th>\n",
       "      <th>predicted_speed</th>\n",
       "    </tr>\n",
       "  </thead>\n",
       "  <tbody>\n",
       "    <tr>\n",
       "      <th>0</th>\n",
       "      <td>../train/photos/images/gray_Clipped/0.jpg</td>\n",
       "      <td>0</td>\n",
       "      <td>28.105569</td>\n",
       "      <td>NaN</td>\n",
       "    </tr>\n",
       "    <tr>\n",
       "      <th>1</th>\n",
       "      <td>../train/photos/images/gray_Clipped/1.jpg</td>\n",
       "      <td>1</td>\n",
       "      <td>28.105569</td>\n",
       "      <td>NaN</td>\n",
       "    </tr>\n",
       "    <tr>\n",
       "      <th>2</th>\n",
       "      <td>../train/photos/images/gray_Clipped/2.jpg</td>\n",
       "      <td>2</td>\n",
       "      <td>28.106527</td>\n",
       "      <td>NaN</td>\n",
       "    </tr>\n",
       "    <tr>\n",
       "      <th>3</th>\n",
       "      <td>../train/photos/images/gray_Clipped/3.jpg</td>\n",
       "      <td>3</td>\n",
       "      <td>28.130404</td>\n",
       "      <td>NaN</td>\n",
       "    </tr>\n",
       "    <tr>\n",
       "      <th>4</th>\n",
       "      <td>../train/photos/images/gray_Clipped/4.jpg</td>\n",
       "      <td>4</td>\n",
       "      <td>28.109243</td>\n",
       "      <td>NaN</td>\n",
       "    </tr>\n",
       "  </tbody>\n",
       "</table>\n",
       "</div>"
      ],
      "text/plain": [
       "                                  image_path  image_index      speed  \\\n",
       "0  ../train/photos/images/gray_Clipped/0.jpg            0  28.105569   \n",
       "1  ../train/photos/images/gray_Clipped/1.jpg            1  28.105569   \n",
       "2  ../train/photos/images/gray_Clipped/2.jpg            2  28.106527   \n",
       "3  ../train/photos/images/gray_Clipped/3.jpg            3  28.130404   \n",
       "4  ../train/photos/images/gray_Clipped/4.jpg            4  28.109243   \n",
       "\n",
       "   predicted_speed  \n",
       "0              NaN  \n",
       "1              NaN  \n",
       "2              NaN  \n",
       "3              NaN  \n",
       "4              NaN  "
      ]
     },
     "execution_count": 40,
     "metadata": {},
     "output_type": "execute_result"
    }
   ],
   "source": [
    "train_meta.head()"
   ]
  },
  {
   "cell_type": "code",
   "execution_count": null,
   "metadata": {},
   "outputs": [],
   "source": []
  }
 ],
 "metadata": {
  "kernelspec": {
   "display_name": "Python 3",
   "language": "python",
   "name": "python3"
  },
  "language_info": {
   "codemirror_mode": {
    "name": "ipython",
    "version": 3
   },
   "file_extension": ".py",
   "mimetype": "text/x-python",
   "name": "python",
   "nbconvert_exporter": "python",
   "pygments_lexer": "ipython3",
   "version": "3.8.1"
  }
 },
 "nbformat": 4,
 "nbformat_minor": 2
}
