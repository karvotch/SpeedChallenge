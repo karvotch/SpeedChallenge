{
 "cells": [
  {
   "cell_type": "code",
   "execution_count": null,
   "metadata": {},
   "outputs": [],
   "source": [
    "import numpy as np\n",
    "import pandas as pd\n",
    "import matplotlib.pyplot as plt\n",
    "import matplotlib.image as mpimg\n",
    "import os\n",
    "import csv\n",
    "import skvideo.io\n",
    "from tqdm import tqdm\n",
    "import cv2 as cv\n",
    "%matplotlib inline\n",
    "from scipy.optimize import rosen\n",
    "from keras.activations import elu, softmax"
   ]
  },
  {
   "cell_type": "code",
   "execution_count": null,
   "metadata": {},
   "outputs": [],
   "source": [
    "cap = cv.VideoCapture(cv.samples.findFile(\"../train/videos/trash/trainGray_Clipped.m4v\"))\n",
    "while(cap.isOpened()):\n",
    "    ret, frame1 = cap.read()\n",
    "    pic = cv.cvtColor(frame1,cv.COLOR_BGR2HSV)\n",
    "    pic2 = np.copy(pic)\n",
    "    pic3 = np.copy(pic)\n",
    "    pic4 = np.copy(pic)\n",
    "    pic5 = np.copy(pic)\n",
    "    pic6 = np.copy(pic)\n",
    "#     pic2[...,2] = pic2[...,2] * .2\n",
    "    pic3[...,2] = pic3[...,2] * .7\n",
    "    pic4[...,2] = pic4[...,2] * 1.2\n",
    "    pic5[...,2] = pic5[...,2] * 1.4\n",
    "#     pic6[...,2] = pic6[...,2] * 1.8\n",
    "\n",
    "    pic = cv.cvtColor(pic,cv.COLOR_HSV2RGB)\n",
    "#     pic2 = cv.cvtColor(pic2,cv.COLOR_HSV2RGB)\n",
    "    pic3 = cv.cvtColor(pic3,cv.COLOR_HSV2RGB)\n",
    "    pic4 = cv.cvtColor(pic4,cv.COLOR_HSV2RGB)\n",
    "    pic5 = cv.cvtColor(pic5,cv.COLOR_HSV2RGB)\n",
    "#     pic6 = cv.cvtColor(pic6,cv.COLOR_HSV2RGB)\n",
    "\n",
    "    cv.imshow('frame1',pic)\n",
    "#     cv.imshow('frame2',pic2)\n",
    "    cv.imshow('frame3',pic3)\n",
    "    cv.imshow('frame4',pic4)\n",
    "    cv.imshow('frame5',pic5)\n",
    "#     cv.imshow('frame6',pic6)\n",
    "    if cv.waitKey(0) & 0xFF == ord('q'):\n",
    "        break\n",
    "cap.release()\n",
    "cv.destroyAllWindows()"
   ]
  },
  {
   "cell_type": "code",
   "execution_count": null,
   "metadata": {},
   "outputs": [],
   "source": [
    "cap = cv2.VideoCapture('./train/trainGray.mp4')\n",
    "\n",
    "while(cap.isOpened()):\n",
    "    ret, frame = cap.read()\n",
    "    \n",
    "    #gray = cv2.cvtColor(frame, cv2.COLOR_BGR2GRAY)\n",
    "    \n",
    "    #cv2.imshow('frame', gray)\n",
    "    cv2.imshow('frame', frame)\n",
    "    if cv2.waitKey(1) & 0xFF == ord('q'):\n",
    "        break\n",
    "\n",
    "cap.release()\n",
    "cv2.destroyAllWindows()"
   ]
  },
  {
   "cell_type": "code",
   "execution_count": null,
   "metadata": {},
   "outputs": [],
   "source": [
    "cap.release()\n",
    "cv.destroyAllWindows()"
   ]
  },
  {
   "cell_type": "code",
   "execution_count": null,
   "metadata": {},
   "outputs": [],
   "source": [
    "X = 0.1 * np.arange(10)\n",
    "print(X)\n",
    "print(rosen(X))\n",
    "a = np.sum(100.0*(X[1:] - X[:-1]**2.0)**2.0 + (1 - X[:-1])**2.0)\n",
    "print(a)\n",
    "print(100.0*(X[1:] - X[:-1]**2.0)**2.0)"
   ]
  },
  {
   "cell_type": "code",
   "execution_count": null,
   "metadata": {},
   "outputs": [],
   "source": [
    "b = np.empty((0,2))\n",
    "for i in range(10):\n",
    "    print(i)\n",
    "    rando = np.array([i, i+1])\n",
    "    print(rando.shape)\n",
    "    print(b.shape)\n",
    "    b = np.append(b, [rando], axis=0)\n",
    "print(b)\n",
    "print(b[0])"
   ]
  },
  {
   "cell_type": "code",
   "execution_count": null,
   "metadata": {},
   "outputs": [],
   "source": [
    "b = None"
   ]
  },
  {
   "cell_type": "code",
   "execution_count": null,
   "metadata": {},
   "outputs": [],
   "source": [
    "c = np.arange(10, dtype='uint8')\n",
    "print(c)\n",
    "c = c - 5\n",
    "print(c)\n",
    "c.dtype='bool'\n",
    "print(c)\n",
    "print(c.shape, c.dtype)"
   ]
  },
  {
   "cell_type": "code",
   "execution_count": null,
   "metadata": {},
   "outputs": [],
   "source": [
    "d = 3*180/np.pi/2\n",
    "e = 3*(180/np.pi/2)\n",
    "print(d)\n",
    "print(e)"
   ]
  },
  {
   "cell_type": "code",
   "execution_count": null,
   "metadata": {},
   "outputs": [],
   "source": [
    "f = np.array([1,11,32,6,21,46,37,17])\n",
    "print(np.mean(f))\n",
    "l = ((np.sum(f[0:4])/4) + (np.sum(f[4:])/4))/2\n",
    "print(l)"
   ]
  },
  {
   "cell_type": "code",
   "execution_count": null,
   "metadata": {},
   "outputs": [],
   "source": [
    "f = np.array([9,9,9,9,9,9])\n",
    "print(np.mean(np.square(f)))"
   ]
  },
  {
   "cell_type": "code",
   "execution_count": null,
   "metadata": {},
   "outputs": [],
   "source": [
    "f = np.array([1,11,32,6,21,46,37,17])\n",
    "g = np.array([[1,2],[1,2],[1,2],[1,2],[1,2],[1,2],[1,2],[1,2]])\n",
    "print(g.shape, np.transpose(g).shape)\n",
    "np.multiply(f,np.transpose(g))"
   ]
  },
  {
   "cell_type": "code",
   "execution_count": null,
   "metadata": {},
   "outputs": [],
   "source": [
    "for i in range(0,20,2):\n",
    "    print(i)"
   ]
  },
  {
   "cell_type": "code",
   "execution_count": null,
   "metadata": {},
   "outputs": [],
   "source": [
    "elu((.1, 1, -1, -.1), alpha=1.0)"
   ]
  },
  {
   "cell_type": "code",
   "execution_count": null,
   "metadata": {},
   "outputs": [],
   "source": [
    "train_csv_path = '../train/text/CSV'\n",
    "train_meta = pd.read_csv(os.path.join(train_csv_path, 'trainGrayClipped_meta.csv'))"
   ]
  },
  {
   "cell_type": "code",
   "execution_count": null,
   "metadata": {},
   "outputs": [],
   "source": [
    "train_meta.head()"
   ]
  },
  {
   "cell_type": "code",
   "execution_count": null,
   "metadata": {},
   "outputs": [],
   "source": [
    "train_meta.shape"
   ]
  },
  {
   "cell_type": "code",
   "execution_count": null,
   "metadata": {},
   "outputs": [],
   "source": [
    "train_meta = train_meta.assign(predicted_speed=pd.Series(np.empty((20400))).values)"
   ]
  },
  {
   "cell_type": "code",
   "execution_count": null,
   "metadata": {},
   "outputs": [],
   "source": [
    "train_meta.loc[:]['predicted_speed'] = np.nan"
   ]
  },
  {
   "cell_type": "code",
   "execution_count": null,
   "metadata": {},
   "outputs": [],
   "source": [
    "train_meta.loc[:10,'predicted_speed'] = 2"
   ]
  },
  {
   "cell_type": "code",
   "execution_count": null,
   "metadata": {},
   "outputs": [],
   "source": [
    "train_meta.head()"
   ]
  },
  {
   "cell_type": "code",
   "execution_count": null,
   "metadata": {
    "scrolled": false
   },
   "outputs": [],
   "source": [
    "# First create some toy data:\n",
    "x = np.linspace(0, 2*np.pi, 400)\n",
    "y = np.sin(x**2)\n",
    "y2 = np.sin(x)\n",
    "# Create just a figure and only one subplot\n",
    "fig, ax = plt.subplots()\n",
    "ax.plot(x, y)\n",
    "ax.set_title('Simple plot')\n",
    "\n",
    "fig, ax = plt.subplots()\n",
    "ax.plot(x, y2)\n",
    "ax.set_title('Simple plot 2')\n",
    "\n",
    "\n",
    "# Create two subplots and unpack the output array immediately\n",
    "f, (ax1, ax2) = plt.subplots(1, 2, sharey=True)\n",
    "ax1.plot(x, y)\n",
    "ax1.set_title('Sharing Y axis')\n",
    "ax2.scatter(x, y)\n",
    "\n",
    "# Create four polar axes and access them through the returned array\n",
    "fig, axs = plt.subplots(2, 2, subplot_kw=dict(polar=True))\n",
    "axs[0, 0].plot(x, y)\n",
    "axs[1, 1].scatter(x, y)\n",
    "\n",
    "# Share a X axis with each column of subplots\n",
    "plt.subplots(2, 2, sharex='col')\n",
    "\n",
    "# Share a Y axis with each row of subplots\n",
    "plt.subplots(2, 2, sharey='row')\n",
    "\n",
    "# Share both X and Y axes with all subplots\n",
    "plt.subplots(2, 2, sharex='all', sharey='all')\n",
    "\n",
    "# Note that this is the same as\n",
    "plt.subplots(2, 2, sharex=True, sharey=True)\n",
    "\n",
    "# Create figure number 10 with a single subplot\n",
    "# and clears it if it already exists.\n",
    "fig, ax = plt.subplots(num=10, clear=True)\n",
    "fig, ax = plt.subplots(num=10, clear=True)"
   ]
  },
  {
   "cell_type": "code",
   "execution_count": null,
   "metadata": {},
   "outputs": [],
   "source": [
    "train_csv_path = '../train/text/CSV'\n",
    "train_meta = pd.read_csv(os.path.join(train_csv_path, 'trainGrayClipped_meta.csv'))\n",
    "\n",
    "data_index = np.loadtxt('../train/text/train_val_index.txt', np.dtype('int16'), delimiter='\\n')\n",
    "dataset_frames_num = train_meta.shape[0]\n",
    "train_frames_num = int(.8*(dataset_frames_num-1))\n",
    "\n",
    "train_index = data_index[:train_frames_num]\n",
    "val_index = data_index[train_frames_num:]\n",
    "\n",
    "print(len(train_index))\n",
    "print(len(val_index))\n",
    "print(len(train_index)+len(val_index))"
   ]
  },
  {
   "cell_type": "code",
   "execution_count": null,
   "metadata": {},
   "outputs": [],
   "source": [
    "data_index = np.loadtxt('../train/text/train_val_index.txt', np.dtype('int16'), delimiter='\\n')\n",
    "print(data_index[22])\n",
    "print(data_index[22:22+1])"
   ]
  },
  {
   "cell_type": "code",
   "execution_count": null,
   "metadata": {},
   "outputs": [],
   "source": [
    "img_height = 120\n",
    "img_width = 300\n",
    "img_channels = 3\n",
    "opt_flow_arr = np.empty((0, img_height, img_width, img_channels))\n",
    "an_arr = np.empty((2, img_height, img_width, img_channels))\n",
    "for i in range(2):\n",
    "    for j in range(img_height):\n",
    "        for k in range(img_width):\n",
    "            for l in range(img_channels):\n",
    "                an_arr[i,j,k,l] = i+j+k+l\n",
    "print(opt_flow_arr.shape, an_arr.shape)"
   ]
  },
  {
   "cell_type": "code",
   "execution_count": null,
   "metadata": {},
   "outputs": [],
   "source": [
    "opt_flow_arr = np.append(opt_flow_arr, an_arr, axis=0)\n",
    "print(opt_flow_arr.shape, an_arr.shape)"
   ]
  },
  {
   "cell_type": "code",
   "execution_count": null,
   "metadata": {},
   "outputs": [],
   "source": [
    "fig_size = plt.rcParams[\"figure.figsize\"]\n",
    "print(fig_size)\n",
    "fig_size[0] = 15\n",
    "fig_size[1] = 10\n",
    "plt.rcParams[\"figure.figsize\"] = fig_size\n",
    "fig_size2 = plt.rcParams[\"figure.figsize\"]\n",
    "print(fig_size2)"
   ]
  },
  {
   "cell_type": "code",
   "execution_count": null,
   "metadata": {
    "scrolled": false
   },
   "outputs": [],
   "source": [
    "train_meta_loc = '../train/text/CSV'\n",
    "train_meta_loc = os.path.join(train_meta_loc, 'trainGrayTrimmed_meta.csv')\n",
    "train_meta = pd.read_csv(train_meta_loc)\n",
    "\n",
    "data_index = np.loadtxt('../train/text/train_val_index.txt', np.dtype('int16'), delimiter='\\n')\n",
    "np.random.shuffle(data_index)\n",
    "\n",
    "dataset_frames_num = train_meta.shape[0]\n",
    "train_frames_num = int(.80*(dataset_frames_num-1))\n",
    "\n",
    "train_index = data_index[:train_frames_num]\n",
    "val_index = data_index[train_frames_num:][:2000]\n",
    "test_index = data_index[train_frames_num:][2000:]\n",
    "print(data_index[0])\n",
    "print(val_index[0])\n",
    "#print(train_index, val_index)\n",
    "plt.plot(train_meta['speed'][train_index], 'ro', markersize=0)\n",
    "plt.plot(train_meta['speed'][val_index], 'go', markersize=3)\n",
    "plt.plot(train_meta['speed'][test_index], 'go', markersize=3)"
   ]
  },
  {
   "cell_type": "code",
   "execution_count": null,
   "metadata": {},
   "outputs": [],
   "source": [
    "cap = cv.VideoCapture('../videos/vtest.avi')\n",
    "ret, frame1 = cap.read()\n",
    "prvs = cv.cvtColor(frame1,cv.COLOR_BGR2GRAY)\n",
    "hsv = np.zeros_like(frame1)\n",
    "hsv[...,1] = 255\n",
    "while(cap.isOpened()):\n",
    "    ret, frame2 = cap.read()\n",
    "    next1 = cv.cvtColor(frame2,cv.COLOR_BGR2GRAY)\n",
    "    flow = cv.calcOpticalFlowFarneback(prvs,next1, None, 0.5, 3, 15, 3, 5, 1.2, 0)\n",
    "    mag, ang = cv.cartToPolar(flow[...,0], flow[...,1])\n",
    "    hsv[...,0] = ang*180/np.pi/2\n",
    "    hsv[...,2] = cv.normalize(mag,None,0,255,cv.NORM_MINMAX)\n",
    "    bgr = cv.cvtColor(hsv,cv.COLOR_HSV2BGR)\n",
    "    cv.imshow('frame2',bgr)\n",
    "    prvs = next1\n",
    "    if cv.waitKey(30) & 0xFF == ord('q'):\n",
    "        break\n",
    "cap.release()\n",
    "cv.destroyAllWindows()\n"
   ]
  },
  {
   "cell_type": "code",
   "execution_count": null,
   "metadata": {},
   "outputs": [],
   "source": [
    "# flow_mat = None\n",
    "# image_scale = 0.5\n",
    "# pyr_images = 1 # was 3\n",
    "# win_size = 15\n",
    "# pyr_iterations = 2 # was 3\n",
    "# poly_expans = 5\n",
    "# std = 1.3 # was 1.2\n",
    "\n",
    "flow_mat = None\n",
    "image_scale = 0.5\n",
    "pyr_images = 1 # was 3\n",
    "win_size = 25\n",
    "pyr_iterations = 2 # was 3\n",
    "poly_expans = 5\n",
    "std = 1.3 # was 1.2\n"
   ]
  },
  {
   "cell_type": "code",
   "execution_count": null,
   "metadata": {},
   "outputs": [],
   "source": [
    "cap = cv.VideoCapture(\"../test/videos/trash/testGray_Clipped.m4v\")\n",
    "frameCount = int(cap.get(cv.CAP_PROP_FRAME_COUNT))\n",
    "frameWidth = int(cap.get(cv.CAP_PROP_FRAME_WIDTH))\n",
    "frameHeight = int(cap.get(cv.CAP_PROP_FRAME_HEIGHT))\n",
    "\n",
    "ret, frame1 = cap.read()\n",
    "prvs = cv.cvtColor(frame1,cv.COLOR_BGR2GRAY)\n",
    "# prvs = frame1\n",
    "hsv = np.zeros_like(frame1)\n",
    "hsv[...,1] = 255\n",
    "#hsv[...,1] = cv.cvtColor(frame1, cv.COLOR_BGR2HSV)[...,1]\n",
    "for i in tqdm(range(frameCount)):\n",
    "#while(tqdm(cap.isOpened())):\n",
    "    ret, frame2 = cap.read()\n",
    "    next1 = cv.cvtColor(frame2,cv.COLOR_BGR2GRAY)\n",
    "#         next = frame2\n",
    "    flow = cv.calcOpticalFlowFarneback(prvs,next1, flow_mat, image_scale, pyr_images, win_size, pyr_iterations, poly_expans, std, 0)\n",
    "    mag, ang = cv.cartToPolar(flow[...,0], flow[...,1])\n",
    "    hsv[...,0] = ang*180/np.pi/2\n",
    "    hsv[...,2] = cv.normalize(mag,None,0,255,cv.NORM_MINMAX)\n",
    "    bgr = cv.cvtColor(hsv,cv.COLOR_HSV2BGR)\n",
    "    #hsv[...,1] = cv.cvtColor(frame2, cv.COLOR_BGR2HSV)[...,1]\n",
    "    cv.imshow('frame2',bgr)\n",
    "    if cv.waitKey(0) & 0xff == ord('q'):\n",
    "        break\n",
    "    prvs = next1\n",
    "cap.release()\n",
    "cv.destroyAllWindows()"
   ]
  }
 ],
 "metadata": {
  "kernelspec": {
   "display_name": "Python 3",
   "language": "python",
   "name": "python3"
  },
  "language_info": {
   "codemirror_mode": {
    "name": "ipython",
    "version": 3
   },
   "file_extension": ".py",
   "mimetype": "text/x-python",
   "name": "python",
   "nbconvert_exporter": "python",
   "pygments_lexer": "ipython3",
   "version": "3.8.1"
  }
 },
 "nbformat": 4,
 "nbformat_minor": 2
}
