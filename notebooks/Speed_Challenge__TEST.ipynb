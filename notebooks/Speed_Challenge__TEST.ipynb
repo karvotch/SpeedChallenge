{
 "cells": [
  {
   "cell_type": "code",
   "execution_count": null,
   "metadata": {},
   "outputs": [],
   "source": [
    "import numpy as np\n",
    "import pandas as pd\n",
    "import matplotlib.pyplot as plt\n",
    "import matplotlib.image as mpimg\n",
    "import os\n",
    "import csv\n",
    "import skvideo.io\n",
    "from tqdm import tqdm\n",
    "import cv2 as cv\n",
    "%matplotlib inline"
   ]
  },
  {
   "cell_type": "code",
   "execution_count": null,
   "metadata": {},
   "outputs": [],
   "source": [
    "cap = cv.VideoCapture(cv.samples.findFile(\"../train/videos/trash/trainGray_Clipped.m4v\"))\n",
    "while(cap.isOpened()):\n",
    "    ret, frame1 = cap.read()\n",
    "    pic = cv.cvtColor(frame1,cv.COLOR_BGR2HSV)\n",
    "    pic2 = np.copy(pic)\n",
    "    pic3 = np.copy(pic)\n",
    "    pic4 = np.copy(pic)\n",
    "    pic5 = np.copy(pic)\n",
    "    pic6 = np.copy(pic)\n",
    "#     pic2[...,2] = pic2[...,2] * .2\n",
    "    pic3[...,2] = pic3[...,2] * .7\n",
    "    pic4[...,2] = pic4[...,2] * 1.2\n",
    "    pic5[...,2] = pic5[...,2] * 1.4\n",
    "#     pic6[...,2] = pic6[...,2] * 1.8\n",
    "\n",
    "    pic = cv.cvtColor(pic,cv.COLOR_HSV2RGB)\n",
    "#     pic2 = cv.cvtColor(pic2,cv.COLOR_HSV2RGB)\n",
    "    pic3 = cv.cvtColor(pic3,cv.COLOR_HSV2RGB)\n",
    "    pic4 = cv.cvtColor(pic4,cv.COLOR_HSV2RGB)\n",
    "    pic5 = cv.cvtColor(pic5,cv.COLOR_HSV2RGB)\n",
    "#     pic6 = cv.cvtColor(pic6,cv.COLOR_HSV2RGB)\n",
    "\n",
    "    cv.imshow('frame1',pic)\n",
    "#     cv.imshow('frame2',pic2)\n",
    "    cv.imshow('frame3',pic3)\n",
    "    cv.imshow('frame4',pic4)\n",
    "    cv.imshow('frame5',pic5)\n",
    "#     cv.imshow('frame6',pic6)\n",
    "    if cv.waitKey(0) & 0xFF == ord('q'):\n",
    "        break\n",
    "cap.release()\n",
    "cv.destroyAllWindows()"
   ]
  },
  {
   "cell_type": "code",
   "execution_count": null,
   "metadata": {},
   "outputs": [],
   "source": [
    "cap = cv2.VideoCapture('./train/trainGray.mp4')\n",
    "\n",
    "while(cap.isOpened()):\n",
    "    ret, frame = cap.read()\n",
    "    \n",
    "    #gray = cv2.cvtColor(frame, cv2.COLOR_BGR2GRAY)\n",
    "    \n",
    "    #cv2.imshow('frame', gray)\n",
    "    cv2.imshow('frame', frame)\n",
    "    if cv2.waitKey(1) & 0xFF == ord('q'):\n",
    "        break\n",
    "\n",
    "cap.release()\n",
    "cv2.destroyAllWindows()"
   ]
  },
  {
   "cell_type": "code",
   "execution_count": null,
   "metadata": {},
   "outputs": [],
   "source": [
    "cap.release()\n",
    "cv.destroyAllWindows()"
   ]
  },
  {
   "cell_type": "code",
   "execution_count": null,
   "metadata": {},
   "outputs": [],
   "source": []
  }
 ],
 "metadata": {
  "kernelspec": {
   "display_name": "Python 3",
   "language": "python",
   "name": "python3"
  },
  "language_info": {
   "codemirror_mode": {
    "name": "ipython",
    "version": 3
   },
   "file_extension": ".py",
   "mimetype": "text/x-python",
   "name": "python",
   "nbconvert_exporter": "python",
   "pygments_lexer": "ipython3",
   "version": "3.8.1"
  }
 },
 "nbformat": 4,
 "nbformat_minor": 2
}
