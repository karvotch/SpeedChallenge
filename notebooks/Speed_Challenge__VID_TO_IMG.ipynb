{
 "cells": [
  {
   "cell_type": "code",
   "execution_count": 2,
   "metadata": {},
   "outputs": [],
   "source": [
    "import numpy as np\n",
    "import pandas as pd\n",
    "import matplotlib.pyplot as plt\n",
    "import matplotlib.image as mpimg\n",
    "import os\n",
    "import csv\n",
    "import skvideo.io\n",
    "from tqdm import tqdm\n",
    "%matplotlib inline"
   ]
  },
  {
   "cell_type": "code",
   "execution_count": 4,
   "metadata": {},
   "outputs": [
    {
     "name": "stdout",
     "output_type": "stream",
     "text": [
      "../train ../test\n",
      "../train/hello\n"
     ]
    }
   ],
   "source": [
    "train = 'train'\n",
    "test = 'test'\n",
    "\n",
    "TRAIN_PATH = os.path.join('../',train)\n",
    "TEST_PATH = os.path.join('../',test)\n",
    "print(TRAIN_PATH, TEST_PATH)\n",
    "\n",
    "VID_PATH = 'videos/'\n",
    "IMG_PATH = 'photos/images'\n",
    "\n",
    "TRAIN_VID = os.path.join(TRAIN_PATH,VID_PATH+'trainGray.mp4')\n",
    "TEST_VID = os.path.join(TEST_PATH,VID_PATH+'testGray.mp4')\n",
    "\n",
    "TRAIN_IMG = os.path.join(TRAIN_PATH,IMG_PATH+'train_imgs')\n",
    "TEST_IMG = os.path.join(TEST_PATH,IMG_PATH+'test_imgs')\n",
    "\n",
    "train_frame = 20400\n",
    "test_fram = 10798"
   ]
  },
  {
   "cell_type": "code",
   "execution_count": null,
   "metadata": {},
   "outputs": [],
   "source": [
    "train_y = list(pd.read_csv(os.path.join(TRAIN_PATH, 'train.txt'), header=None, squeeze=True))\n",
    "assert(len(train_y)==train_frames)"
   ]
  },
  {
   "cell_type": "code",
   "execution_count": null,
   "metadata": {},
   "outputs": [],
   "source": [
    "def dataset_constructor(video_loc, img_folder, tot_frames, dataset_type):\n",
    "    meta_dict = {}\n",
    "\n",
    "    tqdm.write('reading in video file...')\n",
    "    tot_frames = train_frames\n",
    "    cap = skvideo.io.vread(video_loc)\n",
    "     \n",
    "    tqdm.write('constructing dataset...')\n",
    "    for idx, frame in enumerate(tqdm(cap)):    \n",
    "        img_path = os.path.join(img_folder, str(idx)+'.jpg')\n",
    "        frame_speed = float('NaN') if dataset_type == 'test' else train_y[idx]\n",
    "        meta_dict[idx] = [img_path, idx, frame_speed]\n",
    "        skvideo.io.vwrite(img_path, frame)\n",
    "    meta_df = pd.DataFrame.from_dict(meta_dict, orient='index')\n",
    "    meta_df.columns = ['image_path', 'image_index', 'speed']\n",
    "    \n",
    "    tqdm.write('writing meta to csv')\n",
    "    meta_df.to_csv(os.path.join(CLEAN_DATA_PATH, dataset_type+'_meta.csv'), index=False)\n",
    "    \n",
    "    return \"done dataset_constructor\""
   ]
  },
  {
   "cell_type": "code",
   "execution_count": null,
   "metadata": {},
   "outputs": [],
   "source": [
    "# train data\n",
    "dataset_constructor(TRAIN_VIDEO, CLEAN_IMGS_TRAIN, train_frames, 'train')"
   ]
  },
  {
   "cell_type": "code",
   "execution_count": null,
   "metadata": {},
   "outputs": [],
   "source": [
    "# test data\n",
    "dataset_constructor(TEST_VIDEO, CLEAN_IMGS_TEST, test_frames, 'test')"
   ]
  },
  {
   "cell_type": "code",
   "execution_count": null,
   "metadata": {},
   "outputs": [],
   "source": [
    "train_meta = pd.read_csv(os.path.join(CLEAN_DATA_PATH, 'train_meta.csv'))\n",
    "assert(train_meta.shape[0] == train_frames)\n",
    "assert(train_meta.shape[1] == 3)"
   ]
  },
  {
   "cell_type": "code",
   "execution_count": null,
   "metadata": {},
   "outputs": [],
   "source": [
    "train_meta.head()"
   ]
  },
  {
   "cell_type": "code",
   "execution_count": null,
   "metadata": {},
   "outputs": [],
   "source": [
    "for i in range(50):\n",
    "    print('speed:',train_meta['speed'][i] )\n",
    "    img=mpimg.imread(train_meta['image_path'][i])\n",
    "    print('shape:', img.shape)\n",
    "    plt.imshow(img)\n",
    "    plt.show()"
   ]
  },
  {
   "cell_type": "code",
   "execution_count": null,
   "metadata": {},
   "outputs": [],
   "source": [
    "fig, ax = plt.subplots(figsize=(20,10))\n",
    "plt.plot(train_meta['speed'])\n",
    "plt.xlabel('image_index (or time since start)')\n",
    "plt.ylabel('speed')\n",
    "plt.title('Speed vs time')\n",
    "plt.show()"
   ]
  },
  {
   "cell_type": "code",
   "execution_count": null,
   "metadata": {},
   "outputs": [],
   "source": [
    "test_meta = pd.read_csv(os.path.join(CLEAN_DATA_PATH, 'test_meta.csv'))\n",
    "assert(test_meta.shape[0] == test_frames)\n",
    "assert(test_meta.shape[1] == 3)"
   ]
  },
  {
   "cell_type": "code",
   "execution_count": null,
   "metadata": {},
   "outputs": [],
   "source": [
    "test_meta.head()"
   ]
  },
  {
   "cell_type": "code",
   "execution_count": null,
   "metadata": {},
   "outputs": [],
   "source": [
    "for i in range(50):\n",
    "    print('speed:',test_meta['speed'][i] )\n",
    "    img=mpimg.imread(test_meta['image_path'][i])\n",
    "    print('shape:', img.shape)\n",
    "    plt.imshow(img)\n",
    "    plt.show()"
   ]
  }
 ],
 "metadata": {
  "kernelspec": {
   "display_name": "Python 3",
   "language": "python",
   "name": "python3"
  },
  "language_info": {
   "codemirror_mode": {
    "name": "ipython",
    "version": 3
   },
   "file_extension": ".py",
   "mimetype": "text/x-python",
   "name": "python",
   "nbconvert_exporter": "python",
   "pygments_lexer": "ipython3",
   "version": "3.8.1"
  }
 },
 "nbformat": 4,
 "nbformat_minor": 2
}
