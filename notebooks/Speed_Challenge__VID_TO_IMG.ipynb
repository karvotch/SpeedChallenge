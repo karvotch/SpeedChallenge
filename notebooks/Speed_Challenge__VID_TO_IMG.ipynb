{
 "cells": [
  {
   "cell_type": "code",
   "execution_count": 1,
   "metadata": {},
   "outputs": [],
   "source": [
    "## import numpy as np\n",
    "import pandas as pd\n",
    "import matplotlib.pyplot as plt\n",
    "import matplotlib.image as mpimg\n",
    "import os\n",
    "import csv\n",
    "import skvideo.io\n",
    "from tqdm import tqdm\n",
    "%matplotlib inline"
   ]
  },
  {
   "cell_type": "code",
   "execution_count": 2,
   "metadata": {},
   "outputs": [],
   "source": [
    "train = 'train'\n",
    "test = 'test'\n",
    "\n",
    "TRAIN_PATH = os.path.join('../',train)\n",
    "TEST_PATH = os.path.join('../',test)\n",
    "\n",
    "VID_PATH = 'videos/trash/'\n",
    "IMG_PATH = 'photos/images/gray_Road_Only/'\n",
    "TXT_PATH = 'text'\n",
    "CSV_PATH = os.path.join(TXT_PATH, 'CSV')\n",
    "\n",
    "TRAIN_VID = os.path.join(TRAIN_PATH,VID_PATH+'trainGray_Road_Only.m4v')\n",
    "TEST_VID = os.path.join(TEST_PATH,VID_PATH+'testGray_Road_Only.m4v')\n",
    "\n",
    "TRAIN_IMG = os.path.join(TRAIN_PATH,IMG_PATH)\n",
    "TEST_IMG = os.path.join(TEST_PATH,IMG_PATH)\n",
    "\n",
    "TRAIN_CSV = os.path.join(TRAIN_PATH,CSV_PATH)\n",
    "TEST_CSV = os.path.join(TEST_PATH,CSV_PATH)\n",
    "\n",
    "train_frames = 20400\n",
    "test_frames = 10798"
   ]
  },
  {
   "cell_type": "code",
   "execution_count": 3,
   "metadata": {},
   "outputs": [],
   "source": [
    "SPD_PATH = os.path.join(TRAIN_PATH, TXT_PATH)\n",
    "train_y = list(pd.read_csv(os.path.join(SPD_PATH, 'train.txt'), header=None, squeeze=True))\n",
    "assert(len(train_y)==train_frames)"
   ]
  },
  {
   "cell_type": "code",
   "execution_count": 4,
   "metadata": {},
   "outputs": [],
   "source": [
    "def dataset_constructor(video_loc, img_folder, tot_frames, csv_loc, dataset_type):\n",
    "    meta_dict = {}\n",
    "\n",
    "    tqdm.write('reading in video file...')\n",
    "    tot_frames = train_frames\n",
    "    cap = skvideo.io.vread(video_loc)\n",
    "     \n",
    "    tqdm.write('constructing dataset...')\n",
    "    for idx, frame in enumerate(tqdm(cap)):\n",
    "        img_path = os.path.join(img_folder, str(idx)+'.jpg')\n",
    "        frame_speed = float('NaN') if dataset_type == 'test' else train_y[idx]\n",
    "        meta_dict[idx] = [img_path, idx, frame_speed]\n",
    "        skvideo.io.vwrite(img_path, frame)\n",
    "    meta_df = pd.DataFrame.from_dict(meta_dict, orient='index')\n",
    "    meta_df.columns = ['image_path', 'image_index', 'speed']\n",
    "    \n",
    "    tqdm.write('writing meta to csv')\n",
    "    meta_df.to_csv(os.path.join(csv_loc, dataset_type+'RoadOnly_meta.csv'), index=False)\n",
    "    \n",
    "    return \"done dataset_constructor\""
   ]
  },
  {
   "cell_type": "code",
   "execution_count": 5,
   "metadata": {
    "scrolled": false
   },
   "outputs": [
    {
     "name": "stdout",
     "output_type": "stream",
     "text": [
      "reading in video file...\n"
     ]
    },
    {
     "name": "stderr",
     "output_type": "stream",
     "text": [
      "  0%|          | 2/20400 [00:00<30:34, 11.12it/s]"
     ]
    },
    {
     "name": "stdout",
     "output_type": "stream",
     "text": [
      "constructing dataset...\n"
     ]
    },
    {
     "name": "stderr",
     "output_type": "stream",
     "text": [
      "100%|██████████| 20400/20400 [31:54<00:00, 10.65it/s] \n"
     ]
    },
    {
     "name": "stdout",
     "output_type": "stream",
     "text": [
      "writing meta to csv\n"
     ]
    },
    {
     "data": {
      "text/plain": [
       "'done dataset_constructor'"
      ]
     },
     "execution_count": 5,
     "metadata": {},
     "output_type": "execute_result"
    }
   ],
   "source": [
    "# train data\n",
    "dataset_constructor(TRAIN_VID, TRAIN_IMG, train_frames, TRAIN_CSV, 'train')"
   ]
  },
  {
   "cell_type": "code",
   "execution_count": 6,
   "metadata": {},
   "outputs": [
    {
     "name": "stdout",
     "output_type": "stream",
     "text": [
      "reading in video file...\n"
     ]
    },
    {
     "name": "stderr",
     "output_type": "stream",
     "text": [
      "  0%|          | 2/10798 [00:00<12:04, 14.89it/s]"
     ]
    },
    {
     "name": "stdout",
     "output_type": "stream",
     "text": [
      "constructing dataset...\n"
     ]
    },
    {
     "name": "stderr",
     "output_type": "stream",
     "text": [
      "100%|██████████| 10798/10798 [13:27<00:00, 13.37it/s]\n"
     ]
    },
    {
     "name": "stdout",
     "output_type": "stream",
     "text": [
      "writing meta to csv\n"
     ]
    },
    {
     "data": {
      "text/plain": [
       "'done dataset_constructor'"
      ]
     },
     "execution_count": 6,
     "metadata": {},
     "output_type": "execute_result"
    }
   ],
   "source": [
    "# test data\n",
    "dataset_constructor(TEST_VID, TEST_IMG, test_frames, TEST_CSV, 'test')"
   ]
  },
  {
   "cell_type": "code",
   "execution_count": null,
   "metadata": {},
   "outputs": [],
   "source": [
    "train_meta = pd.read_csv(os.path.join(TRAIN_CSV, 'train_meta.csv'))\n",
    "assert(train_meta.shape[0] == train_frames)\n",
    "assert(train_meta.shape[1] == 3)"
   ]
  },
  {
   "cell_type": "code",
   "execution_count": null,
   "metadata": {},
   "outputs": [],
   "source": [
    "train_meta.head()"
   ]
  },
  {
   "cell_type": "code",
   "execution_count": null,
   "metadata": {},
   "outputs": [],
   "source": [
    "for i in range(50):\n",
    "    print('speed:',train_meta['speed'][i] )\n",
    "    img=mpimg.imread(train_meta['image_path'][i])\n",
    "    print('shape:', img.shape)\n",
    "#     plt.imshow(img)\n",
    "#     plt.show()"
   ]
  },
  {
   "cell_type": "code",
   "execution_count": null,
   "metadata": {},
   "outputs": [],
   "source": [
    "fig, ax = plt.subplots(figsize=(20,10))\n",
    "plt.plot(train_meta['speed'])\n",
    "plt.xlabel('image_index (or time since start)')\n",
    "plt.ylabel('speed')\n",
    "plt.title('Speed vs time')\n",
    "plt.show()"
   ]
  },
  {
   "cell_type": "code",
   "execution_count": null,
   "metadata": {},
   "outputs": [],
   "source": [
    "test_meta = pd.read_csv(os.path.join(TEST_CSV, 'test_meta.csv'))\n",
    "assert(test_meta.shape[0] == test_frames)\n",
    "assert(test_meta.shape[1] == 3)"
   ]
  },
  {
   "cell_type": "code",
   "execution_count": null,
   "metadata": {},
   "outputs": [],
   "source": [
    "test_meta.head()"
   ]
  },
  {
   "cell_type": "code",
   "execution_count": null,
   "metadata": {},
   "outputs": [],
   "source": [
    "for i in range(50):\n",
    "    print('speed:',test_meta['speed'][i] )\n",
    "    img=mpimg.imread(test_meta['image_path'][i])\n",
    "    print('shape:', img.shape)\n",
    "    plt.imshow(img)\n",
    "    plt.show()"
   ]
  },
  {
   "cell_type": "code",
   "execution_count": null,
   "metadata": {},
   "outputs": [],
   "source": []
  }
 ],
 "metadata": {
  "kernelspec": {
   "display_name": "Python 3",
   "language": "python",
   "name": "python3"
  },
  "language_info": {
   "codemirror_mode": {
    "name": "ipython",
    "version": 3
   },
   "file_extension": ".py",
   "mimetype": "text/x-python",
   "name": "python",
   "nbconvert_exporter": "python",
   "pygments_lexer": "ipython3",
   "version": "3.8.1"
  }
 },
 "nbformat": 4,
 "nbformat_minor": 2
}
