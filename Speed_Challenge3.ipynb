{
 "cells": [
  {
   "cell_type": "code",
   "execution_count": 1,
   "metadata": {},
   "outputs": [],
   "source": [
    "import numpy as np\n",
    "import cv2\n",
    "import sys\n",
    "np.set_printoptions(threshold=sys.maxsize)"
   ]
  },
  {
   "cell_type": "code",
   "execution_count": 2,
   "metadata": {},
   "outputs": [],
   "source": [
    "cap = cv2.VideoCapture('./train/trainGray.mp4')\n",
    "frameCount = int(cap.get(cv2.CAP_PROP_FRAME_COUNT))\n",
    "frameWidth = int(cap.get(cv2.CAP_PROP_FRAME_WIDTH))\n",
    "frameHeight = int(cap.get(cv2.CAP_PROP_FRAME_HEIGHT))\n",
    "\n",
    "# buf = np.empty((frameCount, frameHeight, frameWidth), np.dtype('uint8'))\n",
    "bufTemp = np.empty((frameCount, frameHeight * frameWidth), np.dtype('uint8'))\n",
    "\n",
    "fc = 0\n",
    "ret = True\n",
    "\n",
    "# print(buf[fc].shape)\n",
    "# print(np.array(cap.read())[1].shape)\n",
    "# x = np.array(cap.read())[1]\n",
    "# print(x[:,:,0].shape)\n",
    "\n",
    "while (fc < frameCount  and ret):\n",
    "#     ret, x = np.array(cap.read())\n",
    "    ret, x = np.array(cap.read())\n",
    "#     buf[fc] = x[:,:,0]\n",
    "    x = x[:,:,0]\n",
    "    x.shape = frameHeight*frameWidth\n",
    "    bufTemp[fc] = x\n",
    "    fc += 1\n",
    "\n",
    "cap.release()\n",
    "\n",
    "x = bufTemp[0, 0:frameHeight*frameWidth]\n",
    "x.shape = (frameHeight, frameWidth)"
   ]
  },
  {
   "cell_type": "code",
   "execution_count": 23,
   "metadata": {},
   "outputs": [],
   "source": [
    "y = np.loadtxt('./train/train.txt', np.dtype('float'))\n",
    "theta = np.zeros(((frameHeight*frameWidth)+1), np.dtype('int16'))\n",
    "m = frameHeight*frameWidth\n",
    "lmbda = .01\n",
    "alpha = .01\n",
    "loopCount = 5\n",
    "costArr = np.zeros(loopCount, np.dtype('float'))"
   ]
  },
  {
   "cell_type": "code",
   "execution_count": 24,
   "metadata": {
    "scrolled": true
   },
   "outputs": [
    {
     "name": "stdout",
     "output_type": "stream",
     "text": [
      "0\n",
      "1\n",
      "2\n",
      "3\n",
      "4\n",
      "[3.61257717 3.60492989 3.59946637 3.59518981 3.59163755]\n"
     ]
    }
   ],
   "source": [
    "for i in range(loopCount):\n",
    "    cost = 0\n",
    "    for j in range(1,frameCount):\n",
    "        firstFrame = np.array(bufTemp[j-1], dtype='int16')\n",
    "        secondFrame = np.array(bufTemp[j], dtype='int16')\n",
    "        x = np.empty(((frameHeight*frameWidth)+1), np.dtype('int16'))\n",
    "        x[0] = 1\n",
    "        x[1:(frameHeight*frameWidth)+1] = secondFrame - firstFrame\n",
    "        mean = np.mean(x)\n",
    "        x = x - mean\n",
    "        x = x/np.std(x)\n",
    "#         grad = np.sum((np.dot(x, theta) - y[i])*x)/m\n",
    "        grad = ((np.dot(x, theta) - y[j])*x)/m\n",
    "        grad[1:len(grad)] = grad[1:len(grad)] + ((lmbda/m)*theta[1:len(theta)])\n",
    "        cost = cost + ((np.dot(x, theta) - y[j])**2)/2\n",
    "        theta = theta - (alpha*grad)\n",
    "#     for j in range(1,frameCount):\n",
    "#         firstFrame = np.array(bufTemp[j-1], dtype='int16')\n",
    "#         secondFrame = np.array(bufTemp[j], dtype='int16')\n",
    "#         x = np.empty(((frameHeight*frameWidth)+1), np.dtype('int16'))\n",
    "#         x[0] = 1\n",
    "#         x[1:(frameHeight*frameWidth)+1] = secondFrame - firstFrame\n",
    "#         mean = np.mean(x)\n",
    "#         x = x - mean\n",
    "#         x = x/np.std(x)\n",
    "#         cost = cost + (((np.dot(x, theta) - y[j])**2)/2)\n",
    "    \n",
    "    print(i)\n",
    "    costArr[i] = cost/(2*m)\n",
    "print(costArr)"
   ]
  },
  {
   "cell_type": "code",
   "execution_count": 10,
   "metadata": {},
   "outputs": [
    {
     "name": "stdout",
     "output_type": "stream",
     "text": [
      "[ 5 10 15 16 20  4]\n"
     ]
    }
   ],
   "source": [
    "a = np.array([1,5,10,15,16,20])\n",
    "a = np.append(a, [4])\n",
    "print(a[1:7])\n",
    "# np.mean(a)"
   ]
  },
  {
   "cell_type": "code",
   "execution_count": 11,
   "metadata": {},
   "outputs": [
    {
     "name": "stdout",
     "output_type": "stream",
     "text": [
      "[ 1  4  9 16 25 36]\n"
     ]
    }
   ],
   "source": [
    "a = np.array([1,5,10,15,16,20])\n",
    "b = np.array([1,2,3,4,5,6])\n",
    "c = np.dot(a,b)\n",
    "# print(np.dot(a,b))\n",
    "d = np.array([1,2,3,4,5,6])\n",
    "e = c * d\n",
    "# print(c)\n",
    "# print(e)\n",
    "print(b*d)"
   ]
  },
  {
   "cell_type": "code",
   "execution_count": 12,
   "metadata": {},
   "outputs": [
    {
     "data": {
      "text/plain": [
       "301"
      ]
     },
     "execution_count": 12,
     "metadata": {},
     "output_type": "execute_result"
    }
   ],
   "source": [
    "120+80+60+30+10+1"
   ]
  }
 ],
 "metadata": {
  "kernelspec": {
   "display_name": "Python 3",
   "language": "python",
   "name": "python3"
  },
  "language_info": {
   "codemirror_mode": {
    "name": "ipython",
    "version": 3
   },
   "file_extension": ".py",
   "mimetype": "text/x-python",
   "name": "python",
   "nbconvert_exporter": "python",
   "pygments_lexer": "ipython3",
   "version": "3.8.1"
  }
 },
 "nbformat": 4,
 "nbformat_minor": 2
}
