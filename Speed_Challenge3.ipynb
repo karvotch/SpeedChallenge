{
 "cells": [
  {
   "cell_type": "code",
   "execution_count": null,
   "metadata": {},
   "outputs": [],
   "source": [
    "import numpy as np\n",
    "import cv2\n",
    "import sys\n",
    "np.set_printoptions(threshold=sys.maxsize)"
   ]
  },
  {
   "cell_type": "code",
   "execution_count": null,
   "metadata": {},
   "outputs": [],
   "source": [
    "cap = cv2.VideoCapture('./train/trainGray.mp4')\n",
    "frameCount = int(cap.get(cv2.CAP_PROP_FRAME_COUNT))\n",
    "frameWidth = int(cap.get(cv2.CAP_PROP_FRAME_WIDTH))\n",
    "frameHeight = int(cap.get(cv2.CAP_PROP_FRAME_HEIGHT))\n",
    "\n",
    "# buf = np.empty((frameCount, frameHeight, frameWidth), np.dtype('uint8'))\n",
    "bufTemp = np.empty((frameCount, frameHeight * frameWidth), np.dtype('uint8'))\n",
    "\n",
    "fc = 0\n",
    "ret = True\n",
    "\n",
    "# print(buf[fc].shape)\n",
    "# print(np.array(cap.read())[1].shape)\n",
    "# x = np.array(cap.read())[1]\n",
    "# print(x[:,:,0].shape)\n",
    "\n",
    "while (fc < frameCount  and ret):\n",
    "#     ret, x = np.array(cap.read())\n",
    "    ret, x = np.array(cap.read())\n",
    "#     buf[fc] = x[:,:,0]\n",
    "    x = x[:,:,0]\n",
    "    x.shape = frameHeight*frameWidth\n",
    "    bufTemp[fc] = x\n",
    "    fc += 1\n",
    "\n",
    "cap.release()\n",
    "\n",
    "x = bufTemp[0, 0:frameHeight*frameWidth]\n",
    "x.shape = (frameHeight, frameWidth)"
   ]
  },
  {
   "cell_type": "code",
   "execution_count": null,
   "metadata": {},
   "outputs": [],
   "source": [
    "y = np.loadtxt('./train/train.txt', np.dtype('float'))\n",
    "theta = np.zeros(((frameHeight*frameWidth)+1), np.dtype('int16'))\n",
    "# m = frameHeight*frameWidth\n",
    "m = frameCount-1\n",
    "alpha = [0,0.01,0.02,0.04,0.08,0.16,0.32,0.64,1.28,2.56,5.12,10.24]\n",
    "lmbda = [0,0.01,0.02,0.04,0.08,0.16,0.32,0.64,1.28,2.56,5.12,10.24]\n",
    "alpLmbTheta = np.zeros((len(alpha), len(lmbda), (frameHeight*frameWidth)+1), np.dtype('int16'))\n",
    "alpLmbCost = np.zeros((len(alpha), len(lmbda)), np.dtype('float'))\n",
    "loopCount = 5\n",
    "costArr = np.zeros((loopCount), np.dtype('float'))"
   ]
  },
  {
   "cell_type": "code",
   "execution_count": null,
   "metadata": {
    "scrolled": true
   },
   "outputs": [],
   "source": [
    "for idx, alp in enumerate(alpha):\n",
    "    for idx2, lmbd in enumerate(lmbda):\n",
    "        for i in range(loopCount):\n",
    "            cost = 0\n",
    "            for j in range(1,frameCount):\n",
    "                firstFrame = np.array(bufTemp[j-1], dtype='int16')\n",
    "                secondFrame = np.array(bufTemp[j], dtype='int16')\n",
    "                x = np.empty(((frameHeight*frameWidth)+1), np.dtype('int16'))\n",
    "                x[0] = 1\n",
    "                x[1:(frameHeight*frameWidth)+1] = secondFrame - firstFrame\n",
    "                x = np.absolute(x)\n",
    "                mean = np.mean(x)\n",
    "                x = x - mean\n",
    "                x = x/np.std(x)\n",
    "        #         grad = np.sum((np.dot(x, theta) - y[i])*x)/m\n",
    "#                 grad = ((np.dot(x, theta) - y[j])*x)/m\n",
    "                grad = ((np.dot(x, alpLmbTheta[idx, idx2]) - y[j])*x)/m\n",
    "#                 grad[1:len(grad)] = grad[1:len(grad)] + ((lmbda/m)*theta[1:len(theta)])\n",
    "                grad[1:len(grad)] = grad[1:len(grad)] + ((lmbda/m)*alpLmbTheta[idx,idx2][1:len(theta)])\n",
    "#                 cost = cost + ((np.dot(x, theta) - y[j])**2)/2\n",
    "                cost = cost + ((np.dot(x, alpLmbTheta[idx, idx2]) - y[j])**2)/2\n",
    "#                 theta = theta - (alpha*grad)\n",
    "                alpLmbTheta[idx,idx2] = alpLmbTheta[idx,idx2] - (alpha*grad)\n",
    "#     for j in range(1,frameCount):\n",
    "#         firstFrame = np.array(bufTemp[j-1], dtype='int16')\n",
    "#         secondFrame = np.array(bufTemp[j], dtype='int16')\n",
    "#         x = np.empty(((frameHeight*frameWidth)+1), np.dtype('int16'))\n",
    "#         x[0] = 1\n",
    "#         x[1:(frameHeight*frameWidth)+1] = secondFrame - firstFrame\n",
    "#         mean = np.mean(x)\n",
    "#         x = x - mean\n",
    "#         x = x/np.std(x)\n",
    "#         cost = cost + (((np.dot(x, theta) - y[j])**2)/2)\n",
    "            \n",
    "            print(i)\n",
    "            costArr[i] = cost/(2*m)\n",
    "print(costArr)"
   ]
  },
  {
   "cell_type": "code",
   "execution_count": null,
   "metadata": {},
   "outputs": [],
   "source": [
    "result = np.empty((frameCount), np.dtype('float'))\n",
    "\n",
    "for j in range(1,frameCount):\n",
    "    firstFrame = np.array(bufTemp[j-1], dtype='int16')\n",
    "    secondFrame = np.array(bufTemp[j], dtype='int16')\n",
    "    x = np.empty(((frameHeight*frameWidth)+1), np.dtype('int16'))\n",
    "    x[0] = 1\n",
    "    x[1:(frameHeight*frameWidth)+1] = secondFrame - firstFrame\n",
    "    x = np.absolute(x)\n",
    "    mean = np.mean(x)\n",
    "    x = x - mean\n",
    "    x = x/np.std(x)\n",
    "    result[j-1] = np.dot(x,theta)\n",
    "    \n",
    "result.tofile('./train/train2.txt',sep=\"\\n\",format=\"%s\")"
   ]
  },
  {
   "cell_type": "code",
   "execution_count": null,
   "metadata": {},
   "outputs": [],
   "source": [
    "cost2 = 0\n",
    "for j in range(1,frameCount):\n",
    "    cost2 = cost2 + (((result[j-1] - y[j])**2)/2)\n",
    "\n",
    "cost2 = cost2/(2*m)\n",
    "print(cost2)"
   ]
  },
  {
   "cell_type": "code",
   "execution_count": null,
   "metadata": {},
   "outputs": [],
   "source": [
    "result[frameCount-1], result[frameCount-2], result[1]"
   ]
  },
  {
   "cell_type": "code",
   "execution_count": null,
   "metadata": {},
   "outputs": [],
   "source": [
    "cost = 0\n",
    "for j in range(1,frameCount):\n",
    "    firstFrame = np.array(bufTemp[j-1], dtype='int16')\n",
    "    secondFrame = np.array(bufTemp[j], dtype='int16')\n",
    "    x = np.empty(((frameHeight*frameWidth)+1), np.dtype('int16'))\n",
    "    x[0] = 1\n",
    "    x[1:(frameHeight*frameWidth)+1] = secondFrame - firstFrame\n",
    "    x = np.absolute(x)\n",
    "    mean = np.mean(x)\n",
    "    x = x - mean\n",
    "    x = x/np.std(x)\n",
    "    cost = cost + (((np.dot(x, theta) - y[j])**2)/2)\n",
    "\n",
    "cost = cost/(2*m)\n",
    "print(cost)"
   ]
  },
  {
   "cell_type": "code",
   "execution_count": null,
   "metadata": {},
   "outputs": [],
   "source": [
    "theta"
   ]
  },
  {
   "cell_type": "code",
   "execution_count": null,
   "metadata": {},
   "outputs": [],
   "source": [
    "# a = np.array([1,5,10,15,16,20])\n",
    "a = np.append(a, [4])\n",
    "print(a[1:7])\n",
    "# np.mean(a)"
   ]
  },
  {
   "cell_type": "code",
   "execution_count": null,
   "metadata": {},
   "outputs": [],
   "source": [
    "a = np.array([1,5,10,15,16,20])\n",
    "b = np.array([1,2,3,4,5,6])\n",
    "c = np.dot(a,b)\n",
    "# print(np.dot(a,b))\n",
    "d = np.array([1,2,3,4,5,6])\n",
    "e = c * d\n",
    "# print(c)\n",
    "# print(e)\n",
    "print(b*d)"
   ]
  },
  {
   "cell_type": "code",
   "execution_count": null,
   "metadata": {},
   "outputs": [],
   "source": [
    "120+80+60+30+10+1"
   ]
  },
  {
   "cell_type": "code",
   "execution_count": null,
   "metadata": {},
   "outputs": [],
   "source": [
    "z = np.array([.5,.6,1.2,5.6,2.6])\n",
    "print(a.shape)\n",
    "z.tofile('./example.txt',sep=\"\\n\",format=\"%s\")"
   ]
  },
  {
   "cell_type": "code",
   "execution_count": null,
   "metadata": {},
   "outputs": [],
   "source": [
    "print(frameCount)"
   ]
  },
  {
   "cell_type": "code",
   "execution_count": null,
   "metadata": {},
   "outputs": [],
   "source": [
    "# Notes:\n",
    "# 1:\n",
    "# [2.15685577 1.60758375 1.4533589  1.34064044 1.25003128]\n",
    "# 15.741795713055234\n",
    "\n",
    "# 2:\n",
    "\n"
   ]
  }
 ],
 "metadata": {
  "kernelspec": {
   "display_name": "Python 3",
   "language": "python",
   "name": "python3"
  },
  "language_info": {
   "codemirror_mode": {
    "name": "ipython",
    "version": 3
   },
   "file_extension": ".py",
   "mimetype": "text/x-python",
   "name": "python",
   "nbconvert_exporter": "python",
   "pygments_lexer": "ipython3",
   "version": "3.8.1"
  }
 },
 "nbformat": 4,
 "nbformat_minor": 2
}
